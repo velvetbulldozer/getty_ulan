{
 "cells": [
  {
   "cell_type": "markdown",
   "id": "75b1ac60",
   "metadata": {
    "heading_collapsed": true
   },
   "source": [
    "# Use the Getty SPARQL endpoint to correct data\n",
    "- testrun @ 2023-06-16 and added code on 2023-07-03, 2024-05-20 through 2024-06-03\n",
    "- SPARQL (“SPARQL Protocol And RDF Query Language”) is a W3C standard for querying RDF and can be used to express queries across diverse data sources, whether the data is stored natively as RDF or viewed as RDF via middleware\n",
    "- SPARQLWrapper is a simple Python wrapper around a SPARQL service for remote query execution. Not only does it enable us to write more complex queries to extract information from RDF than those exposed through a library like rdflib, it can also convert query results into other formats like JSON and CSV!"
   ]
  },
  {
   "cell_type": "markdown",
   "id": "64f7dc36",
   "metadata": {
    "ExecuteTime": {
     "end_time": "2023-06-16T18:48:22.593262Z",
     "start_time": "2023-06-16T18:48:22.593262Z"
    },
    "hidden": true
   },
   "source": [
    "## Literature\n",
    "- https://rebeccabilbro.github.io/sparql-from-python/\n",
    "- https://groups.google.com/g/gettyvocablod/c/mSnqx3rd8lM/m/LKPstWJyAwAJ\n",
    "- https://sparqlwrapper.readthedocs.io/en/stable/main.html\n",
    "- https://github.com/RDFLib/sparqlwrapper/blob/master/scripts/example.py\n",
    "\n",
    "\n",
    "## CSV example\n",
    "```sparql.setReturnFormat(CSV)\n",
    "results = sparql.query().convert()\n",
    "print(results)'''```"
   ]
  },
  {
   "cell_type": "markdown",
   "id": "18a7f3db",
   "metadata": {
    "heading_collapsed": true
   },
   "source": [
    "# Import"
   ]
  },
  {
   "cell_type": "markdown",
   "id": "167b6d52",
   "metadata": {
    "heading_collapsed": true,
    "hidden": true
   },
   "source": [
    "## Import libraries"
   ]
  },
  {
   "cell_type": "code",
   "execution_count": 1,
   "id": "dc95bbcc",
   "metadata": {
    "ExecuteTime": {
     "end_time": "2024-06-03T16:02:00.367037Z",
     "start_time": "2024-06-03T16:01:59.788154Z"
    },
    "hidden": true
   },
   "outputs": [],
   "source": [
    "# progress bar\n",
    "import tqdm\n",
    "\n",
    "# save and dump\n",
    "import pickle\n",
    "\n",
    "# data wranling\n",
    "import pandas as pd\n",
    "\n",
    "# use sparqlwrapper to access getty endpoints\n",
    "from SPARQLWrapper import SPARQLWrapper, JSON, CSV\n",
    "\n",
    "# surpress warnings, due to my code block of exploding and comparing lists\n",
    "import warnings\n",
    "warnings.filterwarnings('ignore')"
   ]
  },
  {
   "cell_type": "markdown",
   "id": "1c0808ed",
   "metadata": {
    "heading_collapsed": true
   },
   "source": [
    "# Tests"
   ]
  },
  {
   "cell_type": "markdown",
   "id": "dbac1620",
   "metadata": {
    "heading_collapsed": true,
    "hidden": true
   },
   "source": [
    "## Test | SPARQLWrapper on wikipedia data"
   ]
  },
  {
   "cell_type": "code",
   "execution_count": 4,
   "id": "1b543b1d",
   "metadata": {
    "ExecuteTime": {
     "end_time": "2024-05-18T11:58:09.390774Z",
     "start_time": "2024-05-18T11:58:08.353972Z"
    },
    "hidden": true
   },
   "outputs": [
    {
     "data": {
      "text/html": [
       "<div>\n",
       "<style scoped>\n",
       "    .dataframe tbody tr th:only-of-type {\n",
       "        vertical-align: middle;\n",
       "    }\n",
       "\n",
       "    .dataframe tbody tr th {\n",
       "        vertical-align: top;\n",
       "    }\n",
       "\n",
       "    .dataframe thead th {\n",
       "        text-align: right;\n",
       "    }\n",
       "</style>\n",
       "<table border=\"1\" class=\"dataframe\">\n",
       "  <thead>\n",
       "    <tr style=\"text-align: right;\">\n",
       "      <th></th>\n",
       "      <th>item.type</th>\n",
       "      <th>item.value</th>\n",
       "      <th>itemLabel.xml:lang</th>\n",
       "      <th>itemLabel.type</th>\n",
       "      <th>itemLabel.value</th>\n",
       "    </tr>\n",
       "  </thead>\n",
       "  <tbody>\n",
       "    <tr>\n",
       "      <th>0</th>\n",
       "      <td>uri</td>\n",
       "      <td>http://www.wikidata.org/entity/Q249114</td>\n",
       "      <td>en</td>\n",
       "      <td>literal</td>\n",
       "      <td>salsa</td>\n",
       "    </tr>\n",
       "    <tr>\n",
       "      <th>1</th>\n",
       "      <td>uri</td>\n",
       "      <td>http://www.wikidata.org/entity/Q335016</td>\n",
       "      <td>en</td>\n",
       "      <td>literal</td>\n",
       "      <td>Tabasco sauce</td>\n",
       "    </tr>\n",
       "    <tr>\n",
       "      <th>2</th>\n",
       "      <td>uri</td>\n",
       "      <td>http://www.wikidata.org/entity/Q360459</td>\n",
       "      <td>en</td>\n",
       "      <td>literal</td>\n",
       "      <td>Adobo</td>\n",
       "    </tr>\n",
       "    <tr>\n",
       "      <th>3</th>\n",
       "      <td>uri</td>\n",
       "      <td>http://www.wikidata.org/entity/Q460439</td>\n",
       "      <td>en</td>\n",
       "      <td>literal</td>\n",
       "      <td>Blair's 16 Million Reserve</td>\n",
       "    </tr>\n",
       "    <tr>\n",
       "      <th>4</th>\n",
       "      <td>uri</td>\n",
       "      <td>http://www.wikidata.org/entity/Q736782</td>\n",
       "      <td>en</td>\n",
       "      <td>literal</td>\n",
       "      <td>Llajua</td>\n",
       "    </tr>\n",
       "  </tbody>\n",
       "</table>\n",
       "</div>"
      ],
      "text/plain": [
       "  item.type                              item.value itemLabel.xml:lang  \\\n",
       "0       uri  http://www.wikidata.org/entity/Q249114                 en   \n",
       "1       uri  http://www.wikidata.org/entity/Q335016                 en   \n",
       "2       uri  http://www.wikidata.org/entity/Q360459                 en   \n",
       "3       uri  http://www.wikidata.org/entity/Q460439                 en   \n",
       "4       uri  http://www.wikidata.org/entity/Q736782                 en   \n",
       "\n",
       "  itemLabel.type             itemLabel.value  \n",
       "0        literal                       salsa  \n",
       "1        literal               Tabasco sauce  \n",
       "2        literal                       Adobo  \n",
       "3        literal  Blair's 16 Million Reserve  \n",
       "4        literal                      Llajua  "
      ]
     },
     "execution_count": 4,
     "metadata": {},
     "output_type": "execute_result"
    }
   ],
   "source": [
    "sparql = SPARQLWrapper(\"https://query.wikidata.org/sparql\")\n",
    "\n",
    "# Below we SELECT both the hot sauce items & their labels\n",
    "# in the WHERE clause we specify that we want labels as well as items\n",
    "sparql.setQuery(\"\"\"\n",
    "SELECT ?item ?itemLabel\n",
    "\n",
    "WHERE {\n",
    "  ?item wdt:P279 wd:Q522171.\n",
    "  SERVICE wikibase:label { bd:serviceParam wikibase:language \"[AUTO_LANGUAGE],en\". }\n",
    "}\n",
    "\"\"\")\n",
    "# sparql.setReturnFormat(CSV)\n",
    "sparql.setReturnFormat(JSON)\n",
    "results = sparql.query().convert()\n",
    "\n",
    "results_df = pd.json_normalize(results['results']['bindings'])\n",
    "\n",
    "results_df.head()"
   ]
  },
  {
   "cell_type": "markdown",
   "id": "90ba0468",
   "metadata": {
    "heading_collapsed": true,
    "hidden": true
   },
   "source": [
    "## Test | SPARQLWrapper on ULAN endpoint, works\n",
    "- retrieves uri for all Person, Artist (ULAN facet)."
   ]
  },
  {
   "cell_type": "code",
   "execution_count": 5,
   "id": "f9645acc",
   "metadata": {
    "ExecuteTime": {
     "end_time": "2024-05-18T11:59:43.058977Z",
     "start_time": "2024-05-18T11:58:10.124757Z"
    },
    "hidden": true
   },
   "outputs": [
    {
     "name": "stdout",
     "output_type": "stream",
     "text": [
      "CPU times: total: 1.17 s\n",
      "Wall time: 15.1 s\n"
     ]
    }
   ],
   "source": [
    "%%time\n",
    "\n",
    "sparql = SPARQLWrapper(\"http://vocab.getty.edu/sparql\")\n",
    "\n",
    "# Below we SELECT both the hot sauce items & their labels\n",
    "# in the WHERE clause we specify that we want labels as well as items\n",
    "sparql.setQuery(\"\"\"\n",
    "SELECT * WHERE { ulan:500000002 skos:member ?p . }\n",
    "\"\"\")\n",
    "sparql.setReturnFormat(JSON)\n",
    "results = sparql.query().convert()"
   ]
  },
  {
   "cell_type": "code",
   "execution_count": 6,
   "id": "e5b2a21a",
   "metadata": {
    "ExecuteTime": {
     "end_time": "2024-05-18T11:59:43.114407Z",
     "start_time": "2024-05-18T11:59:43.114407Z"
    },
    "hidden": true
   },
   "outputs": [
    {
     "data": {
      "text/html": [
       "<div>\n",
       "<style scoped>\n",
       "    .dataframe tbody tr th:only-of-type {\n",
       "        vertical-align: middle;\n",
       "    }\n",
       "\n",
       "    .dataframe tbody tr th {\n",
       "        vertical-align: top;\n",
       "    }\n",
       "\n",
       "    .dataframe thead th {\n",
       "        text-align: right;\n",
       "    }\n",
       "</style>\n",
       "<table border=\"1\" class=\"dataframe\">\n",
       "  <thead>\n",
       "    <tr style=\"text-align: right;\">\n",
       "      <th></th>\n",
       "      <th>p.type</th>\n",
       "      <th>p.value</th>\n",
       "    </tr>\n",
       "  </thead>\n",
       "  <tbody>\n",
       "    <tr>\n",
       "      <th>0</th>\n",
       "      <td>uri</td>\n",
       "      <td>http://vocab.getty.edu/ulan/500771934</td>\n",
       "    </tr>\n",
       "    <tr>\n",
       "      <th>1</th>\n",
       "      <td>uri</td>\n",
       "      <td>http://vocab.getty.edu/ulan/500557119</td>\n",
       "    </tr>\n",
       "    <tr>\n",
       "      <th>2</th>\n",
       "      <td>uri</td>\n",
       "      <td>http://vocab.getty.edu/ulan/500632715</td>\n",
       "    </tr>\n",
       "    <tr>\n",
       "      <th>3</th>\n",
       "      <td>uri</td>\n",
       "      <td>http://vocab.getty.edu/ulan/500546545</td>\n",
       "    </tr>\n",
       "    <tr>\n",
       "      <th>4</th>\n",
       "      <td>uri</td>\n",
       "      <td>http://vocab.getty.edu/ulan/500108834</td>\n",
       "    </tr>\n",
       "    <tr>\n",
       "      <th>...</th>\n",
       "      <td>...</td>\n",
       "      <td>...</td>\n",
       "    </tr>\n",
       "    <tr>\n",
       "      <th>286915</th>\n",
       "      <td>uri</td>\n",
       "      <td>http://vocab.getty.edu/ulan/500077242</td>\n",
       "    </tr>\n",
       "    <tr>\n",
       "      <th>286916</th>\n",
       "      <td>uri</td>\n",
       "      <td>http://vocab.getty.edu/ulan/500426555</td>\n",
       "    </tr>\n",
       "    <tr>\n",
       "      <th>286917</th>\n",
       "      <td>uri</td>\n",
       "      <td>http://vocab.getty.edu/ulan/500548610</td>\n",
       "    </tr>\n",
       "    <tr>\n",
       "      <th>286918</th>\n",
       "      <td>uri</td>\n",
       "      <td>http://vocab.getty.edu/ulan/500602361</td>\n",
       "    </tr>\n",
       "    <tr>\n",
       "      <th>286919</th>\n",
       "      <td>uri</td>\n",
       "      <td>http://vocab.getty.edu/ulan/500106110</td>\n",
       "    </tr>\n",
       "  </tbody>\n",
       "</table>\n",
       "<p>286920 rows × 2 columns</p>\n",
       "</div>"
      ],
      "text/plain": [
       "       p.type                                p.value\n",
       "0         uri  http://vocab.getty.edu/ulan/500771934\n",
       "1         uri  http://vocab.getty.edu/ulan/500557119\n",
       "2         uri  http://vocab.getty.edu/ulan/500632715\n",
       "3         uri  http://vocab.getty.edu/ulan/500546545\n",
       "4         uri  http://vocab.getty.edu/ulan/500108834\n",
       "...       ...                                    ...\n",
       "286915    uri  http://vocab.getty.edu/ulan/500077242\n",
       "286916    uri  http://vocab.getty.edu/ulan/500426555\n",
       "286917    uri  http://vocab.getty.edu/ulan/500548610\n",
       "286918    uri  http://vocab.getty.edu/ulan/500602361\n",
       "286919    uri  http://vocab.getty.edu/ulan/500106110\n",
       "\n",
       "[286920 rows x 2 columns]"
      ]
     },
     "execution_count": 6,
     "metadata": {},
     "output_type": "execute_result"
    }
   ],
   "source": [
    "results_df = pd.json_normalize(results['results']['bindings'])\n",
    "results_df"
   ]
  },
  {
   "cell_type": "markdown",
   "id": "669ec698",
   "metadata": {},
   "source": [
    "# Getty SPARQL queries via SPARQLWrapper, all queries are successful"
   ]
  },
  {
   "cell_type": "markdown",
   "id": "c700cf0b",
   "metadata": {
    "heading_collapsed": true
   },
   "source": [
    "## ULAN | Full query, returns all subjects within ULAN\n",
    "- https://www.getty.edu/vow/ULANFullDisplay?find=&role=&nation=&page=1&subjectid=500000002\n",
    "\n",
    "**Persons, Artists (ULAN facet)** Note: Records under this level represent information for individuals involved in the creation or production of works of fine art or architecture, for example painters, sculptors, printmakers, and architects. Included are individuals whose biographies are well known (e.g., Rembrandt van Rijn (Dutch painter and printmaker, 1606-1669)) as well as anonymous creators with identified oeuvres but whose names are unknown and whose biography is surmised (e.g., Master of Alkmaar (North Netherlandish painter, active ca. 1490-ca. 1510)). Craftsmen, artisans, engineers, and others who create visual works are included here, even if their works are not considered fine art per se. People whose primary life roles were other than \"artist\" or \"architect,\" but who created or designed art or architecture in a professional or amateur capacity, are included here with a non-preferred relationship to this facet (e.g., Thomas Jefferson (American statesman, architect, and draftsman, 1743-1826)). Performance artists are included here. "
   ]
  },
  {
   "cell_type": "markdown",
   "id": "f8b7b247",
   "metadata": {
    "hidden": true
   },
   "source": [
    "### New SPARQL-query"
   ]
  },
  {
   "cell_type": "code",
   "execution_count": 12,
   "id": "08b6e8ca",
   "metadata": {
    "ExecuteTime": {
     "end_time": "2024-06-03T12:49:26.525853Z",
     "start_time": "2024-06-03T12:47:52.408860Z"
    },
    "hidden": true
   },
   "outputs": [
    {
     "name": "stdout",
     "output_type": "stream",
     "text": [
      "CPU times: total: 9.17 s\n",
      "Wall time: 1min 34s\n"
     ]
    },
    {
     "data": {
      "text/html": [
       "<div>\n",
       "<style scoped>\n",
       "    .dataframe tbody tr th:only-of-type {\n",
       "        vertical-align: middle;\n",
       "    }\n",
       "\n",
       "    .dataframe tbody tr th {\n",
       "        vertical-align: top;\n",
       "    }\n",
       "\n",
       "    .dataframe thead th {\n",
       "        text-align: right;\n",
       "    }\n",
       "</style>\n",
       "<table border=\"1\" class=\"dataframe\">\n",
       "  <thead>\n",
       "    <tr style=\"text-align: right;\">\n",
       "      <th></th>\n",
       "      <th>x.type</th>\n",
       "      <th>x.value</th>\n",
       "      <th>name.xml:lang</th>\n",
       "      <th>name.type</th>\n",
       "      <th>name.value</th>\n",
       "      <th>bio.type</th>\n",
       "      <th>bio.value</th>\n",
       "      <th>nationality.xml:lang</th>\n",
       "      <th>nationality.type</th>\n",
       "      <th>nationality.value</th>\n",
       "      <th>type.xml:lang</th>\n",
       "      <th>type.type</th>\n",
       "      <th>type.value</th>\n",
       "      <th>ScopeNote.xml:lang</th>\n",
       "      <th>ScopeNote.type</th>\n",
       "      <th>ScopeNote.value</th>\n",
       "    </tr>\n",
       "  </thead>\n",
       "  <tbody>\n",
       "    <tr>\n",
       "      <th>0</th>\n",
       "      <td>uri</td>\n",
       "      <td>http://vocab.getty.edu/ulan/500771934</td>\n",
       "      <td>nl</td>\n",
       "      <td>literal</td>\n",
       "      <td>Aa, Andries van der</td>\n",
       "      <td>literal</td>\n",
       "      <td>North Netherlandish painter, 1743-1776</td>\n",
       "      <td>en</td>\n",
       "      <td>literal</td>\n",
       "      <td>North Netherlandish</td>\n",
       "      <td>en</td>\n",
       "      <td>literal</td>\n",
       "      <td>painters (artists)</td>\n",
       "      <td>NaN</td>\n",
       "      <td>NaN</td>\n",
       "      <td>NaN</td>\n",
       "    </tr>\n",
       "    <tr>\n",
       "      <th>1</th>\n",
       "      <td>uri</td>\n",
       "      <td>http://vocab.getty.edu/ulan/500557119</td>\n",
       "      <td>nl</td>\n",
       "      <td>literal</td>\n",
       "      <td>Aabdaoui, Latif</td>\n",
       "      <td>literal</td>\n",
       "      <td>Moroccan graphic artist, 1958-</td>\n",
       "      <td>en</td>\n",
       "      <td>literal</td>\n",
       "      <td>Moroccan</td>\n",
       "      <td>en</td>\n",
       "      <td>literal</td>\n",
       "      <td>graphic artists</td>\n",
       "      <td>NaN</td>\n",
       "      <td>NaN</td>\n",
       "      <td>NaN</td>\n",
       "    </tr>\n",
       "    <tr>\n",
       "      <th>2</th>\n",
       "      <td>uri</td>\n",
       "      <td>http://vocab.getty.edu/ulan/500632715</td>\n",
       "      <td>nl</td>\n",
       "      <td>literal</td>\n",
       "      <td>Aa, Ben</td>\n",
       "      <td>literal</td>\n",
       "      <td>Dutch painter, born 1951</td>\n",
       "      <td>en</td>\n",
       "      <td>literal</td>\n",
       "      <td>Dutch (culture or style)</td>\n",
       "      <td>en</td>\n",
       "      <td>literal</td>\n",
       "      <td>painters (artists)</td>\n",
       "      <td>NaN</td>\n",
       "      <td>NaN</td>\n",
       "      <td>NaN</td>\n",
       "    </tr>\n",
       "    <tr>\n",
       "      <th>3</th>\n",
       "      <td>uri</td>\n",
       "      <td>http://vocab.getty.edu/ulan/500546545</td>\n",
       "      <td>nl</td>\n",
       "      <td>literal</td>\n",
       "      <td>Aaberg, Gunhild</td>\n",
       "      <td>literal</td>\n",
       "      <td>Danish ceramicist, 1939-</td>\n",
       "      <td>en</td>\n",
       "      <td>literal</td>\n",
       "      <td>Danish (culture or style)</td>\n",
       "      <td>en</td>\n",
       "      <td>literal</td>\n",
       "      <td>ceramicists</td>\n",
       "      <td>NaN</td>\n",
       "      <td>NaN</td>\n",
       "      <td>NaN</td>\n",
       "    </tr>\n",
       "    <tr>\n",
       "      <th>4</th>\n",
       "      <td>uri</td>\n",
       "      <td>http://vocab.getty.edu/ulan/500108834</td>\n",
       "      <td>NaN</td>\n",
       "      <td>literal</td>\n",
       "      <td>Aabergh, Gösta</td>\n",
       "      <td>literal</td>\n",
       "      <td>Norwegian architect, active mid-late 20th century</td>\n",
       "      <td>en</td>\n",
       "      <td>literal</td>\n",
       "      <td>Norwegian (culture)</td>\n",
       "      <td>en</td>\n",
       "      <td>literal</td>\n",
       "      <td>architects</td>\n",
       "      <td>en</td>\n",
       "      <td>literal</td>\n",
       "      <td>Norwegian architect.</td>\n",
       "    </tr>\n",
       "  </tbody>\n",
       "</table>\n",
       "</div>"
      ],
      "text/plain": [
       "  x.type                                x.value name.xml:lang name.type  \\\n",
       "0    uri  http://vocab.getty.edu/ulan/500771934            nl   literal   \n",
       "1    uri  http://vocab.getty.edu/ulan/500557119            nl   literal   \n",
       "2    uri  http://vocab.getty.edu/ulan/500632715            nl   literal   \n",
       "3    uri  http://vocab.getty.edu/ulan/500546545            nl   literal   \n",
       "4    uri  http://vocab.getty.edu/ulan/500108834           NaN   literal   \n",
       "\n",
       "            name.value bio.type  \\\n",
       "0  Aa, Andries van der  literal   \n",
       "1      Aabdaoui, Latif  literal   \n",
       "2              Aa, Ben  literal   \n",
       "3      Aaberg, Gunhild  literal   \n",
       "4       Aabergh, Gösta  literal   \n",
       "\n",
       "                                           bio.value nationality.xml:lang  \\\n",
       "0             North Netherlandish painter, 1743-1776                   en   \n",
       "1                     Moroccan graphic artist, 1958-                   en   \n",
       "2                           Dutch painter, born 1951                   en   \n",
       "3                           Danish ceramicist, 1939-                   en   \n",
       "4  Norwegian architect, active mid-late 20th century                   en   \n",
       "\n",
       "  nationality.type          nationality.value type.xml:lang type.type  \\\n",
       "0          literal        North Netherlandish            en   literal   \n",
       "1          literal                   Moroccan            en   literal   \n",
       "2          literal   Dutch (culture or style)            en   literal   \n",
       "3          literal  Danish (culture or style)            en   literal   \n",
       "4          literal        Norwegian (culture)            en   literal   \n",
       "\n",
       "           type.value ScopeNote.xml:lang ScopeNote.type       ScopeNote.value  \n",
       "0  painters (artists)                NaN            NaN                   NaN  \n",
       "1     graphic artists                NaN            NaN                   NaN  \n",
       "2  painters (artists)                NaN            NaN                   NaN  \n",
       "3         ceramicists                NaN            NaN                   NaN  \n",
       "4          architects                 en        literal  Norwegian architect.  "
      ]
     },
     "execution_count": 12,
     "metadata": {},
     "output_type": "execute_result"
    }
   ],
   "source": [
    "%%time\n",
    "\n",
    "# set sparql endpoint\n",
    "sparql = SPARQLWrapper(\"http://vocab.getty.edu/sparql\")\n",
    "\n",
    "# query\n",
    "sparql.setQuery(\"\"\"\n",
    "select ?x ?name ?bio ?nationality ?type ?ScopeNote \n",
    "{\n",
    "  ?x gvp:broaderExtended ulan:500000002. # Persons, Artists\n",
    "  optional {?x gvp:agentTypePreferred [gvp:prefLabelGVP [xl:literalForm ?type]]}\n",
    "  optional {?x foaf:focus [gvp:nationalityPreferred [gvp:prefLabelGVP [xl:literalForm ?nationality]]]}\n",
    "  optional {?x gvp:prefLabelGVP [xl:literalForm ?name]}\n",
    "  optional {?x foaf:focus [gvp:biographyPreferred [schema:description ?bio]]\n",
    "  optional {?x skos:scopeNote [dct:language gvp_lang:en; rdf:value ?ScopeNote]}}\n",
    "  }\n",
    "\"\"\")\n",
    "\n",
    "# returns results as a json\n",
    "sparql.setReturnFormat(JSON)\n",
    "results = sparql.query().convert()\n",
    "\n",
    "# traverses the json\n",
    "results_df = pd.json_normalize(results['results']['bindings'])\n",
    "results_df.head()"
   ]
  },
  {
   "cell_type": "code",
   "execution_count": 13,
   "id": "c4f11c14",
   "metadata": {
    "ExecuteTime": {
     "end_time": "2024-06-03T12:49:48.634774Z",
     "start_time": "2024-06-03T12:49:46.802455Z"
    },
    "hidden": true
   },
   "outputs": [],
   "source": [
    "with open('data_dumps/results_df_ulan_all.pickle', 'wb') as handle:\n",
    "    pickle.dump(results_df, handle, protocol=pickle.HIGHEST_PROTOCOL)\n",
    "    \n",
    "# with open('data_dumps/results_df_all_ulan.pickle', 'rb') as handle:\n",
    "#     df = pickle.load(handle)"
   ]
  },
  {
   "cell_type": "code",
   "execution_count": null,
   "id": "e805e8f5",
   "metadata": {
    "ExecuteTime": {
     "start_time": "2024-05-26T18:21:10.410Z"
    },
    "hidden": true
   },
   "outputs": [],
   "source": [
    "results_df.shape"
   ]
  },
  {
   "cell_type": "code",
   "execution_count": null,
   "id": "cb5b4b96",
   "metadata": {
    "ExecuteTime": {
     "start_time": "2024-05-26T18:21:11.171Z"
    },
    "hidden": true
   },
   "outputs": [],
   "source": [
    "%store results_df"
   ]
  },
  {
   "cell_type": "markdown",
   "id": "df1bad93",
   "metadata": {
    "heading_collapsed": true,
    "hidden": true
   },
   "source": [
    "### Initial query"
   ]
  },
  {
   "cell_type": "code",
   "execution_count": 19,
   "id": "d6266b2e",
   "metadata": {
    "ExecuteTime": {
     "end_time": "2024-05-18T10:31:00.211929Z",
     "start_time": "2024-05-18T10:30:59.623395Z"
    },
    "hidden": true,
    "scrolled": true
   },
   "outputs": [
    {
     "ename": "EndPointInternalError",
     "evalue": "EndPointInternalError: endpoint returned code 500 and response.",
     "output_type": "error",
     "traceback": [
      "\u001b[1;31m---------------------------------------------------------------------------\u001b[0m",
      "\u001b[1;31mHTTPError\u001b[0m                                 Traceback (most recent call last)",
      "\u001b[1;32m~\\Miniconda3\\lib\\site-packages\\SPARQLWrapper\\Wrapper.py\u001b[0m in \u001b[0;36m_query\u001b[1;34m(self)\u001b[0m\n\u001b[0;32m   1072\u001b[0m             \u001b[1;32melse\u001b[0m\u001b[1;33m:\u001b[0m\u001b[1;33m\u001b[0m\u001b[1;33m\u001b[0m\u001b[0m\n\u001b[1;32m-> 1073\u001b[1;33m                 \u001b[0mresponse\u001b[0m \u001b[1;33m=\u001b[0m \u001b[0murlopener\u001b[0m\u001b[1;33m(\u001b[0m\u001b[0mrequest\u001b[0m\u001b[1;33m)\u001b[0m\u001b[1;33m\u001b[0m\u001b[1;33m\u001b[0m\u001b[0m\n\u001b[0m\u001b[0;32m   1074\u001b[0m             \u001b[1;32mreturn\u001b[0m \u001b[0mresponse\u001b[0m\u001b[1;33m,\u001b[0m \u001b[0mself\u001b[0m\u001b[1;33m.\u001b[0m\u001b[0mreturnFormat\u001b[0m\u001b[1;33m\u001b[0m\u001b[1;33m\u001b[0m\u001b[0m\n",
      "\u001b[1;32m~\\Miniconda3\\lib\\urllib\\request.py\u001b[0m in \u001b[0;36murlopen\u001b[1;34m(url, data, timeout, cafile, capath, cadefault, context)\u001b[0m\n\u001b[0;32m    221\u001b[0m         \u001b[0mopener\u001b[0m \u001b[1;33m=\u001b[0m \u001b[0m_opener\u001b[0m\u001b[1;33m\u001b[0m\u001b[1;33m\u001b[0m\u001b[0m\n\u001b[1;32m--> 222\u001b[1;33m     \u001b[1;32mreturn\u001b[0m \u001b[0mopener\u001b[0m\u001b[1;33m.\u001b[0m\u001b[0mopen\u001b[0m\u001b[1;33m(\u001b[0m\u001b[0murl\u001b[0m\u001b[1;33m,\u001b[0m \u001b[0mdata\u001b[0m\u001b[1;33m,\u001b[0m \u001b[0mtimeout\u001b[0m\u001b[1;33m)\u001b[0m\u001b[1;33m\u001b[0m\u001b[1;33m\u001b[0m\u001b[0m\n\u001b[0m\u001b[0;32m    223\u001b[0m \u001b[1;33m\u001b[0m\u001b[0m\n",
      "\u001b[1;32m~\\Miniconda3\\lib\\urllib\\request.py\u001b[0m in \u001b[0;36mopen\u001b[1;34m(self, fullurl, data, timeout)\u001b[0m\n\u001b[0;32m    530\u001b[0m             \u001b[0mmeth\u001b[0m \u001b[1;33m=\u001b[0m \u001b[0mgetattr\u001b[0m\u001b[1;33m(\u001b[0m\u001b[0mprocessor\u001b[0m\u001b[1;33m,\u001b[0m \u001b[0mmeth_name\u001b[0m\u001b[1;33m)\u001b[0m\u001b[1;33m\u001b[0m\u001b[1;33m\u001b[0m\u001b[0m\n\u001b[1;32m--> 531\u001b[1;33m             \u001b[0mresponse\u001b[0m \u001b[1;33m=\u001b[0m \u001b[0mmeth\u001b[0m\u001b[1;33m(\u001b[0m\u001b[0mreq\u001b[0m\u001b[1;33m,\u001b[0m \u001b[0mresponse\u001b[0m\u001b[1;33m)\u001b[0m\u001b[1;33m\u001b[0m\u001b[1;33m\u001b[0m\u001b[0m\n\u001b[0m\u001b[0;32m    532\u001b[0m \u001b[1;33m\u001b[0m\u001b[0m\n",
      "\u001b[1;32m~\\Miniconda3\\lib\\urllib\\request.py\u001b[0m in \u001b[0;36mhttp_response\u001b[1;34m(self, request, response)\u001b[0m\n\u001b[0;32m    640\u001b[0m             response = self.parent.error(\n\u001b[1;32m--> 641\u001b[1;33m                 'http', request, response, code, msg, hdrs)\n\u001b[0m\u001b[0;32m    642\u001b[0m \u001b[1;33m\u001b[0m\u001b[0m\n",
      "\u001b[1;32m~\\Miniconda3\\lib\\urllib\\request.py\u001b[0m in \u001b[0;36merror\u001b[1;34m(self, proto, *args)\u001b[0m\n\u001b[0;32m    568\u001b[0m             \u001b[0margs\u001b[0m \u001b[1;33m=\u001b[0m \u001b[1;33m(\u001b[0m\u001b[0mdict\u001b[0m\u001b[1;33m,\u001b[0m \u001b[1;34m'default'\u001b[0m\u001b[1;33m,\u001b[0m \u001b[1;34m'http_error_default'\u001b[0m\u001b[1;33m)\u001b[0m \u001b[1;33m+\u001b[0m \u001b[0morig_args\u001b[0m\u001b[1;33m\u001b[0m\u001b[1;33m\u001b[0m\u001b[0m\n\u001b[1;32m--> 569\u001b[1;33m             \u001b[1;32mreturn\u001b[0m \u001b[0mself\u001b[0m\u001b[1;33m.\u001b[0m\u001b[0m_call_chain\u001b[0m\u001b[1;33m(\u001b[0m\u001b[1;33m*\u001b[0m\u001b[0margs\u001b[0m\u001b[1;33m)\u001b[0m\u001b[1;33m\u001b[0m\u001b[1;33m\u001b[0m\u001b[0m\n\u001b[0m\u001b[0;32m    570\u001b[0m \u001b[1;33m\u001b[0m\u001b[0m\n",
      "\u001b[1;32m~\\Miniconda3\\lib\\urllib\\request.py\u001b[0m in \u001b[0;36m_call_chain\u001b[1;34m(self, chain, kind, meth_name, *args)\u001b[0m\n\u001b[0;32m    502\u001b[0m             \u001b[0mfunc\u001b[0m \u001b[1;33m=\u001b[0m \u001b[0mgetattr\u001b[0m\u001b[1;33m(\u001b[0m\u001b[0mhandler\u001b[0m\u001b[1;33m,\u001b[0m \u001b[0mmeth_name\u001b[0m\u001b[1;33m)\u001b[0m\u001b[1;33m\u001b[0m\u001b[1;33m\u001b[0m\u001b[0m\n\u001b[1;32m--> 503\u001b[1;33m             \u001b[0mresult\u001b[0m \u001b[1;33m=\u001b[0m \u001b[0mfunc\u001b[0m\u001b[1;33m(\u001b[0m\u001b[1;33m*\u001b[0m\u001b[0margs\u001b[0m\u001b[1;33m)\u001b[0m\u001b[1;33m\u001b[0m\u001b[1;33m\u001b[0m\u001b[0m\n\u001b[0m\u001b[0;32m    504\u001b[0m             \u001b[1;32mif\u001b[0m \u001b[0mresult\u001b[0m \u001b[1;32mis\u001b[0m \u001b[1;32mnot\u001b[0m \u001b[1;32mNone\u001b[0m\u001b[1;33m:\u001b[0m\u001b[1;33m\u001b[0m\u001b[1;33m\u001b[0m\u001b[0m\n",
      "\u001b[1;32m~\\Miniconda3\\lib\\urllib\\request.py\u001b[0m in \u001b[0;36mhttp_error_default\u001b[1;34m(self, req, fp, code, msg, hdrs)\u001b[0m\n\u001b[0;32m    648\u001b[0m     \u001b[1;32mdef\u001b[0m \u001b[0mhttp_error_default\u001b[0m\u001b[1;33m(\u001b[0m\u001b[0mself\u001b[0m\u001b[1;33m,\u001b[0m \u001b[0mreq\u001b[0m\u001b[1;33m,\u001b[0m \u001b[0mfp\u001b[0m\u001b[1;33m,\u001b[0m \u001b[0mcode\u001b[0m\u001b[1;33m,\u001b[0m \u001b[0mmsg\u001b[0m\u001b[1;33m,\u001b[0m \u001b[0mhdrs\u001b[0m\u001b[1;33m)\u001b[0m\u001b[1;33m:\u001b[0m\u001b[1;33m\u001b[0m\u001b[1;33m\u001b[0m\u001b[0m\n\u001b[1;32m--> 649\u001b[1;33m         \u001b[1;32mraise\u001b[0m \u001b[0mHTTPError\u001b[0m\u001b[1;33m(\u001b[0m\u001b[0mreq\u001b[0m\u001b[1;33m.\u001b[0m\u001b[0mfull_url\u001b[0m\u001b[1;33m,\u001b[0m \u001b[0mcode\u001b[0m\u001b[1;33m,\u001b[0m \u001b[0mmsg\u001b[0m\u001b[1;33m,\u001b[0m \u001b[0mhdrs\u001b[0m\u001b[1;33m,\u001b[0m \u001b[0mfp\u001b[0m\u001b[1;33m)\u001b[0m\u001b[1;33m\u001b[0m\u001b[1;33m\u001b[0m\u001b[0m\n\u001b[0m\u001b[0;32m    650\u001b[0m \u001b[1;33m\u001b[0m\u001b[0m\n",
      "\u001b[1;31mHTTPError\u001b[0m: HTTP Error 500: Internal Server Error",
      "\nDuring handling of the above exception, another exception occurred:\n",
      "\u001b[1;31mEndPointInternalError\u001b[0m                     Traceback (most recent call last)",
      "\u001b[1;32m<timed exec>\u001b[0m in \u001b[0;36m<module>\u001b[1;34m\u001b[0m\n",
      "\u001b[1;32m~\\Miniconda3\\lib\\site-packages\\SPARQLWrapper\\Wrapper.py\u001b[0m in \u001b[0;36mquery\u001b[1;34m(self)\u001b[0m\n\u001b[0;32m   1105\u001b[0m             \u001b[1;33m:\u001b[0m\u001b[0mrtype\u001b[0m\u001b[1;33m:\u001b[0m \u001b[1;33m:\u001b[0m\u001b[1;32mclass\u001b[0m\u001b[1;33m:\u001b[0m\u001b[0;31m`\u001b[0m\u001b[0mQueryResult\u001b[0m\u001b[0;31m`\u001b[0m \u001b[0minstance\u001b[0m\u001b[1;33m\u001b[0m\u001b[1;33m\u001b[0m\u001b[0m\n\u001b[0;32m   1106\u001b[0m         \"\"\"\n\u001b[1;32m-> 1107\u001b[1;33m         \u001b[1;32mreturn\u001b[0m \u001b[0mQueryResult\u001b[0m\u001b[1;33m(\u001b[0m\u001b[0mself\u001b[0m\u001b[1;33m.\u001b[0m\u001b[0m_query\u001b[0m\u001b[1;33m(\u001b[0m\u001b[1;33m)\u001b[0m\u001b[1;33m)\u001b[0m\u001b[1;33m\u001b[0m\u001b[1;33m\u001b[0m\u001b[0m\n\u001b[0m\u001b[0;32m   1108\u001b[0m \u001b[1;33m\u001b[0m\u001b[0m\n\u001b[0;32m   1109\u001b[0m     \u001b[1;32mdef\u001b[0m \u001b[0mqueryAndConvert\u001b[0m\u001b[1;33m(\u001b[0m\u001b[0mself\u001b[0m\u001b[1;33m)\u001b[0m\u001b[1;33m:\u001b[0m\u001b[1;33m\u001b[0m\u001b[1;33m\u001b[0m\u001b[0m\n",
      "\u001b[1;32m~\\Miniconda3\\lib\\site-packages\\SPARQLWrapper\\Wrapper.py\u001b[0m in \u001b[0;36m_query\u001b[1;34m(self)\u001b[0m\n\u001b[0;32m   1083\u001b[0m                 \u001b[1;32mraise\u001b[0m \u001b[0mURITooLong\u001b[0m\u001b[1;33m(\u001b[0m\u001b[0me\u001b[0m\u001b[1;33m.\u001b[0m\u001b[0mread\u001b[0m\u001b[1;33m(\u001b[0m\u001b[1;33m)\u001b[0m\u001b[1;33m)\u001b[0m\u001b[1;33m\u001b[0m\u001b[1;33m\u001b[0m\u001b[0m\n\u001b[0;32m   1084\u001b[0m             \u001b[1;32melif\u001b[0m \u001b[0me\u001b[0m\u001b[1;33m.\u001b[0m\u001b[0mcode\u001b[0m \u001b[1;33m==\u001b[0m \u001b[1;36m500\u001b[0m\u001b[1;33m:\u001b[0m\u001b[1;33m\u001b[0m\u001b[1;33m\u001b[0m\u001b[0m\n\u001b[1;32m-> 1085\u001b[1;33m                 \u001b[1;32mraise\u001b[0m \u001b[0mEndPointInternalError\u001b[0m\u001b[1;33m(\u001b[0m\u001b[0me\u001b[0m\u001b[1;33m.\u001b[0m\u001b[0mread\u001b[0m\u001b[1;33m(\u001b[0m\u001b[1;33m)\u001b[0m\u001b[1;33m)\u001b[0m\u001b[1;33m\u001b[0m\u001b[1;33m\u001b[0m\u001b[0m\n\u001b[0m\u001b[0;32m   1086\u001b[0m             \u001b[1;32melse\u001b[0m\u001b[1;33m:\u001b[0m\u001b[1;33m\u001b[0m\u001b[1;33m\u001b[0m\u001b[0m\n\u001b[0;32m   1087\u001b[0m                 \u001b[1;32mraise\u001b[0m \u001b[0me\u001b[0m\u001b[1;33m\u001b[0m\u001b[1;33m\u001b[0m\u001b[0m\n",
      "\u001b[1;31mEndPointInternalError\u001b[0m: EndPointInternalError: endpoint returned code 500 and response."
     ]
    }
   ],
   "source": [
    "%%time\n",
    "\n",
    "# set sparql endpoint\n",
    "sparql = SPARQLWrapper(\"http://vocab.getty.edu/sparql\")\n",
    "\n",
    "# query\n",
    "sparql.setQuery(\"\"\"\n",
    "PREFIX tgn: <http://vocab.getty.edu/tgn/>\n",
    "PREFIX gvp: <http://vocab.getty.edu/ontology#>\n",
    "PREFIX skos: <http://www.w3.org/2004/02/skos/core#>\n",
    "PREFIX dct: <http://purl.org/dc/terms/>\n",
    "PREFIX bibo: <http://purl.org/ontology/bibo/>\n",
    "PREFIX skosxl: <http://www.w3.org/2008/05/skos-xl#>\n",
    "PREFIX rdf: <http://www.w3.org/1999/02/22-rdf-syntax-ns#>\n",
    "PREFIX iso: <http://purl.org/iso25964/skos-thes#>\n",
    "PREFIX foaf: <http://xmlns.com/foaf/0.1/>\n",
    "PREFIX schema: <http://schema.org/>\n",
    "PREFIX aat: <http://vocab.getty.edu/aat/>\n",
    "PREFIX owl: <http://www.w3.org/2002/07/owl#>\n",
    "\n",
    "select ?p ?name ?birth ?death ?ScopeNote ?related ?rname ?rbirth ?rdeath ?relatedScopeNote\n",
    "{ ulan:500000002 skos:member ?p .\n",
    "optional {?p gvp:prefLabelGVP/xl:literalForm ?name;\n",
    "     \tfoaf:focus/gvp:biographyPreferred [\n",
    "       \tschema:description ?bio;\n",
    "       \tgvp:estStart ?birth].}\n",
    "optional { ?p gvp:prefLabelGVP/xl:literalForm ?name;\n",
    "     \tfoaf:focus/gvp:biographyPreferred [\n",
    "       \tschema:description ?bio;\n",
    "       \tgvp:estEnd ?death]. }\n",
    "optional {?p skos:related ?related . \n",
    "         \t?related skos:scopeNote [dct:language gvp_lang:en; \n",
    "rdf:value ?relatedScopeNote]}  \n",
    "optional {?related gvp:prefLabelGVP/xl:literalForm ?rname;\n",
    " \tfoaf:focus/gvp:biographyPreferred [\n",
    "       \tschema:description ?bio;\n",
    "       \tgvp:estStart ?rbirth].}\n",
    "optional { ?related gvp:prefLabelGVP/xl:literalForm ?rname;\n",
    "     \tfoaf:focus/gvp:biographyPreferred [\n",
    "       \tschema:description ?bio;\n",
    "       \tgvp:estEnd ?rdeath]. }\n",
    "optional {?p skos:scopeNote [dct:language gvp_lang:en; rdf:value ?ScopeNote]}}\n",
    "\"\"\")\n",
    "\n",
    "# returns results as a json\n",
    "sparql.setReturnFormat(JSON)\n",
    "\n",
    "results = sparql.query().convert()"
   ]
  },
  {
   "cell_type": "code",
   "execution_count": 18,
   "id": "45e0c0ed",
   "metadata": {
    "ExecuteTime": {
     "end_time": "2024-05-18T10:29:19.293921Z",
     "start_time": "2024-05-18T10:29:13.743899Z"
    },
    "hidden": true
   },
   "outputs": [
    {
     "data": {
      "text/html": [
       "<div>\n",
       "<style scoped>\n",
       "    .dataframe tbody tr th:only-of-type {\n",
       "        vertical-align: middle;\n",
       "    }\n",
       "\n",
       "    .dataframe tbody tr th {\n",
       "        vertical-align: top;\n",
       "    }\n",
       "\n",
       "    .dataframe thead th {\n",
       "        text-align: right;\n",
       "    }\n",
       "</style>\n",
       "<table border=\"1\" class=\"dataframe\">\n",
       "  <thead>\n",
       "    <tr style=\"text-align: right;\">\n",
       "      <th></th>\n",
       "      <th>p.type</th>\n",
       "      <th>p.value</th>\n",
       "      <th>bio.type</th>\n",
       "      <th>bio.value</th>\n",
       "      <th>name.xml:lang</th>\n",
       "      <th>name.type</th>\n",
       "      <th>name.value</th>\n",
       "      <th>birth.datatype</th>\n",
       "      <th>birth.type</th>\n",
       "      <th>birth.value</th>\n",
       "      <th>death.datatype</th>\n",
       "      <th>death.type</th>\n",
       "      <th>death.value</th>\n",
       "    </tr>\n",
       "  </thead>\n",
       "  <tbody>\n",
       "    <tr>\n",
       "      <th>0</th>\n",
       "      <td>uri</td>\n",
       "      <td>http://vocab.getty.edu/ulan/500771934</td>\n",
       "      <td>literal</td>\n",
       "      <td>North Netherlandish painter, 1743-1776</td>\n",
       "      <td>nl</td>\n",
       "      <td>literal</td>\n",
       "      <td>Aa, Andries van der</td>\n",
       "      <td>http://www.w3.org/2001/XMLSchema#gYear</td>\n",
       "      <td>literal</td>\n",
       "      <td>1743</td>\n",
       "      <td>http://www.w3.org/2001/XMLSchema#gYear</td>\n",
       "      <td>literal</td>\n",
       "      <td>1776</td>\n",
       "    </tr>\n",
       "    <tr>\n",
       "      <th>1</th>\n",
       "      <td>uri</td>\n",
       "      <td>http://vocab.getty.edu/ulan/500557119</td>\n",
       "      <td>literal</td>\n",
       "      <td>Moroccan graphic artist, 1958-</td>\n",
       "      <td>nl</td>\n",
       "      <td>literal</td>\n",
       "      <td>Aabdaoui, Latif</td>\n",
       "      <td>http://www.w3.org/2001/XMLSchema#gYear</td>\n",
       "      <td>literal</td>\n",
       "      <td>1958</td>\n",
       "      <td>http://www.w3.org/2001/XMLSchema#gYear</td>\n",
       "      <td>literal</td>\n",
       "      <td>2035</td>\n",
       "    </tr>\n",
       "    <tr>\n",
       "      <th>2</th>\n",
       "      <td>uri</td>\n",
       "      <td>http://vocab.getty.edu/ulan/500632715</td>\n",
       "      <td>literal</td>\n",
       "      <td>Dutch painter, born 1951</td>\n",
       "      <td>nl</td>\n",
       "      <td>literal</td>\n",
       "      <td>Aa, Ben</td>\n",
       "      <td>http://www.w3.org/2001/XMLSchema#gYear</td>\n",
       "      <td>literal</td>\n",
       "      <td>1951</td>\n",
       "      <td>http://www.w3.org/2001/XMLSchema#gYear</td>\n",
       "      <td>literal</td>\n",
       "      <td>2080</td>\n",
       "    </tr>\n",
       "    <tr>\n",
       "      <th>3</th>\n",
       "      <td>uri</td>\n",
       "      <td>http://vocab.getty.edu/ulan/500546545</td>\n",
       "      <td>literal</td>\n",
       "      <td>Danish ceramicist, 1939-</td>\n",
       "      <td>nl</td>\n",
       "      <td>literal</td>\n",
       "      <td>Aaberg, Gunhild</td>\n",
       "      <td>http://www.w3.org/2001/XMLSchema#gYear</td>\n",
       "      <td>literal</td>\n",
       "      <td>1939</td>\n",
       "      <td>http://www.w3.org/2001/XMLSchema#gYear</td>\n",
       "      <td>literal</td>\n",
       "      <td>2080</td>\n",
       "    </tr>\n",
       "    <tr>\n",
       "      <th>4</th>\n",
       "      <td>uri</td>\n",
       "      <td>http://vocab.getty.edu/ulan/500108834</td>\n",
       "      <td>literal</td>\n",
       "      <td>Norwegian architect, active mid-late 20th century</td>\n",
       "      <td>NaN</td>\n",
       "      <td>literal</td>\n",
       "      <td>Aabergh, Gösta</td>\n",
       "      <td>http://www.w3.org/2001/XMLSchema#gYear</td>\n",
       "      <td>literal</td>\n",
       "      <td>1920</td>\n",
       "      <td>http://www.w3.org/2001/XMLSchema#gYear</td>\n",
       "      <td>literal</td>\n",
       "      <td>2020</td>\n",
       "    </tr>\n",
       "  </tbody>\n",
       "</table>\n",
       "</div>"
      ],
      "text/plain": [
       "  p.type                                p.value bio.type  \\\n",
       "0    uri  http://vocab.getty.edu/ulan/500771934  literal   \n",
       "1    uri  http://vocab.getty.edu/ulan/500557119  literal   \n",
       "2    uri  http://vocab.getty.edu/ulan/500632715  literal   \n",
       "3    uri  http://vocab.getty.edu/ulan/500546545  literal   \n",
       "4    uri  http://vocab.getty.edu/ulan/500108834  literal   \n",
       "\n",
       "                                           bio.value name.xml:lang name.type  \\\n",
       "0             North Netherlandish painter, 1743-1776            nl   literal   \n",
       "1                     Moroccan graphic artist, 1958-            nl   literal   \n",
       "2                           Dutch painter, born 1951            nl   literal   \n",
       "3                           Danish ceramicist, 1939-            nl   literal   \n",
       "4  Norwegian architect, active mid-late 20th century           NaN   literal   \n",
       "\n",
       "            name.value                          birth.datatype birth.type  \\\n",
       "0  Aa, Andries van der  http://www.w3.org/2001/XMLSchema#gYear    literal   \n",
       "1      Aabdaoui, Latif  http://www.w3.org/2001/XMLSchema#gYear    literal   \n",
       "2              Aa, Ben  http://www.w3.org/2001/XMLSchema#gYear    literal   \n",
       "3      Aaberg, Gunhild  http://www.w3.org/2001/XMLSchema#gYear    literal   \n",
       "4       Aabergh, Gösta  http://www.w3.org/2001/XMLSchema#gYear    literal   \n",
       "\n",
       "  birth.value                          death.datatype death.type death.value  \n",
       "0        1743  http://www.w3.org/2001/XMLSchema#gYear    literal        1776  \n",
       "1        1958  http://www.w3.org/2001/XMLSchema#gYear    literal        2035  \n",
       "2        1951  http://www.w3.org/2001/XMLSchema#gYear    literal        2080  \n",
       "3        1939  http://www.w3.org/2001/XMLSchema#gYear    literal        2080  \n",
       "4        1920  http://www.w3.org/2001/XMLSchema#gYear    literal        2020  "
      ]
     },
     "execution_count": 18,
     "metadata": {},
     "output_type": "execute_result"
    }
   ],
   "source": [
    "# traverses the json\n",
    "results_df = pd.json_normalize(results['results']['bindings'])\n",
    "results_df.head()"
   ]
  },
  {
   "cell_type": "markdown",
   "id": "1b6ee01b",
   "metadata": {
    "heading_collapsed": true,
    "hidden": true
   },
   "source": [
    "### Load and save file as a pickle"
   ]
  },
  {
   "cell_type": "code",
   "execution_count": null,
   "id": "b51ef3da",
   "metadata": {
    "ExecuteTime": {
     "end_time": "2024-05-17T13:37:18.138420Z",
     "start_time": "2024-05-17T13:37:11.806179Z"
    },
    "hidden": true
   },
   "outputs": [],
   "source": [
    "# with open('result_json.pickle', 'wb') as handle:\n",
    "#     pickle.dump(results, handle, protocol=pickle.HIGHEST_PROTOCOL)\n",
    "\n",
    "# with open('result_json.pickle', 'rb') as handle:\n",
    "#     b = pickle.load(handle)\n",
    "\n",
    "# with open('results_df_all_ulan.pickle', 'wb') as handle:\n",
    "#     pickle.dump(results_df, handle, protocol=pickle.HIGHEST_PROTOCOL)\n",
    "\n",
    "with open('data_dumps/results_df_all_ulan.pickle', 'rb') as handle:\n",
    "    df = pickle.load(handle)"
   ]
  },
  {
   "cell_type": "code",
   "execution_count": null,
   "id": "4c6c4626",
   "metadata": {
    "ExecuteTime": {
     "end_time": "2024-05-17T13:37:20.481944Z",
     "start_time": "2024-05-17T13:37:20.462371Z"
    },
    "hidden": true
   },
   "outputs": [],
   "source": [
    "df.shape"
   ]
  },
  {
   "cell_type": "code",
   "execution_count": null,
   "id": "0da445e3",
   "metadata": {
    "ExecuteTime": {
     "end_time": "2024-05-17T13:37:21.147038Z",
     "start_time": "2024-05-17T13:37:21.106963Z"
    },
    "hidden": true
   },
   "outputs": [],
   "source": [
    "df.head()"
   ]
  },
  {
   "cell_type": "markdown",
   "id": "d5141194",
   "metadata": {
    "heading_collapsed": true
   },
   "source": [
    "## ULAN | Roman active painters between 1400 and 1800\n",
    "**Rome (inhabited place)** \n",
    "Note: City positioned on 7 hills over the swampy Tiber river area; one of the oldest continuously occupied sites in Europe. Archaeological evidence attests to human occupation of the area from ca. 14,000 years ago, but the dense layer of later debris obscures Palaeolithic and Neolithic sites. Was an Etruscan city by 8th cen. BCE, their kings expelled and republic established by 500 BCE; soon ruled vast area and was center of Empire from 31 BCE; declined when capital moved to Constantinople in 330 CE; revived under popes."
   ]
  },
  {
   "cell_type": "code",
   "execution_count": 16,
   "id": "d77b19d1",
   "metadata": {
    "ExecuteTime": {
     "end_time": "2024-06-03T12:53:09.069134Z",
     "start_time": "2024-06-03T12:53:06.222139Z"
    },
    "hidden": true
   },
   "outputs": [
    {
     "data": {
      "text/plain": [
       "(1348, 13)"
      ]
     },
     "execution_count": 16,
     "metadata": {},
     "output_type": "execute_result"
    }
   ],
   "source": [
    "# set sparql endpoint\n",
    "sparql = SPARQLWrapper(\"http://vocab.getty.edu/sparql\")\n",
    "\n",
    "# query\n",
    "sparql.setQuery(\"\"\"\n",
    "PREFIX tgn: <http://vocab.getty.edu/tgn/>\n",
    "PREFIX gvp: <http://vocab.getty.edu/ontology#>\n",
    "PREFIX skos: <http://www.w3.org/2004/02/skos/core#>\n",
    "PREFIX dct: <http://purl.org/dc/terms/>\n",
    "PREFIX bibo: <http://purl.org/ontology/bibo/>\n",
    "PREFIX skosxl: <http://www.w3.org/2008/05/skos-xl#>\n",
    "PREFIX rdf: <http://www.w3.org/1999/02/22-rdf-syntax-ns#>\n",
    "PREFIX iso: <http://purl.org/iso25964/skos-thes#>\n",
    "PREFIX foaf: <http://xmlns.com/foaf/0.1/>\n",
    "PREFIX schema: <http://schema.org/>\n",
    "PREFIX aat: <http://vocab.getty.edu/aat/>\n",
    "PREFIX owl: <http://www.w3.org/2002/07/owl#>\n",
    "\n",
    "\n",
    "SELECT ?id ?name ?bio ?birth ?death {\n",
    "{SELECT DISTINCT ?id\n",
    "         {?id foaf:focus/bio:event/(schema:location|(schema:location/gvp:broaderExtended)) tgn:7000874-place}}\n",
    "OPTIONAL { ?id gvp:prefLabelGVP/xl:literalForm ?name;\n",
    "          foaf:focus/gvp:biographyPreferred [\n",
    "          schema:description ?bio;\n",
    "          gvp:estStart ?birth] . }\n",
    "OPTIONAL { ?id gvp:prefLabelGVP/xl:literalForm ?name;\n",
    "          foaf:focus/gvp:biographyPreferred [\n",
    "\t\t  schema:description ?bio;\n",
    "          gvp:estEnd ?death] . }\n",
    "FILTER (\"1000\"^^xsd:gYear <= ?birth && ?birth <= \"1800\"^^xsd:gYear)\n",
    "}\n",
    "\n",
    "\"\"\")\n",
    "\n",
    "\n",
    "\n",
    "# returns results as a json\n",
    "sparql.setReturnFormat(JSON)\n",
    "results = sparql.query().convert()\n",
    "\n",
    "# traverses the json\n",
    "results_df = pd.json_normalize(results['results']['bindings'])\n",
    "results_df.shape"
   ]
  },
  {
   "cell_type": "code",
   "execution_count": null,
   "id": "95d24b15",
   "metadata": {
    "hidden": true
   },
   "outputs": [],
   "source": [
    "# dumps df as a pickle file\n",
    "with open('results_df_roman.pickle', 'wb') as handle:\n",
    "    pickle.dump(results_df, handle, protocol=pickle.HIGHEST_PROTOCOL)\n",
    "    \n",
    "# # reads pickle file\n",
    "# with open('results_df_roman.pickle', 'rb') as handle:\n",
    "#     df = pickle.load(handle)"
   ]
  },
  {
   "cell_type": "markdown",
   "id": "0e84c844",
   "metadata": {
    "hidden": true
   },
   "source": [
    "### Subselects data "
   ]
  },
  {
   "cell_type": "code",
   "execution_count": null,
   "id": "e1f17c15",
   "metadata": {
    "ExecuteTime": {
     "end_time": "2023-07-03T19:23:00.388186Z",
     "start_time": "2023-07-03T19:22:58.145732Z"
    },
    "hidden": true
   },
   "outputs": [],
   "source": [
    "# subset cols\n",
    "df = df[['related.value', 'rname.value', 'rbirth.value', 'rdeath.value']]\n",
    "\n",
    "# change datatype\n",
    "df['rbirth.value'] = df['rbirth.value'].astype(float)\n",
    "df['rdeath.value'] = df['rdeath.value'].astype(float)\n",
    "\n",
    "# get rid of floats, checked can be deleted\n",
    "df = df[(df['rdeath.value'].notnull()) &\n",
    "        (df['rbirth.value'].notnull())]\n",
    "\n",
    "# subselection on active painters\n",
    "df = df[(df['rdeath.value'].astype(int) < 1775) &\n",
    "        (df['rbirth.value'].astype(int) > 1400)]\n",
    "\n",
    "# split data and names\n",
    "df[['last_name','first_name','addition','comment']] = df['rname.value'].str.split(', ', expand=True)"
   ]
  },
  {
   "cell_type": "markdown",
   "id": "b8bd1f57",
   "metadata": {
    "heading_collapsed": true
   },
   "source": [
    "## ULAN | European active painters between 1400 and 1800\n",
    "**Europe (continent)** Note: Europe was an early home to Homo erectus, Neanderthal and modern Homo sapiens. Agricultural settlements arose in the 7th millennium BCE. Advanced civilizations developed here in the Mediterranean area with Asian and African influences. Modern European nations began to form after the fall of the Western Roman Empire in the fifth century CE. The late 20th and early 21st centuries have witnessed the formation and expansion of the European Union, a group of European nations allied for trade and some administrative purposes, such as a common currency. "
   ]
  },
  {
   "cell_type": "code",
   "execution_count": 17,
   "id": "a1193bf9",
   "metadata": {
    "ExecuteTime": {
     "end_time": "2024-06-03T12:53:14.810846Z",
     "start_time": "2024-06-03T12:53:12.157964Z"
    },
    "hidden": true
   },
   "outputs": [
    {
     "data": {
      "text/plain": [
       "(1284, 13)"
      ]
     },
     "execution_count": 17,
     "metadata": {},
     "output_type": "execute_result"
    }
   ],
   "source": [
    "# set sparql endpoint\n",
    "sparql = SPARQLWrapper(\"http://vocab.getty.edu/sparql\")\n",
    "\n",
    "# query\n",
    "sparql.setQuery(\"\"\"\n",
    "PREFIX tgn: <http://vocab.getty.edu/tgn/>\n",
    "PREFIX gvp: <http://vocab.getty.edu/ontology#>\n",
    "PREFIX skos: <http://www.w3.org/2004/02/skos/core#>\n",
    "PREFIX dct: <http://purl.org/dc/terms/>\n",
    "PREFIX bibo: <http://purl.org/ontology/bibo/>\n",
    "PREFIX skosxl: <http://www.w3.org/2008/05/skos-xl#>\n",
    "PREFIX rdf: <http://www.w3.org/1999/02/22-rdf-syntax-ns#>\n",
    "PREFIX iso: <http://purl.org/iso25964/skos-thes#>\n",
    "PREFIX foaf: <http://xmlns.com/foaf/0.1/>\n",
    "PREFIX schema: <http://schema.org/>\n",
    "PREFIX aat: <http://vocab.getty.edu/aat/>\n",
    "PREFIX owl: <http://www.w3.org/2002/07/owl#>\n",
    "\n",
    "\n",
    "SELECT ?id ?name ?bio ?birth ?death {\n",
    "{SELECT DISTINCT ?id\n",
    "         {?id foaf:focus/bio:event/(schema:location|(schema:location/gvp:broaderExtended)) tgn:7000874-place}}\n",
    "OPTIONAL { ?id gvp:prefLabelGVP/xl:literalForm ?name;\n",
    "          foaf:focus/gvp:biographyPreferred [\n",
    "          schema:description ?bio;\n",
    "          gvp:estStart ?birth] . }\n",
    "OPTIONAL { ?id gvp:prefLabelGVP/xl:literalForm ?name;\n",
    "          foaf:focus/gvp:biographyPreferred [\n",
    "\t\t  schema:description ?bio;\n",
    "          gvp:estEnd ?death] . }\n",
    "FILTER (\"1400\"^^xsd:gYear <= ?birth && ?birth <= \"1800\"^^xsd:gYear)}\n",
    "\n",
    "\"\"\")\n",
    "\n",
    "# returns results as a json\n",
    "sparql.setReturnFormat(JSON)\n",
    "results = sparql.query().convert()\n",
    "\n",
    "# traverses the json\n",
    "results_df = pd.json_normalize(results['results']['bindings'])\n",
    "results_df.shape"
   ]
  },
  {
   "cell_type": "code",
   "execution_count": null,
   "id": "0450b740",
   "metadata": {
    "hidden": true
   },
   "outputs": [],
   "source": [
    "with open('data_dumps/results_df_roman_painters_1400_1800.pickle', 'wb') as handle:\n",
    "    pickle.dump(results_df, handle, protocol=pickle.HIGHEST_PROTOCOL)"
   ]
  },
  {
   "cell_type": "markdown",
   "id": "4b0f2284",
   "metadata": {
    "ExecuteTime": {
     "end_time": "2023-07-16T06:41:34.702038Z",
     "start_time": "2023-07-16T06:41:34.694058Z"
    },
    "heading_collapsed": true
   },
   "source": [
    "## ULAN | Active between 1400 and 1750"
   ]
  },
  {
   "cell_type": "code",
   "execution_count": 11,
   "id": "a6a58caa",
   "metadata": {
    "ExecuteTime": {
     "end_time": "2024-06-03T12:47:40.804771Z",
     "start_time": "2024-06-03T12:46:47.727257Z"
    },
    "hidden": true
   },
   "outputs": [
    {
     "data": {
      "text/html": [
       "<div>\n",
       "<style scoped>\n",
       "    .dataframe tbody tr th:only-of-type {\n",
       "        vertical-align: middle;\n",
       "    }\n",
       "\n",
       "    .dataframe tbody tr th {\n",
       "        vertical-align: top;\n",
       "    }\n",
       "\n",
       "    .dataframe thead th {\n",
       "        text-align: right;\n",
       "    }\n",
       "</style>\n",
       "<table border=\"1\" class=\"dataframe\">\n",
       "  <thead>\n",
       "    <tr style=\"text-align: right;\">\n",
       "      <th></th>\n",
       "      <th>id.type</th>\n",
       "      <th>id.value</th>\n",
       "      <th>name.type</th>\n",
       "      <th>name.value</th>\n",
       "      <th>bio.type</th>\n",
       "      <th>bio.value</th>\n",
       "      <th>birth.datatype</th>\n",
       "      <th>birth.type</th>\n",
       "      <th>birth.value</th>\n",
       "      <th>death.datatype</th>\n",
       "      <th>death.type</th>\n",
       "      <th>death.value</th>\n",
       "      <th>name.xml:lang</th>\n",
       "    </tr>\n",
       "  </thead>\n",
       "  <tbody>\n",
       "    <tr>\n",
       "      <th>0</th>\n",
       "      <td>uri</td>\n",
       "      <td>http://vocab.getty.edu/ulan/500003194</td>\n",
       "      <td>literal</td>\n",
       "      <td>Dunthorne, James, II</td>\n",
       "      <td>literal</td>\n",
       "      <td>English portraitist, miniaturist, and caricatu...</td>\n",
       "      <td>http://www.w3.org/2001/XMLSchema#gYear</td>\n",
       "      <td>literal</td>\n",
       "      <td>1748</td>\n",
       "      <td>http://www.w3.org/2001/XMLSchema#gYear</td>\n",
       "      <td>literal</td>\n",
       "      <td>1793</td>\n",
       "      <td>NaN</td>\n",
       "    </tr>\n",
       "    <tr>\n",
       "      <th>1</th>\n",
       "      <td>uri</td>\n",
       "      <td>http://vocab.getty.edu/ulan/500000926</td>\n",
       "      <td>literal</td>\n",
       "      <td>Maynard, Thomas</td>\n",
       "      <td>literal</td>\n",
       "      <td>British painter, active 1777-1812</td>\n",
       "      <td>http://www.w3.org/2001/XMLSchema#gYear</td>\n",
       "      <td>literal</td>\n",
       "      <td>1747</td>\n",
       "      <td>http://www.w3.org/2001/XMLSchema#gYear</td>\n",
       "      <td>literal</td>\n",
       "      <td>1842</td>\n",
       "      <td>nl</td>\n",
       "    </tr>\n",
       "    <tr>\n",
       "      <th>2</th>\n",
       "      <td>uri</td>\n",
       "      <td>http://vocab.getty.edu/ulan/500003422</td>\n",
       "      <td>literal</td>\n",
       "      <td>Summers, S. N.</td>\n",
       "      <td>literal</td>\n",
       "      <td>British painter, active 1764-1806</td>\n",
       "      <td>http://www.w3.org/2001/XMLSchema#gYear</td>\n",
       "      <td>literal</td>\n",
       "      <td>1734</td>\n",
       "      <td>http://www.w3.org/2001/XMLSchema#gYear</td>\n",
       "      <td>literal</td>\n",
       "      <td>1836</td>\n",
       "      <td>NaN</td>\n",
       "    </tr>\n",
       "    <tr>\n",
       "      <th>3</th>\n",
       "      <td>uri</td>\n",
       "      <td>http://vocab.getty.edu/ulan/500000545</td>\n",
       "      <td>literal</td>\n",
       "      <td>Pye, John, I</td>\n",
       "      <td>literal</td>\n",
       "      <td>British engraver and printmaker, 1745-after 1773</td>\n",
       "      <td>http://www.w3.org/2001/XMLSchema#gYear</td>\n",
       "      <td>literal</td>\n",
       "      <td>1745</td>\n",
       "      <td>http://www.w3.org/2001/XMLSchema#gYear</td>\n",
       "      <td>literal</td>\n",
       "      <td>1773</td>\n",
       "      <td>NaN</td>\n",
       "    </tr>\n",
       "    <tr>\n",
       "      <th>4</th>\n",
       "      <td>uri</td>\n",
       "      <td>http://vocab.getty.edu/ulan/500000597</td>\n",
       "      <td>literal</td>\n",
       "      <td>Chair, R. B. de</td>\n",
       "      <td>literal</td>\n",
       "      <td>French miniaturist, active ca. 1785</td>\n",
       "      <td>http://www.w3.org/2001/XMLSchema#gYear</td>\n",
       "      <td>literal</td>\n",
       "      <td>1745</td>\n",
       "      <td>http://www.w3.org/2001/XMLSchema#gYear</td>\n",
       "      <td>literal</td>\n",
       "      <td>1845</td>\n",
       "      <td>en</td>\n",
       "    </tr>\n",
       "    <tr>\n",
       "      <th>...</th>\n",
       "      <td>...</td>\n",
       "      <td>...</td>\n",
       "      <td>...</td>\n",
       "      <td>...</td>\n",
       "      <td>...</td>\n",
       "      <td>...</td>\n",
       "      <td>...</td>\n",
       "      <td>...</td>\n",
       "      <td>...</td>\n",
       "      <td>...</td>\n",
       "      <td>...</td>\n",
       "      <td>...</td>\n",
       "      <td>...</td>\n",
       "    </tr>\n",
       "    <tr>\n",
       "      <th>9631</th>\n",
       "      <td>uri</td>\n",
       "      <td>http://vocab.getty.edu/ulan/500497944</td>\n",
       "      <td>literal</td>\n",
       "      <td>Pfeifer, Rochus</td>\n",
       "      <td>literal</td>\n",
       "      <td>Austrian master builder</td>\n",
       "      <td>http://www.w3.org/2001/XMLSchema#gYear</td>\n",
       "      <td>literal</td>\n",
       "      <td>1500</td>\n",
       "      <td>http://www.w3.org/2001/XMLSchema#gYear</td>\n",
       "      <td>literal</td>\n",
       "      <td>1785</td>\n",
       "      <td>NaN</td>\n",
       "    </tr>\n",
       "    <tr>\n",
       "      <th>9632</th>\n",
       "      <td>uri</td>\n",
       "      <td>http://vocab.getty.edu/ulan/500023060</td>\n",
       "      <td>literal</td>\n",
       "      <td>Elmer, Stephen</td>\n",
       "      <td>literal</td>\n",
       "      <td>British painter, ca.1714-1796</td>\n",
       "      <td>http://www.w3.org/2001/XMLSchema#gYear</td>\n",
       "      <td>literal</td>\n",
       "      <td>1704</td>\n",
       "      <td>http://www.w3.org/2001/XMLSchema#gYear</td>\n",
       "      <td>literal</td>\n",
       "      <td>1796</td>\n",
       "      <td>en</td>\n",
       "    </tr>\n",
       "    <tr>\n",
       "      <th>9633</th>\n",
       "      <td>uri</td>\n",
       "      <td>http://vocab.getty.edu/ulan/500778608</td>\n",
       "      <td>literal</td>\n",
       "      <td>Patterson, James</td>\n",
       "      <td>literal</td>\n",
       "      <td>American architect, died 1799</td>\n",
       "      <td>http://www.w3.org/2001/XMLSchema#gYear</td>\n",
       "      <td>literal</td>\n",
       "      <td>1700</td>\n",
       "      <td>http://www.w3.org/2001/XMLSchema#gYear</td>\n",
       "      <td>literal</td>\n",
       "      <td>1799</td>\n",
       "      <td>NaN</td>\n",
       "    </tr>\n",
       "    <tr>\n",
       "      <th>9634</th>\n",
       "      <td>uri</td>\n",
       "      <td>http://vocab.getty.edu/ulan/500580454</td>\n",
       "      <td>literal</td>\n",
       "      <td>Ernesti, Jordan</td>\n",
       "      <td>literal</td>\n",
       "      <td>German painter, active ca. 1720s</td>\n",
       "      <td>http://www.w3.org/2001/XMLSchema#gYear</td>\n",
       "      <td>literal</td>\n",
       "      <td>1680</td>\n",
       "      <td>http://www.w3.org/2001/XMLSchema#gYear</td>\n",
       "      <td>literal</td>\n",
       "      <td>1780</td>\n",
       "      <td>nl</td>\n",
       "    </tr>\n",
       "    <tr>\n",
       "      <th>9635</th>\n",
       "      <td>uri</td>\n",
       "      <td>http://vocab.getty.edu/ulan/500026901</td>\n",
       "      <td>literal</td>\n",
       "      <td>Chacón, Francisco</td>\n",
       "      <td>literal</td>\n",
       "      <td>Spanish painter, active 1474-ca. 1500</td>\n",
       "      <td>http://www.w3.org/2001/XMLSchema#gYear</td>\n",
       "      <td>literal</td>\n",
       "      <td>1454</td>\n",
       "      <td>http://www.w3.org/2001/XMLSchema#gYear</td>\n",
       "      <td>literal</td>\n",
       "      <td>1554</td>\n",
       "      <td>nl</td>\n",
       "    </tr>\n",
       "  </tbody>\n",
       "</table>\n",
       "<p>9636 rows × 13 columns</p>\n",
       "</div>"
      ],
      "text/plain": [
       "     id.type                               id.value name.type  \\\n",
       "0        uri  http://vocab.getty.edu/ulan/500003194   literal   \n",
       "1        uri  http://vocab.getty.edu/ulan/500000926   literal   \n",
       "2        uri  http://vocab.getty.edu/ulan/500003422   literal   \n",
       "3        uri  http://vocab.getty.edu/ulan/500000545   literal   \n",
       "4        uri  http://vocab.getty.edu/ulan/500000597   literal   \n",
       "...      ...                                    ...       ...   \n",
       "9631     uri  http://vocab.getty.edu/ulan/500497944   literal   \n",
       "9632     uri  http://vocab.getty.edu/ulan/500023060   literal   \n",
       "9633     uri  http://vocab.getty.edu/ulan/500778608   literal   \n",
       "9634     uri  http://vocab.getty.edu/ulan/500580454   literal   \n",
       "9635     uri  http://vocab.getty.edu/ulan/500026901   literal   \n",
       "\n",
       "                name.value bio.type  \\\n",
       "0     Dunthorne, James, II  literal   \n",
       "1          Maynard, Thomas  literal   \n",
       "2           Summers, S. N.  literal   \n",
       "3             Pye, John, I  literal   \n",
       "4          Chair, R. B. de  literal   \n",
       "...                    ...      ...   \n",
       "9631       Pfeifer, Rochus  literal   \n",
       "9632        Elmer, Stephen  literal   \n",
       "9633      Patterson, James  literal   \n",
       "9634       Ernesti, Jordan  literal   \n",
       "9635     Chacón, Francisco  literal   \n",
       "\n",
       "                                              bio.value  \\\n",
       "0     English portraitist, miniaturist, and caricatu...   \n",
       "1                     British painter, active 1777-1812   \n",
       "2                     British painter, active 1764-1806   \n",
       "3      British engraver and printmaker, 1745-after 1773   \n",
       "4                   French miniaturist, active ca. 1785   \n",
       "...                                                 ...   \n",
       "9631                            Austrian master builder   \n",
       "9632                      British painter, ca.1714-1796   \n",
       "9633                      American architect, died 1799   \n",
       "9634                   German painter, active ca. 1720s   \n",
       "9635              Spanish painter, active 1474-ca. 1500   \n",
       "\n",
       "                              birth.datatype birth.type birth.value  \\\n",
       "0     http://www.w3.org/2001/XMLSchema#gYear    literal        1748   \n",
       "1     http://www.w3.org/2001/XMLSchema#gYear    literal        1747   \n",
       "2     http://www.w3.org/2001/XMLSchema#gYear    literal        1734   \n",
       "3     http://www.w3.org/2001/XMLSchema#gYear    literal        1745   \n",
       "4     http://www.w3.org/2001/XMLSchema#gYear    literal        1745   \n",
       "...                                      ...        ...         ...   \n",
       "9631  http://www.w3.org/2001/XMLSchema#gYear    literal        1500   \n",
       "9632  http://www.w3.org/2001/XMLSchema#gYear    literal        1704   \n",
       "9633  http://www.w3.org/2001/XMLSchema#gYear    literal        1700   \n",
       "9634  http://www.w3.org/2001/XMLSchema#gYear    literal        1680   \n",
       "9635  http://www.w3.org/2001/XMLSchema#gYear    literal        1454   \n",
       "\n",
       "                              death.datatype death.type death.value  \\\n",
       "0     http://www.w3.org/2001/XMLSchema#gYear    literal        1793   \n",
       "1     http://www.w3.org/2001/XMLSchema#gYear    literal        1842   \n",
       "2     http://www.w3.org/2001/XMLSchema#gYear    literal        1836   \n",
       "3     http://www.w3.org/2001/XMLSchema#gYear    literal        1773   \n",
       "4     http://www.w3.org/2001/XMLSchema#gYear    literal        1845   \n",
       "...                                      ...        ...         ...   \n",
       "9631  http://www.w3.org/2001/XMLSchema#gYear    literal        1785   \n",
       "9632  http://www.w3.org/2001/XMLSchema#gYear    literal        1796   \n",
       "9633  http://www.w3.org/2001/XMLSchema#gYear    literal        1799   \n",
       "9634  http://www.w3.org/2001/XMLSchema#gYear    literal        1780   \n",
       "9635  http://www.w3.org/2001/XMLSchema#gYear    literal        1554   \n",
       "\n",
       "     name.xml:lang  \n",
       "0              NaN  \n",
       "1               nl  \n",
       "2              NaN  \n",
       "3              NaN  \n",
       "4               en  \n",
       "...            ...  \n",
       "9631           NaN  \n",
       "9632            en  \n",
       "9633           NaN  \n",
       "9634            nl  \n",
       "9635            nl  \n",
       "\n",
       "[9636 rows x 13 columns]"
      ]
     },
     "execution_count": 11,
     "metadata": {},
     "output_type": "execute_result"
    }
   ],
   "source": [
    "# set sparql endpoint\n",
    "sparql = SPARQLWrapper(\"http://vocab.getty.edu/sparql\")\n",
    "\n",
    "# query\n",
    "sparql.setQuery(\"\"\"\n",
    "PREFIX tgn: <http://vocab.getty.edu/tgn/>\n",
    "PREFIX gvp: <http://vocab.getty.edu/ontology#>\n",
    "PREFIX skos: <http://www.w3.org/2004/02/skos/core#>\n",
    "PREFIX dct: <http://purl.org/dc/terms/>\n",
    "PREFIX bibo: <http://purl.org/ontology/bibo/>\n",
    "PREFIX skosxl: <http://www.w3.org/2008/05/skos-xl#>\n",
    "PREFIX rdf: <http://www.w3.org/1999/02/22-rdf-syntax-ns#>\n",
    "PREFIX iso: <http://purl.org/iso25964/skos-thes#>\n",
    "PREFIX foaf: <http://xmlns.com/foaf/0.1/>\n",
    "PREFIX schema: <http://schema.org/>\n",
    "PREFIX aat: <http://vocab.getty.edu/aat/>\n",
    "PREFIX owl: <http://www.w3.org/2002/07/owl#>\n",
    "\n",
    "\n",
    "SELECT ?id ?name ?bio ?place ?birth ?death {\n",
    "{SELECT DISTINCT ?id\n",
    "         {?id foaf:focus/bio:event/(schema:location|(schema:location/gvp:broaderExtended)) ?place}}\n",
    "OPTIONAL { ?id gvp:prefLabelGVP/xl:literalForm ?name;\n",
    "          foaf:focus/gvp:biographyPreferred [\n",
    "          schema:description ?bio;\n",
    "          gvp:estStart ?birth] . }\n",
    "OPTIONAL { ?id gvp:prefLabelGVP/xl:literalForm ?name;\n",
    "          foaf:focus/gvp:biographyPreferred [\n",
    "\t\t  schema:description ?bio;\n",
    "          gvp:estEnd ?death] . }\n",
    "FILTER (\"1400\"^^xsd:gYear <= ?birth && ?birth <= \"1750\"^^xsd:gYear)}\n",
    "\"\"\")\n",
    "\n",
    "# returns results as a json\n",
    "sparql.setReturnFormat(JSON)\n",
    "results = sparql.query().convert()\n",
    "\n",
    "# traverses the json\n",
    "results_df = pd.json_normalize(results['results']['bindings'])\n",
    "results_df"
   ]
  },
  {
   "cell_type": "markdown",
   "id": "aabf06b6",
   "metadata": {
    "heading_collapsed": true
   },
   "source": [
    "## AAT | Associated Concepts Facet\n",
    "The AAT includes **generic terms, and associated dates, relationships, and other information about concepts related to or required to catalog, discover, and retrieve information about art, architecture, and other visual cultural heritage**, including related disciplines dealing with visual works, such as archaeology and conservation, where the works are of the type collected by art museums and repositories for visual cultural heritage, or that are architecture. It is our goal to be ever more inclusive of various cultures and their visual works. Also, in recognition of diverse collections found in art museums, the AAT contains terminology to describe objects and associated activities that are ceremonial or utilitarian in nature, but are not necessarily labeled as art according to traditional Western aesthetics. "
   ]
  },
  {
   "cell_type": "code",
   "execution_count": 8,
   "id": "ea3d1b15",
   "metadata": {
    "ExecuteTime": {
     "end_time": "2024-06-03T12:46:30.617174Z",
     "start_time": "2024-06-03T12:46:26.987910Z"
    },
    "hidden": true
   },
   "outputs": [
    {
     "name": "stdout",
     "output_type": "stream",
     "text": [
      "CPU times: total: 422 ms\n",
      "Wall time: 3.62 s\n"
     ]
    }
   ],
   "source": [
    "%%time\n",
    "# set sparql endpoint\n",
    "sparql = SPARQLWrapper(\"http://vocab.getty.edu/sparql\")\n",
    "\n",
    "# query\n",
    "sparql.setQuery(\"\"\"\n",
    "PREFIX tgn: <http://vocab.getty.edu/tgn/>\n",
    "PREFIX gvp: <http://vocab.getty.edu/ontology#>\n",
    "PREFIX skos: <http://www.w3.org/2004/02/skos/core#>\n",
    "PREFIX dct: <http://purl.org/dc/terms/>\n",
    "PREFIX bibo: <http://purl.org/ontology/bibo/>\n",
    "PREFIX skosxl: <http://www.w3.org/2008/05/skos-xl#>\n",
    "PREFIX rdf: <http://www.w3.org/1999/02/22-rdf-syntax-ns#>\n",
    "PREFIX iso: <http://purl.org/iso25964/skos-thes#>\n",
    "PREFIX foaf: <http://xmlns.com/foaf/0.1/>\n",
    "PREFIX schema: <http://schema.org/>\n",
    "PREFIX aat: <http://vocab.getty.edu/aat/>\n",
    "PREFIX owl: <http://www.w3.org/2002/07/owl#>\n",
    "\n",
    "select distinct ?Subject ?ScopeNote ?Term\n",
    "{\n",
    "  ?Subject gvp:broaderExtended aat:300264086. # Associated Concepts Facet\n",
    "   optional {?Subject skos:scopeNote [dct:language gvp_lang:en; rdf:value ?ScopeNote]}\n",
    "   optional {?Subject gvp:prefLabelGVP [xl:literalForm ?Term]}\n",
    "   }\n",
    "\"\"\")\n",
    "\n",
    "# returns results as a json\n",
    "sparql.setReturnFormat(JSON)\n",
    "results = sparql.query().convert()\n",
    "\n",
    "# traverses the json\n",
    "results_df = pd.json_normalize(results['results']['bindings'])\n",
    "results_df.head()"
   ]
  },
  {
   "cell_type": "code",
   "execution_count": 5,
   "id": "5e42d416",
   "metadata": {
    "ExecuteTime": {
     "end_time": "2024-06-02T08:55:40.230879Z",
     "start_time": "2024-06-02T08:55:40.223708Z"
    },
    "hidden": true
   },
   "outputs": [
    {
     "data": {
      "text/plain": [
       "(12983, 8)"
      ]
     },
     "execution_count": 5,
     "metadata": {},
     "output_type": "execute_result"
    }
   ],
   "source": [
    "results_df.shape"
   ]
  },
  {
   "cell_type": "code",
   "execution_count": 11,
   "id": "849619b9",
   "metadata": {
    "ExecuteTime": {
     "end_time": "2024-05-30T19:54:06.681106Z",
     "start_time": "2024-05-30T19:54:06.636680Z"
    },
    "hidden": true
   },
   "outputs": [
    {
     "name": "stdout",
     "output_type": "stream",
     "text": [
      "Stored 'results_df' (DataFrame)\n"
     ]
    }
   ],
   "source": [
    "%store results_df"
   ]
  },
  {
   "cell_type": "code",
   "execution_count": 10,
   "id": "801db885",
   "metadata": {
    "ExecuteTime": {
     "end_time": "2024-06-03T12:46:38.247816Z",
     "start_time": "2024-06-03T12:46:38.199576Z"
    },
    "hidden": true
   },
   "outputs": [],
   "source": [
    "with open('data_dumps/results_df_aat_300264086.pickle', 'wb') as handle:\n",
    "    pickle.dump(results_df, handle, protocol=pickle.HIGHEST_PROTOCOL)"
   ]
  },
  {
   "cell_type": "markdown",
   "id": "15387fb3",
   "metadata": {
    "heading_collapsed": true
   },
   "source": [
    "## TGN | All places, their names, long- and latitude, regions, continents, etc.\n",
    " A minimum **TGN record** contains a numeric ID, a name, a place in the hierarchy, and a place type. However, the data model includes dates, relationships, and other rich data. Most records include coordinates. TGN focuses on the historical world and places necessary for cataloging and discovery of visual works. It is not intended to be comprehensive. Current areas of TGN development include 1) adding archaeological sites, lost sites, and other historical sites, particularly Pre-Columbian places and places in Asia, Middle East, Africa, and others, and 2) building hierarchies for historical nations and empires. "
   ]
  },
  {
   "cell_type": "code",
   "execution_count": 125,
   "id": "26327646",
   "metadata": {
    "ExecuteTime": {
     "end_time": "2024-06-03T17:59:50.828993Z",
     "start_time": "2024-06-03T17:56:48.034105Z"
    },
    "hidden": true
   },
   "outputs": [
    {
     "name": "stdout",
     "output_type": "stream",
     "text": [
      "query done.\n",
      "results converted.\n",
      "CPU times: total: 25 s\n",
      "Wall time: 3min 2s\n"
     ]
    },
    {
     "data": {
      "text/plain": [
       "(557429, 15)"
      ]
     },
     "execution_count": 125,
     "metadata": {},
     "output_type": "execute_result"
    }
   ],
   "source": [
    "%%time\n",
    "# set sparql endpoint\n",
    "sparql = SPARQLWrapper(\"http://vocab.getty.edu/sparql\")\n",
    "\n",
    "# query\n",
    "sparql.setQuery(\"\"\"\n",
    "select ?tgn_id ?city_name ?lat ?long ?parentstring ?broader_parentstring {{\n",
    "  ?tgn_id skos:inScheme tgn: ; }\n",
    "OPTIONAL { ?tgn_id foaf:focus [wgs:lat ?lat; wgs:long ?long];\n",
    "    gvp:prefLabelGVP [xl:literalForm ?city_name].}\n",
    "OPTIONAL { ?tgn_id gvp:parentString ?parentstring. }\n",
    "OPTIONAL { ?tgn_id gvp:broaderPartitive ?x .\n",
    "           ?x gvp:parentString ?broader_parentstring}\n",
    "} \n",
    "\"\"\")\n",
    "\n",
    "print(f\"query done.\")\n",
    "\n",
    "# returns results as a json\n",
    "sparql.setReturnFormat(JSON)\n",
    "results = sparql.query().convert()\n",
    "\n",
    "print(f\"results converted.\")\n",
    "\n",
    "# traverses the json\n",
    "results_df = pd.json_normalize(results['results']['bindings'])\n",
    "results_df.shape"
   ]
  },
  {
   "cell_type": "code",
   "execution_count": 126,
   "id": "db872d60",
   "metadata": {
    "ExecuteTime": {
     "end_time": "2024-06-03T17:59:56.546515Z",
     "start_time": "2024-06-03T17:59:55.919535Z"
    },
    "hidden": true
   },
   "outputs": [
    {
     "data": {
      "text/plain": [
       "(545714, 6)"
      ]
     },
     "execution_count": 126,
     "metadata": {},
     "output_type": "execute_result"
    }
   ],
   "source": [
    "# delete empty results\n",
    "results_df = results_df[(results_df['city_name.value'].notnull())]\n",
    "\n",
    "# subset results and rename cols\n",
    "results_df = results_df[[\n",
    "#     'tgn_id.type', \n",
    "    'tgn_id.value', \n",
    "    'city_name.value',\n",
    "#     'parentstring.type', \n",
    "    'parentstring.value',\n",
    "#     'broader_parentstring.type',\n",
    "    'broader_parentstring.value',\n",
    "#     'city_name.xml:lang', \n",
    "#     'city_name.type', \n",
    "#     'lat.datatype', \n",
    "#     'lat.type',       \n",
    "    'lat.value', \n",
    "#     'long.datatype', \n",
    "#     'long.type', \n",
    "    'long.value'\n",
    "           ]].rename(columns={'tgn_id.value' : 'tgn_id', \n",
    "                              'city_name.value' : 'city_name', \n",
    "                              'parentstring.value' : 'parentstring',\n",
    "                              'broader_parentstring.value' : 'broader_parentstring',\n",
    "                              'lat.value' : 'lat',\n",
    "                              'long.value' : 'lon',\n",
    "                             })\n",
    "\n",
    "results_df.shape"
   ]
  },
  {
   "cell_type": "code",
   "execution_count": 137,
   "id": "0efafe07",
   "metadata": {
    "ExecuteTime": {
     "end_time": "2024-06-03T18:12:43.731302Z",
     "start_time": "2024-06-03T18:10:12.511238Z"
    },
    "hidden": true
   },
   "outputs": [
    {
     "data": {
      "application/vnd.jupyter.widget-view+json": {
       "model_id": "e05a957934904066a10e7d98e3456c02",
       "version_major": 2,
       "version_minor": 0
      },
      "text/plain": [
       "  0%|          | 0/545714 [00:00<?, ?it/s]"
      ]
     },
     "metadata": {},
     "output_type": "display_data"
    },
    {
     "name": "stdout",
     "output_type": "stream",
     "text": [
      "CPU times: total: 2min 32s\n",
      "Wall time: 2min 31s\n"
     ]
    }
   ],
   "source": [
    "%%time\n",
    "# compare two cols with strings, converted to list\n",
    "\n",
    "# initiate col\n",
    "results_df['inferred_city_name'] = ''\n",
    "\n",
    "# iterate over df\n",
    "for i in range(len(tqdm.notebook.tqdm(results_df, total=len(results_df)))):\n",
    "    \n",
    "    # check for empty values\n",
    "    if type(results_df['parentstring'].iloc[i]) != float and type(results_df['broader_parentstring'].iloc[i]) != float:\n",
    "        \n",
    "        # split and create two lists to compare\n",
    "        test = results_df['parentstring'].iloc[i].split(', ')\n",
    "        test2 = results_df['broader_parentstring'].iloc[i].split(', ')\n",
    "        \n",
    "    # iterate over list and return diff\n",
    "        for item in test:\n",
    "            if item not in test2:\n",
    "                results_df['inferred_city_name'].iloc[i] = item\n",
    "    else:\n",
    "        results_df['inferred_city_name'].iloc[i] = ''"
   ]
  },
  {
   "cell_type": "code",
   "execution_count": 144,
   "id": "4c02616f",
   "metadata": {
    "ExecuteTime": {
     "end_time": "2024-06-03T18:15:37.008441Z",
     "start_time": "2024-06-03T18:15:36.846865Z"
    },
    "hidden": true
   },
   "outputs": [],
   "source": [
    "# reorder cols\n",
    "results_df = results_df[['tgn_id', 'city_name', 'inferred_city_name', 'parentstring', 'broader_parentstring', 'lat',\n",
    "       'lon']]"
   ]
  },
  {
   "cell_type": "code",
   "execution_count": 146,
   "id": "39d0c8c8",
   "metadata": {
    "ExecuteTime": {
     "end_time": "2024-06-03T18:15:42.447610Z",
     "start_time": "2024-06-03T18:15:42.433856Z"
    },
    "hidden": true
   },
   "outputs": [
    {
     "data": {
      "text/html": [
       "<div>\n",
       "<style scoped>\n",
       "    .dataframe tbody tr th:only-of-type {\n",
       "        vertical-align: middle;\n",
       "    }\n",
       "\n",
       "    .dataframe tbody tr th {\n",
       "        vertical-align: top;\n",
       "    }\n",
       "\n",
       "    .dataframe thead th {\n",
       "        text-align: right;\n",
       "    }\n",
       "</style>\n",
       "<table border=\"1\" class=\"dataframe\">\n",
       "  <thead>\n",
       "    <tr style=\"text-align: right;\">\n",
       "      <th></th>\n",
       "      <th>tgn_id</th>\n",
       "      <th>city_name</th>\n",
       "      <th>inferred_city_name</th>\n",
       "      <th>parentstring</th>\n",
       "      <th>broader_parentstring</th>\n",
       "      <th>lat</th>\n",
       "      <th>lon</th>\n",
       "    </tr>\n",
       "  </thead>\n",
       "  <tbody>\n",
       "    <tr>\n",
       "      <th>3</th>\n",
       "      <td>http://vocab.getty.edu/tgn/7004367</td>\n",
       "      <td>Abyan</td>\n",
       "      <td>Yemen</td>\n",
       "      <td>Yemen, Asia, World</td>\n",
       "      <td>Asia, World</td>\n",
       "      <td>13.786</td>\n",
       "      <td>46.141</td>\n",
       "    </tr>\n",
       "    <tr>\n",
       "      <th>4</th>\n",
       "      <td>http://vocab.getty.edu/tgn/7002913</td>\n",
       "      <td>Abū Ẓaby</td>\n",
       "      <td>Abu Dhabi</td>\n",
       "      <td>Abu Dhabi, United Arab Emirates, Asia, World</td>\n",
       "      <td>United Arab Emirates, Asia, World</td>\n",
       "      <td>24.4667</td>\n",
       "      <td>54.3667</td>\n",
       "    </tr>\n",
       "    <tr>\n",
       "      <th>5</th>\n",
       "      <td>http://vocab.getty.edu/tgn/7002913</td>\n",
       "      <td>Abū Ẓaby</td>\n",
       "      <td></td>\n",
       "      <td>Abu Dhabi, United Arab Emirates, Asia, World</td>\n",
       "      <td>Abu Dhabi, United Arab Emirates, Asia, World</td>\n",
       "      <td>24.4667</td>\n",
       "      <td>54.3667</td>\n",
       "    </tr>\n",
       "    <tr>\n",
       "      <th>6</th>\n",
       "      <td>http://vocab.getty.edu/tgn/7002905</td>\n",
       "      <td>Ra's al-Khaymah</td>\n",
       "      <td>Ra's al Khaymah</td>\n",
       "      <td>Ra's al Khaymah, United Arab Emirates, Asia, W...</td>\n",
       "      <td>United Arab Emirates, Asia, World</td>\n",
       "      <td>25.7833</td>\n",
       "      <td>55.95</td>\n",
       "    </tr>\n",
       "    <tr>\n",
       "      <th>7</th>\n",
       "      <td>http://vocab.getty.edu/tgn/7002909</td>\n",
       "      <td>Ash-Shāriqah</td>\n",
       "      <td>Sharjah</td>\n",
       "      <td>Sharjah, United Arab Emirates, Asia, World</td>\n",
       "      <td>United Arab Emirates, Asia, World</td>\n",
       "      <td>25.35</td>\n",
       "      <td>55.3667</td>\n",
       "    </tr>\n",
       "  </tbody>\n",
       "</table>\n",
       "</div>"
      ],
      "text/plain": [
       "                               tgn_id        city_name inferred_city_name  \\\n",
       "3  http://vocab.getty.edu/tgn/7004367            Abyan              Yemen   \n",
       "4  http://vocab.getty.edu/tgn/7002913         Abū Ẓaby          Abu Dhabi   \n",
       "5  http://vocab.getty.edu/tgn/7002913         Abū Ẓaby                      \n",
       "6  http://vocab.getty.edu/tgn/7002905  Ra's al-Khaymah    Ra's al Khaymah   \n",
       "7  http://vocab.getty.edu/tgn/7002909     Ash-Shāriqah            Sharjah   \n",
       "\n",
       "                                        parentstring  \\\n",
       "3                                 Yemen, Asia, World   \n",
       "4       Abu Dhabi, United Arab Emirates, Asia, World   \n",
       "5       Abu Dhabi, United Arab Emirates, Asia, World   \n",
       "6  Ra's al Khaymah, United Arab Emirates, Asia, W...   \n",
       "7         Sharjah, United Arab Emirates, Asia, World   \n",
       "\n",
       "                           broader_parentstring      lat      lon  \n",
       "3                                   Asia, World   13.786   46.141  \n",
       "4             United Arab Emirates, Asia, World  24.4667  54.3667  \n",
       "5  Abu Dhabi, United Arab Emirates, Asia, World  24.4667  54.3667  \n",
       "6             United Arab Emirates, Asia, World  25.7833    55.95  \n",
       "7             United Arab Emirates, Asia, World    25.35  55.3667  "
      ]
     },
     "execution_count": 146,
     "metadata": {},
     "output_type": "execute_result"
    }
   ],
   "source": [
    "results_df.head()"
   ]
  },
  {
   "cell_type": "code",
   "execution_count": 147,
   "id": "d967d554",
   "metadata": {
    "ExecuteTime": {
     "end_time": "2024-06-03T18:15:48.742533Z",
     "start_time": "2024-06-03T18:15:47.247877Z"
    },
    "hidden": true
   },
   "outputs": [],
   "source": [
    "with open('data_dumps/results_df_tgn_country.pickle', 'wb') as handle:\n",
    "    pickle.dump(results_df, handle, protocol=pickle.HIGHEST_PROTOCOL)"
   ]
  }
 ],
 "metadata": {
  "kernelspec": {
   "display_name": "Kernel (getty-ulan)",
   "language": "python",
   "name": "getty_ulan"
  },
  "language_info": {
   "codemirror_mode": {
    "name": "ipython",
    "version": 3
   },
   "file_extension": ".py",
   "mimetype": "text/x-python",
   "name": "python",
   "nbconvert_exporter": "python",
   "pygments_lexer": "ipython3",
   "version": "3.11.9"
  },
  "toc": {
   "base_numbering": 1,
   "nav_menu": {},
   "number_sections": true,
   "sideBar": true,
   "skip_h1_title": false,
   "title_cell": "Table of Contents",
   "title_sidebar": "Contents",
   "toc_cell": false,
   "toc_position": {},
   "toc_section_display": true,
   "toc_window_display": false
  },
  "varInspector": {
   "cols": {
    "lenName": 16,
    "lenType": 16,
    "lenVar": 40
   },
   "kernels_config": {
    "python": {
     "delete_cmd_postfix": "",
     "delete_cmd_prefix": "del ",
     "library": "var_list.py",
     "varRefreshCmd": "print(var_dic_list())"
    },
    "r": {
     "delete_cmd_postfix": ") ",
     "delete_cmd_prefix": "rm(",
     "library": "var_list.r",
     "varRefreshCmd": "cat(var_dic_list()) "
    }
   },
   "types_to_exclude": [
    "module",
    "function",
    "builtin_function_or_method",
    "instance",
    "_Feature"
   ],
   "window_display": false
  }
 },
 "nbformat": 4,
 "nbformat_minor": 5
}
