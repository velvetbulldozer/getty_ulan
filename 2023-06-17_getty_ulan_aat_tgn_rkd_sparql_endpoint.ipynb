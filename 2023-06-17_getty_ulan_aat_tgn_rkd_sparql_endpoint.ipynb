{
 "cells": [
  {
   "cell_type": "markdown",
   "id": "0",
   "metadata": {},
   "source": [
    "# Use SPARQL endpoints to retrieve cultural data\n",
    "- testrun @ 2023-06-16 and added code on 2023-07-03, 2024-05-20 through 2024-06-03\n",
    "- SPARQL (“SPARQL Protocol And RDF Query Language”) is a W3C standard for querying RDF and can be used to express queries across diverse data sources, whether the data is stored natively as RDF or viewed as RDF via middleware\n",
    "- SPARQLWrapper is a simple Python wrapper around a SPARQL service for remote query execution. Not only does it enable us to write more complex queries to extract information from RDF than those exposed through a library like rdflib, it can also convert query results into other formats like JSON and CSV!"
   ]
  },
  {
   "cell_type": "markdown",
   "id": "1",
   "metadata": {},
   "source": [
    "## Literature\n",
    "- https://rebeccabilbro.github.io/sparql-from-python/\n",
    "- https://groups.google.com/g/gettyvocablod/c/mSnqx3rd8lM/m/LKPstWJyAwAJ\n",
    "- https://sparqlwrapper.readthedocs.io/en/stable/main.html\n",
    "- https://github.com/RDFLib/sparqlwrapper/blob/master/scripts/example.py\n",
    "\n",
    "\n",
    "## CSV example\n",
    "```sparql.setReturnFormat(CSV)\n",
    "results = sparql.query().convert()\n",
    "print(results)'''```"
   ]
  },
  {
   "cell_type": "markdown",
   "id": "2",
   "metadata": {},
   "source": [
    "# Import"
   ]
  },
  {
   "cell_type": "markdown",
   "id": "3",
   "metadata": {},
   "source": [
    "## Import libraries"
   ]
  },
  {
   "cell_type": "code",
   "execution_count": null,
   "id": "4",
   "metadata": {},
   "outputs": [],
   "source": [
    "# creating time stamps\n",
    "import time\n",
    "\n",
    "# save and dump\n",
    "import pickle\n",
    "\n",
    "# data wranling\n",
    "import pandas as pd\n",
    "\n",
    "# use sparqlwrapper to access getty endpoints\n",
    "from SPARQLWrapper import SPARQLWrapper, JSON, CSV\n",
    "\n",
    "# surpress warnings, due to my code block of exploding and comparing lists\n",
    "import warnings\n",
    "warnings.filterwarnings('ignore')"
   ]
  },
  {
   "cell_type": "markdown",
   "id": "5",
   "metadata": {},
   "source": [
    "# Tests"
   ]
  },
  {
   "cell_type": "markdown",
   "id": "6",
   "metadata": {},
   "source": [
    "## Test | SPARQLWrapper on wikipedia data"
   ]
  },
  {
   "cell_type": "code",
   "execution_count": null,
   "id": "7",
   "metadata": {},
   "outputs": [],
   "source": [
    "sparql = SPARQLWrapper(\"https://query.wikidata.org/sparql\")\n",
    "\n",
    "# Below we SELECT both the hot sauce items & their labels\n",
    "# in the WHERE clause we specify that we want labels as well as items\n",
    "sparql.setQuery(\"\"\"\n",
    "SELECT ?item ?itemLabel\n",
    "\n",
    "WHERE {\n",
    "  ?item wdt:P279 wd:Q522171.\n",
    "  SERVICE wikibase:label { bd:serviceParam wikibase:language \"[AUTO_LANGUAGE],en\". }\n",
    "}\n",
    "\"\"\")\n",
    "# sparql.setReturnFormat(CSV)\n",
    "sparql.setReturnFormat(JSON)\n",
    "results = sparql.query().convert()\n",
    "\n",
    "results_df = pd.json_normalize(results['results']['bindings'])\n",
    "\n",
    "results_df.head()"
   ]
  },
  {
   "cell_type": "markdown",
   "id": "8",
   "metadata": {},
   "source": [
    "## Test | SPARQLWrapper on ULAN endpoint, works\n",
    "- retrieves uri for all Person, Artist (ULAN facet)."
   ]
  },
  {
   "cell_type": "code",
   "execution_count": null,
   "id": "9",
   "metadata": {},
   "outputs": [],
   "source": [
    "%%time\n",
    "\n",
    "sparql = SPARQLWrapper(\"http://vocab.getty.edu/sparql\")\n",
    "\n",
    "# Below we SELECT both the hot sauce items & their labels\n",
    "# in the WHERE clause we specify that we want labels as well as items\n",
    "sparql.setQuery(\"\"\"\n",
    "SELECT * WHERE { ulan:500000002 skos:member ?p . }\n",
    "\"\"\")\n",
    "sparql.setReturnFormat(JSON)\n",
    "results = sparql.query().convert()"
   ]
  },
  {
   "cell_type": "code",
   "execution_count": null,
   "id": "10",
   "metadata": {},
   "outputs": [],
   "source": [
    "results_df = pd.json_normalize(results['results']['bindings'])\n",
    "results_df"
   ]
  },
  {
   "cell_type": "markdown",
   "id": "11",
   "metadata": {},
   "source": [
    "# Getty SPARQL queries via SPARQLWrapper, all queries are successful"
   ]
  },
  {
   "cell_type": "markdown",
   "id": "12",
   "metadata": {},
   "source": [
    "## ULAN | Full query, returns all subjects within ULAN\n",
    "- https://www.getty.edu/vow/ULANFullDisplay?find=&role=&nation=&page=1&subjectid=500000002\n",
    "\n",
    "**Persons, Artists (ULAN facet)** Note: Records under this level represent information for individuals involved in the creation or production of works of fine art or architecture, for example painters, sculptors, printmakers, and architects. Included are individuals whose biographies are well known (e.g., Rembrandt van Rijn (Dutch painter and printmaker, 1606-1669)) as well as anonymous creators with identified oeuvres but whose names are unknown and whose biography is surmised (e.g., Master of Alkmaar (North Netherlandish painter, active ca. 1490-ca. 1510)). Craftsmen, artisans, engineers, and others who create visual works are included here, even if their works are not considered fine art per se. People whose primary life roles were other than \"artist\" or \"architect,\" but who created or designed art or architecture in a professional or amateur capacity, are included here with a non-preferred relationship to this facet (e.g., Thomas Jefferson (American statesman, architect, and draftsman, 1743-1826)). Performance artists are included here. "
   ]
  },
  {
   "cell_type": "markdown",
   "id": "13",
   "metadata": {},
   "source": [
    "### New SPARQL-query"
   ]
  },
  {
   "cell_type": "code",
   "execution_count": null,
   "id": "14",
   "metadata": {},
   "outputs": [],
   "source": [
    "%%time\n",
    "\n",
    "# set sparql endpoint\n",
    "sparql = SPARQLWrapper(\"http://vocab.getty.edu/sparql\")\n",
    "\n",
    "# query\n",
    "sparql.setQuery(\"\"\"\n",
    "select ?x ?name ?bio ?nationality ?type ?ScopeNote \n",
    "{\n",
    "  ?x gvp:broaderExtended ulan:500000002. # Persons, Artists\n",
    "  optional {?x gvp:agentTypePreferred [gvp:prefLabelGVP [xl:literalForm ?type]]}\n",
    "  optional {?x foaf:focus [gvp:nationalityPreferred [gvp:prefLabelGVP [xl:literalForm ?nationality]]]}\n",
    "  optional {?x gvp:prefLabelGVP [xl:literalForm ?name]}\n",
    "  optional {?x foaf:focus [gvp:biographyPreferred [schema:description ?bio]]}\n",
    "  optional {?x foaf:focus/gvp:biographyPreferred [gvp:estStart ?birth].}\n",
    "  optional {?x skos:scopeNote [dct:language gvp_lang:en; rdf:value ?ScopeNote]}}\n",
    "  }\n",
    "\"\"\")\n",
    "\n",
    "# returns results as a json\n",
    "sparql.setReturnFormat(JSON)\n",
    "results = sparql.query().convert()\n",
    "\n",
    "# traverses the json\n",
    "results_df = pd.json_normalize(results['results']['bindings'])\n",
    "results_df.head()"
   ]
  },
  {
   "cell_type": "code",
   "execution_count": null,
   "id": "15",
   "metadata": {},
   "outputs": [],
   "source": [
    "with open('data_dumps/results_df_ulan_all.pickle', 'wb') as handle:\n",
    "    pickle.dump(results_df, handle, protocol=pickle.HIGHEST_PROTOCOL)\n",
    "    \n",
    "# with open('data_dumps/results_df_all_ulan.pickle', 'rb') as handle:\n",
    "#     df = pickle.load(handle)"
   ]
  },
  {
   "cell_type": "code",
   "execution_count": null,
   "id": "16",
   "metadata": {},
   "outputs": [],
   "source": [
    "results_df.shape"
   ]
  },
  {
   "cell_type": "code",
   "execution_count": null,
   "id": "17",
   "metadata": {},
   "outputs": [],
   "source": [
    "%store results_df"
   ]
  },
  {
   "cell_type": "markdown",
   "id": "18",
   "metadata": {},
   "source": [
    "### Initial query"
   ]
  },
  {
   "cell_type": "code",
   "execution_count": null,
   "id": "19",
   "metadata": {},
   "outputs": [],
   "source": [
    "%%time\n",
    "\n",
    "# set sparql endpoint\n",
    "sparql = SPARQLWrapper(\"http://vocab.getty.edu/sparql\")\n",
    "\n",
    "# query\n",
    "sparql.setQuery(\"\"\"\n",
    "PREFIX tgn: <http://vocab.getty.edu/tgn/>\n",
    "PREFIX gvp: <http://vocab.getty.edu/ontology#>\n",
    "PREFIX skos: <http://www.w3.org/2004/02/skos/core#>\n",
    "PREFIX dct: <http://purl.org/dc/terms/>\n",
    "PREFIX bibo: <http://purl.org/ontology/bibo/>\n",
    "PREFIX skosxl: <http://www.w3.org/2008/05/skos-xl#>\n",
    "PREFIX rdf: <http://www.w3.org/1999/02/22-rdf-syntax-ns#>\n",
    "PREFIX iso: <http://purl.org/iso25964/skos-thes#>\n",
    "PREFIX foaf: <http://xmlns.com/foaf/0.1/>\n",
    "PREFIX schema: <http://schema.org/>\n",
    "PREFIX aat: <http://vocab.getty.edu/aat/>\n",
    "PREFIX owl: <http://www.w3.org/2002/07/owl#>\n",
    "\n",
    "select ?p ?name ?bio ?birth ?death ?ScopeNote ?related ?rname ?rbirth ?rdeath ?relatedScopeNote\n",
    "{ ulan:500000002 skos:member ?p .\n",
    "optional {?p gvp:prefLabelGVP/xl:literalForm ?name;\n",
    "     \tfoaf:focus/gvp:biographyPreferred [\n",
    "       \tschema:description ?bio;\n",
    "       \tgvp:estStart ?birth].}\n",
    "optional { ?p gvp:prefLabelGVP/xl:literalForm ?name;\n",
    "     \tfoaf:focus/gvp:biographyPreferred [\n",
    "       \tschema:description ?bio;\n",
    "       \tgvp:estEnd ?death]. }\n",
    "optional {?p skos:related ?related . \n",
    "         \t?related skos:scopeNote [dct:language gvp_lang:en; \n",
    "rdf:value ?relatedScopeNote]}  \n",
    "optional {?related gvp:prefLabelGVP/xl:literalForm ?rname;\n",
    " \tfoaf:focus/gvp:biographyPreferred [\n",
    "       \tschema:description ?bio;\n",
    "       \tgvp:estStart ?rbirth].}\n",
    "optional { ?related gvp:prefLabelGVP/xl:literalForm ?rname;\n",
    "     \tfoaf:focus/gvp:biographyPreferred [\n",
    "       \tschema:description ?bio;\n",
    "       \tgvp:estEnd ?rdeath]. }\n",
    "optional {?p skos:scopeNote [dct:language gvp_lang:en; rdf:value ?ScopeNote]}}\n",
    "\"\"\")\n",
    "\n",
    "# returns results as a json\n",
    "sparql.setReturnFormat(JSON)\n",
    "\n",
    "results = sparql.query().convert()"
   ]
  },
  {
   "cell_type": "code",
   "execution_count": null,
   "id": "20",
   "metadata": {},
   "outputs": [],
   "source": [
    "# traverses the json\n",
    "results_df = pd.json_normalize(results['results']['bindings'])\n",
    "results_df.head()"
   ]
  },
  {
   "cell_type": "markdown",
   "id": "21",
   "metadata": {},
   "source": [
    "### Load and save file as a pickle"
   ]
  },
  {
   "cell_type": "code",
   "execution_count": null,
   "id": "22",
   "metadata": {},
   "outputs": [],
   "source": [
    "# with open('result_json.pickle', 'wb') as handle:\n",
    "#     pickle.dump(results, handle, protocol=pickle.HIGHEST_PROTOCOL)\n",
    "\n",
    "# with open('result_json.pickle', 'rb') as handle:\n",
    "#     b = pickle.load(handle)\n",
    "\n",
    "# with open('results_df_all_ulan.pickle', 'wb') as handle:\n",
    "#     pickle.dump(results_df, handle, protocol=pickle.HIGHEST_PROTOCOL)\n",
    "\n",
    "with open('data_dumps/results_df_all_ulan.pickle', 'rb') as handle:\n",
    "    df = pickle.load(handle)"
   ]
  },
  {
   "cell_type": "code",
   "execution_count": null,
   "id": "23",
   "metadata": {},
   "outputs": [],
   "source": [
    "df.shape"
   ]
  },
  {
   "cell_type": "code",
   "execution_count": null,
   "id": "24",
   "metadata": {},
   "outputs": [],
   "source": [
    "df.head()"
   ]
  },
  {
   "cell_type": "markdown",
   "id": "25",
   "metadata": {},
   "source": [
    "### ULAN | AL persons and artists"
   ]
  },
  {
   "cell_type": "code",
   "execution_count": null,
   "id": "26",
   "metadata": {},
   "outputs": [],
   "source": [
    "%%time\n",
    "\n",
    "# set sparql endpoint\n",
    "sparql = SPARQLWrapper(\"http://vocab.getty.edu/sparql\")\n",
    "\n",
    "# query\n",
    "sparql.setQuery(\"\"\"\n",
    "PREFIX tgn: <http://vocab.getty.edu/tgn/>\n",
    "PREFIX gvp: <http://vocab.getty.edu/ontology#>\n",
    "PREFIX skos: <http://www.w3.org/2004/02/skos/core#>\n",
    "PREFIX dct: <http://purl.org/dc/terms/>\n",
    "PREFIX bibo: <http://purl.org/ontology/bibo/>\n",
    "PREFIX skosxl: <http://www.w3.org/2008/05/skos-xl#>\n",
    "PREFIX rdf: <http://www.w3.org/1999/02/22-rdf-syntax-ns#>\n",
    "PREFIX iso: <http://purl.org/iso25964/skos-thes#>\n",
    "PREFIX foaf: <http://xmlns.com/foaf/0.1/>\n",
    "PREFIX schema: <http://schema.org/>\n",
    "PREFIX aat: <http://vocab.getty.edu/aat/>\n",
    "PREFIX owl: <http://www.w3.org/2002/07/owl#>\n",
    "\n",
    "SELECT ?ulan_id ?name ?bio ?birth ?death ?scopenote {\n",
    "{SELECT DISTINCT ?ulan_id\n",
    "         {?ulan_id foaf:focus/bio:event/(schema:location|(schema:location/gvp:broaderExtended)) ?x}}\n",
    "OPTIONAL { ?ulan_id gvp:prefLabelGVP/xl:literalForm ?name;\n",
    "          foaf:focus/gvp:biographyPreferred [\n",
    "          schema:description ?bio;\n",
    "          gvp:estStart ?birth] . }\n",
    "OPTIONAL { ?ulan_id gvp:prefLabelGVP/xl:literalForm ?name;\n",
    "          foaf:focus/gvp:biographyPreferred [\n",
    "\t\t  schema:description ?bio;\n",
    "          gvp:estEnd ?death] . }\n",
    "optional {?ulan_id skos:scopeNote [dct:language gvp_lang:en; rdf:value ?scopenote]} \n",
    "\"\"\")\n",
    "#  FILTER (\"1400\"^^xsd:gYear <= ?birth && ?birth <= \"1800\"^^xsd:gYear)} # removed filter\n",
    "\n",
    "# returns results as a json\n",
    "sparql.setReturnFormat(JSON)\n",
    "results = sparql.query().convert()\n",
    "\n",
    "# traverses the json\n",
    "results_df = pd.json_normalize(results['results']['bindings'])\n",
    "results_df.shape"
   ]
  },
  {
   "cell_type": "markdown",
   "id": "27",
   "metadata": {},
   "source": [
    "## ULAN | Roman active painters between 1400 and 1800\n",
    "**Rome (inhabited place)** \n",
    "Note: City positioned on 7 hills over the swampy Tiber river area; one of the oldest continuously occupied sites in Europe. Archaeological evidence attests to human occupation of the area from ca. 14,000 years ago, but the dense layer of later debris obscures Palaeolithic and Neolithic sites. Was an Etruscan city by 8th cen. BCE, their kings expelled and republic established by 500 BCE; soon ruled vast area and was center of Empire from 31 BCE; declined when capital moved to Constantinople in 330 CE; revived under popes."
   ]
  },
  {
   "cell_type": "code",
   "execution_count": null,
   "id": "28",
   "metadata": {},
   "outputs": [],
   "source": [
    "# set sparql endpoint\n",
    "sparql = SPARQLWrapper(\"http://vocab.getty.edu/sparql\")\n",
    "\n",
    "# query\n",
    "sparql.setQuery(\"\"\"\n",
    "PREFIX tgn: <http://vocab.getty.edu/tgn/>\n",
    "PREFIX gvp: <http://vocab.getty.edu/ontology#>\n",
    "PREFIX skos: <http://www.w3.org/2004/02/skos/core#>\n",
    "PREFIX dct: <http://purl.org/dc/terms/>\n",
    "PREFIX bibo: <http://purl.org/ontology/bibo/>\n",
    "PREFIX skosxl: <http://www.w3.org/2008/05/skos-xl#>\n",
    "PREFIX rdf: <http://www.w3.org/1999/02/22-rdf-syntax-ns#>\n",
    "PREFIX iso: <http://purl.org/iso25964/skos-thes#>\n",
    "PREFIX foaf: <http://xmlns.com/foaf/0.1/>\n",
    "PREFIX schema: <http://schema.org/>\n",
    "PREFIX aat: <http://vocab.getty.edu/aat/>\n",
    "PREFIX owl: <http://www.w3.org/2002/07/owl#>\n",
    "\n",
    "\n",
    "SELECT ?id ?name ?bio ?birth ?death {\n",
    "{SELECT DISTINCT ?id\n",
    "         {?id foaf:focus/bio:event/(schema:location|(schema:location/gvp:broaderExtended)) tgn:7000874-place}}\n",
    "OPTIONAL { ?id gvp:prefLabelGVP/xl:literalForm ?name;\n",
    "          foaf:focus/gvp:biographyPreferred [\n",
    "          schema:description ?bio;\n",
    "          gvp:estStart ?birth] . }\n",
    "OPTIONAL { ?id gvp:prefLabelGVP/xl:literalForm ?name;\n",
    "          foaf:focus/gvp:biographyPreferred [\n",
    "\t\t  schema:description ?bio;\n",
    "          gvp:estEnd ?death] . }\n",
    "FILTER (\"1400\"^^xsd:gYear <= ?birth && ?birth <= \"1800\"^^xsd:gYear)\n",
    "}\n",
    "\n",
    "\"\"\")\n",
    "\n",
    "# returns results as a json\n",
    "sparql.setReturnFormat(JSON)\n",
    "results = sparql.query().convert()\n",
    "\n",
    "# traverses the json\n",
    "results_df = pd.json_normalize(results['results']['bindings'])\n",
    "results_df.shape"
   ]
  },
  {
   "cell_type": "code",
   "execution_count": null,
   "id": "29",
   "metadata": {},
   "outputs": [],
   "source": [
    "# dumps df as a pickle file\n",
    "with open('results_df_roman.pickle', 'wb') as handle:\n",
    "    pickle.dump(results_df, handle, protocol=pickle.HIGHEST_PROTOCOL)\n",
    "    \n",
    "# # reads pickle file\n",
    "# with open('results_df_roman.pickle', 'rb') as handle:\n",
    "#     df = pickle.load(handle)"
   ]
  },
  {
   "cell_type": "markdown",
   "id": "30",
   "metadata": {},
   "source": [
    "### Subselects data "
   ]
  },
  {
   "cell_type": "code",
   "execution_count": null,
   "id": "31",
   "metadata": {},
   "outputs": [],
   "source": [
    "# subset cols\n",
    "df = df[['related.value', 'rname.value', 'rbirth.value', 'rdeath.value']]\n",
    "\n",
    "# change datatype\n",
    "df['rbirth.value'] = df['rbirth.value'].astype(float)\n",
    "df['rdeath.value'] = df['rdeath.value'].astype(float)\n",
    "\n",
    "# get rid of floats, checked can be deleted\n",
    "df = df[(df['rdeath.value'].notnull()) &\n",
    "        (df['rbirth.value'].notnull())]\n",
    "\n",
    "# subselection on active painters\n",
    "df = df[(df['rdeath.value'].astype(int) < 1775) &\n",
    "        (df['rbirth.value'].astype(int) > 1400)]\n",
    "\n",
    "# split data and names\n",
    "df[['last_name','first_name','addition','comment']] = df['rname.value'].str.split(', ', expand=True)"
   ]
  },
  {
   "cell_type": "markdown",
   "id": "32",
   "metadata": {},
   "source": [
    "## ULAN | European active painters between 1400 and 1800\n",
    "**Europe (continent)** Note: Europe was an early home to Homo erectus, Neanderthal and modern Homo sapiens. Agricultural settlements arose in the 7th millennium BCE. Advanced civilizations developed here in the Mediterranean area with Asian and African influences. Modern European nations began to form after the fall of the Western Roman Empire in the fifth century CE. The late 20th and early 21st centuries have witnessed the formation and expansion of the European Union, a group of European nations allied for trade and some administrative purposes, such as a common currency. "
   ]
  },
  {
   "cell_type": "code",
   "execution_count": null,
   "id": "33",
   "metadata": {},
   "outputs": [],
   "source": [
    "# set sparql endpoint\n",
    "sparql = SPARQLWrapper(\"http://vocab.getty.edu/sparql\")\n",
    "\n",
    "# query\n",
    "sparql.setQuery(\"\"\"\n",
    "PREFIX tgn: <http://vocab.getty.edu/tgn/>\n",
    "PREFIX gvp: <http://vocab.getty.edu/ontology#>\n",
    "PREFIX skos: <http://www.w3.org/2004/02/skos/core#>\n",
    "PREFIX dct: <http://purl.org/dc/terms/>\n",
    "PREFIX bibo: <http://purl.org/ontology/bibo/>\n",
    "PREFIX skosxl: <http://www.w3.org/2008/05/skos-xl#>\n",
    "PREFIX rdf: <http://www.w3.org/1999/02/22-rdf-syntax-ns#>\n",
    "PREFIX iso: <http://purl.org/iso25964/skos-thes#>\n",
    "PREFIX foaf: <http://xmlns.com/foaf/0.1/>\n",
    "PREFIX schema: <http://schema.org/>\n",
    "PREFIX aat: <http://vocab.getty.edu/aat/>\n",
    "PREFIX owl: <http://www.w3.org/2002/07/owl#>\n",
    "\n",
    "\n",
    "SELECT ?id ?name ?bio ?birth ?death {\n",
    "{SELECT DISTINCT ?id\n",
    "         {?id foaf:focus/bio:event/(schema:location|(schema:location/gvp:broaderExtended)) tgn:7000874-place}}\n",
    "OPTIONAL { ?id gvp:prefLabelGVP/xl:literalForm ?name;\n",
    "          foaf:focus/gvp:biographyPreferred [\n",
    "          schema:description ?bio;\n",
    "          gvp:estStart ?birth] . }\n",
    "OPTIONAL { ?id gvp:prefLabelGVP/xl:literalForm ?name;\n",
    "          foaf:focus/gvp:biographyPreferred [\n",
    "\t\t  schema:description ?bio;\n",
    "          gvp:estEnd ?death] . }\n",
    "FILTER (\"1400\"^^xsd:gYear <= ?birth && ?birth <= \"1800\"^^xsd:gYear)}\n",
    "\n",
    "\"\"\")\n",
    "\n",
    "# returns results as a json\n",
    "sparql.setReturnFormat(JSON)\n",
    "results = sparql.query().convert()\n",
    "\n",
    "# traverses the json\n",
    "results_df = pd.json_normalize(results['results']['bindings'])\n",
    "results_df.shape"
   ]
  },
  {
   "cell_type": "code",
   "execution_count": null,
   "id": "34",
   "metadata": {},
   "outputs": [],
   "source": [
    "with open('data_dumps/results_df_roman_painters_1400_1800.pickle', 'wb') as handle:\n",
    "    pickle.dump(results_df, handle, protocol=pickle.HIGHEST_PROTOCOL)"
   ]
  },
  {
   "cell_type": "markdown",
   "id": "35",
   "metadata": {},
   "source": [
    "## ULAN | Active between 1400 and 1750"
   ]
  },
  {
   "cell_type": "code",
   "execution_count": null,
   "id": "36",
   "metadata": {},
   "outputs": [],
   "source": [
    "# set sparql endpoint\n",
    "sparql = SPARQLWrapper(\"http://vocab.getty.edu/sparql\")\n",
    "\n",
    "# query\n",
    "sparql.setQuery(\"\"\"\n",
    "PREFIX tgn: <http://vocab.getty.edu/tgn/>\n",
    "PREFIX gvp: <http://vocab.getty.edu/ontology#>\n",
    "PREFIX skos: <http://www.w3.org/2004/02/skos/core#>\n",
    "PREFIX dct: <http://purl.org/dc/terms/>\n",
    "PREFIX bibo: <http://purl.org/ontology/bibo/>\n",
    "PREFIX skosxl: <http://www.w3.org/2008/05/skos-xl#>\n",
    "PREFIX rdf: <http://www.w3.org/1999/02/22-rdf-syntax-ns#>\n",
    "PREFIX iso: <http://purl.org/iso25964/skos-thes#>\n",
    "PREFIX foaf: <http://xmlns.com/foaf/0.1/>\n",
    "PREFIX schema: <http://schema.org/>\n",
    "PREFIX aat: <http://vocab.getty.edu/aat/>\n",
    "PREFIX owl: <http://www.w3.org/2002/07/owl#>\n",
    "\n",
    "\n",
    "SELECT ?id ?name ?bio ?place ?birth ?death {\n",
    "{SELECT DISTINCT ?id\n",
    "         {?id foaf:focus/bio:event/(schema:location|(schema:location/gvp:broaderExtended)) ?place}}\n",
    "OPTIONAL { ?id gvp:prefLabelGVP/xl:literalForm ?name;\n",
    "          foaf:focus/gvp:biographyPreferred [\n",
    "          schema:description ?bio;\n",
    "          gvp:estStart ?birth] . }\n",
    "OPTIONAL { ?id gvp:prefLabelGVP/xl:literalForm ?name;\n",
    "          foaf:focus/gvp:biographyPreferred [\n",
    "\t\t  schema:description ?bio;\n",
    "          gvp:estEnd ?death] . }\n",
    "FILTER (\"1400\"^^xsd:gYear <= ?birth && ?birth <= \"1750\"^^xsd:gYear)}\n",
    "\"\"\")\n",
    "\n",
    "# returns results as a json\n",
    "sparql.setReturnFormat(JSON)\n",
    "results = sparql.query().convert()\n",
    "\n",
    "# traverses the json\n",
    "results_df = pd.json_normalize(results['results']['bindings'])\n",
    "results_df"
   ]
  },
  {
   "cell_type": "markdown",
   "id": "37",
   "metadata": {},
   "source": [
    "## ULAN | All painters and artists, birth and death dates, nationalities, scopenote, etc."
   ]
  },
  {
   "cell_type": "code",
   "execution_count": null,
   "id": "38",
   "metadata": {},
   "outputs": [],
   "source": [
    "%%time\n",
    "\n",
    "# set sparql endpoint\n",
    "sparql = SPARQLWrapper(\"http://vocab.getty.edu/sparql\")\n",
    "\n",
    "# query\n",
    "sparql.setQuery(\"\"\"\n",
    "PREFIX tgn: <http://vocab.getty.edu/tgn/>\n",
    "PREFIX gvp: <http://vocab.getty.edu/ontology#>\n",
    "PREFIX skos: <http://www.w3.org/2004/02/skos/core#>\n",
    "PREFIX dct: <http://purl.org/dc/terms/>\n",
    "PREFIX bibo: <http://purl.org/ontology/bibo/>\n",
    "PREFIX skosxl: <http://www.w3.org/2008/05/skos-xl#>\n",
    "PREFIX rdf: <http://www.w3.org/1999/02/22-rdf-syntax-ns#>\n",
    "PREFIX iso: <http://purl.org/iso25964/skos-thes#>\n",
    "PREFIX foaf: <http://xmlns.com/foaf/0.1/>\n",
    "PREFIX schema: <http://schema.org/>\n",
    "PREFIX aat: <http://vocab.getty.edu/aat/>\n",
    "PREFIX owl: <http://www.w3.org/2002/07/owl#>\n",
    "\n",
    "select ?ulan_id ?name ?type ?bio ?birth ?death ?nationality ?scopenote \n",
    "{\n",
    "  ?ulan_id gvp:broaderExtended ulan:500000002. # Persons, Artists\n",
    "  optional {?ulan_id gvp:prefLabelGVP [xl:literalForm ?name]}  \n",
    "  optional {?ulan_id gvp:agentTypePreferred [gvp:prefLabelGVP [xl:literalForm ?type]]}\n",
    "  optional {?ulan_id foaf:focus [gvp:biographyPreferred [schema:description ?bio]]}\n",
    "  optional {?ulan_id foaf:focus/gvp:biographyPreferred [gvp:estStart ?birth].}\n",
    "  optional {?ulan_id foaf:focus/gvp:biographyPreferred [gvp:estEnd ?death]. }\n",
    "  optional {?ulan_id foaf:focus [gvp:nationalityPreferred [gvp:prefLabelGVP [xl:literalForm ?nationality]]]}\n",
    "  optional {?ulan_id skos:scopeNote [dct:language gvp_lang:en; rdf:value ?scopenote]}} \n",
    "  \"\"\")\n",
    "\n",
    "print(f\"query done.\")\n",
    "\n",
    "# returns results as a json\n",
    "sparql.setReturnFormat(JSON)\n",
    "results = sparql.query().convert()\n",
    "\n",
    "print(f\"results converted.\")\n",
    "\n",
    "# traverses the json\n",
    "results_df = pd.json_normalize(results['results']['bindings'])\n",
    "results_df.shape"
   ]
  },
  {
   "cell_type": "code",
   "execution_count": null,
   "id": "39",
   "metadata": {},
   "outputs": [],
   "source": [
    "results_df.shape"
   ]
  },
  {
   "cell_type": "code",
   "execution_count": null,
   "id": "40",
   "metadata": {},
   "outputs": [],
   "source": [
    "results_df = (results_df[[\n",
    "            # 'ulan_id.type', \n",
    "            'ulan_id.value', \n",
    "            # 'name.xml:lang', \n",
    "            # 'name.type',\n",
    "            'name.value', \n",
    "            # 'type.xml:lang', \n",
    "            # 'type.type', \n",
    "            'type.value', \n",
    "            # 'bio.type',\n",
    "            'bio.value', \n",
    "            # 'birth.datatype',\n",
    "            # 'birth.type',\n",
    "            'birth.value',\n",
    "            'death.datatype',\n",
    "            # 'death.type', \n",
    "            'death.value', \n",
    "            # 'nationality.xml:lang',\n",
    "            # 'nationality.type', \n",
    "            'nationality.value',\n",
    "            # 'scopenote.xml:lang',\n",
    "            # 'scopenote.type', \n",
    "            'scopenote.value'\n",
    "            ]].drop_duplicates())"
   ]
  },
  {
   "cell_type": "code",
   "execution_count": null,
   "id": "41",
   "metadata": {},
   "outputs": [],
   "source": [
    "results_df.head()"
   ]
  },
  {
   "cell_type": "code",
   "execution_count": null,
   "id": "42",
   "metadata": {},
   "outputs": [],
   "source": [
    "time_stamp = time.strftime('%Y%m%d-%H%M%S')\n",
    "with open(f'data_dumps/{time_stamp}_df_ulan.pickle', 'wb') as handle:\n",
    "    pickle.dump(results_df, handle, protocol=pickle.HIGHEST_PROTOCOL)"
   ]
  },
  {
   "cell_type": "markdown",
   "id": "43",
   "metadata": {},
   "source": [
    "## AAT | Associated Concepts Facet\n",
    "The AAT includes **generic terms, and associated dates, relationships, and other information about concepts related to or required to catalog, discover, and retrieve information about art, architecture, and other visual cultural heritage**, including related disciplines dealing with visual works, such as archaeology and conservation, where the works are of the type collected by art museums and repositories for visual cultural heritage, or that are architecture. It is our goal to be ever more inclusive of various cultures and their visual works. Also, in recognition of diverse collections found in art museums, the AAT contains terminology to describe objects and associated activities that are ceremonial or utilitarian in nature, but are not necessarily labeled as art according to traditional Western aesthetics. "
   ]
  },
  {
   "cell_type": "code",
   "execution_count": null,
   "id": "44",
   "metadata": {},
   "outputs": [],
   "source": [
    "%%time\n",
    "# set sparql endpoint\n",
    "sparql = SPARQLWrapper(\"http://vocab.getty.edu/sparql\")\n",
    "\n",
    "# query\n",
    "sparql.setQuery(\"\"\"\n",
    "PREFIX tgn: <http://vocab.getty.edu/tgn/>\n",
    "PREFIX gvp: <http://vocab.getty.edu/ontology#>\n",
    "PREFIX skos: <http://www.w3.org/2004/02/skos/core#>\n",
    "PREFIX dct: <http://purl.org/dc/terms/>\n",
    "PREFIX bibo: <http://purl.org/ontology/bibo/>\n",
    "PREFIX skosxl: <http://www.w3.org/2008/05/skos-xl#>\n",
    "PREFIX rdf: <http://www.w3.org/1999/02/22-rdf-syntax-ns#>\n",
    "PREFIX iso: <http://purl.org/iso25964/skos-thes#>\n",
    "PREFIX foaf: <http://xmlns.com/foaf/0.1/>\n",
    "PREFIX schema: <http://schema.org/>\n",
    "PREFIX aat: <http://vocab.getty.edu/aat/>\n",
    "PREFIX owl: <http://www.w3.org/2002/07/owl#>\n",
    "\n",
    "select distinct ?Subject ?ScopeNote ?Term\n",
    "{\n",
    "  ?Subject gvp:broaderExtended aat:300264086. # Associated Concepts Facet\n",
    "   optional {?Subject skos:scopeNote [dct:language gvp_lang:en; rdf:value ?ScopeNote]}\n",
    "   optional {?Subject gvp:prefLabelGVP [xl:literalForm ?Term]}\n",
    "   }\n",
    "\"\"\")\n",
    "\n",
    "# returns results as a json\n",
    "sparql.setReturnFormat(JSON)\n",
    "results = sparql.query().convert()\n",
    "\n",
    "# traverses the json\n",
    "results_df = pd.json_normalize(results['results']['bindings'])\n",
    "results_df.head()"
   ]
  },
  {
   "cell_type": "code",
   "execution_count": null,
   "id": "45",
   "metadata": {},
   "outputs": [],
   "source": [
    "results_df.shape"
   ]
  },
  {
   "cell_type": "code",
   "execution_count": null,
   "id": "46",
   "metadata": {},
   "outputs": [],
   "source": [
    "%store results_df"
   ]
  },
  {
   "cell_type": "code",
   "execution_count": null,
   "id": "47",
   "metadata": {},
   "outputs": [],
   "source": [
    "with open('data_dumps/results_df_aat_300264086.pickle', 'wb') as handle:\n",
    "    pickle.dump(results_df, handle, protocol=pickle.HIGHEST_PROTOCOL)"
   ]
  },
  {
   "cell_type": "markdown",
   "id": "48",
   "metadata": {},
   "source": [
    "## TGN | All places, their names, long- and latitude, regions, continents, etc.\n",
    " A minimum **TGN record** contains a numeric ID, a name, a place in the hierarchy, and a place type. However, the data model includes dates, relationships, and other rich data. Most records include coordinates. TGN focuses on the historical world and places necessary for cataloging and discovery of visual works. It is not intended to be comprehensive. Current areas of TGN development include 1) adding archaeological sites, lost sites, and other historical sites, particularly Pre-Columbian places and places in Asia, Middle East, Africa, and others, and 2) building hierarchies for historical nations and empires. "
   ]
  },
  {
   "cell_type": "code",
   "execution_count": null,
   "id": "49",
   "metadata": {},
   "outputs": [],
   "source": [
    "%%time\n",
    "# set sparql endpoint\n",
    "sparql = SPARQLWrapper(\"http://vocab.getty.edu/sparql\")\n",
    "\n",
    "# query\n",
    "sparql.setQuery(\"\"\"\n",
    "select ?tgn_id ?city_name ?lat ?long ?parentstring ?broader_parentstring {{\n",
    "  ?tgn_id skos:inScheme tgn: ; }\n",
    "OPTIONAL { ?tgn_id foaf:focus [wgs:lat ?lat; wgs:long ?long];\n",
    "    gvp:prefLabelGVP [xl:literalForm ?city_name].}\n",
    "OPTIONAL { ?tgn_id gvp:parentString ?parentstring. }\n",
    "OPTIONAL { ?tgn_id gvp:broaderPartitive ?x .\n",
    "           ?x gvp:parentString ?broader_parentstring}\n",
    "} \n",
    "\"\"\")\n",
    "\n",
    "print(f\"query done.\")\n",
    "\n",
    "# returns results as a json\n",
    "sparql.setReturnFormat(JSON)\n",
    "results = sparql.query().convert()\n",
    "\n",
    "print(f\"results converted.\")\n",
    "\n",
    "# traverses the json\n",
    "results_df = pd.json_normalize(results['results']['bindings'])\n",
    "results_df.shape"
   ]
  },
  {
   "cell_type": "code",
   "execution_count": null,
   "id": "50",
   "metadata": {},
   "outputs": [],
   "source": [
    "# delete empty results\n",
    "results_df = results_df[(results_df['city_name.value'].notnull())]\n",
    "\n",
    "# subset results and rename cols\n",
    "results_df = results_df[[\n",
    "#     'tgn_id.type', \n",
    "    'tgn_id.value', \n",
    "    'city_name.value',\n",
    "#     'parentstring.type', \n",
    "    'parentstring.value',\n",
    "#     'broader_parentstring.type',\n",
    "    'broader_parentstring.value',\n",
    "#     'city_name.xml:lang', \n",
    "#     'city_name.type', \n",
    "#     'lat.datatype', \n",
    "#     'lat.type',       \n",
    "    'lat.value', \n",
    "#     'long.datatype', \n",
    "#     'long.type', \n",
    "    'long.value'\n",
    "           ]].rename(columns={'tgn_id.value' : 'tgn_id', \n",
    "                              'city_name.value' : 'city_name', \n",
    "                              'parentstring.value' : 'parentstring',\n",
    "                              'broader_parentstring.value' : 'broader_parentstring',\n",
    "                              'lat.value' : 'lat',\n",
    "                              'long.value' : 'lon',\n",
    "                             })\n",
    "\n",
    "results_df.shape"
   ]
  },
  {
   "cell_type": "code",
   "execution_count": null,
   "id": "51",
   "metadata": {},
   "outputs": [],
   "source": [
    "%%time\n",
    "# compare two cols with strings, converted to list\n",
    "\n",
    "# initiate col\n",
    "results_df['inferred_city_name'] = ''\n",
    "\n",
    "# iterate over df\n",
    "for i in range(len(tqdm.notebook.tqdm(results_df, total=len(results_df)))):\n",
    "    \n",
    "    # check for empty values\n",
    "    if type(results_df['parentstring'].iloc[i]) != float and type(results_df['broader_parentstring'].iloc[i]) != float:\n",
    "        \n",
    "        # split and create two lists to compare\n",
    "        test = results_df['parentstring'].iloc[i].split(', ')\n",
    "        test2 = results_df['broader_parentstring'].iloc[i].split(', ')\n",
    "        \n",
    "    # iterate over list and return diff\n",
    "        for item in test:\n",
    "            if item not in test2:\n",
    "                results_df['inferred_city_name'].iloc[i] = item\n",
    "    else:\n",
    "        results_df['inferred_city_name'].iloc[i] = ''"
   ]
  },
  {
   "cell_type": "code",
   "execution_count": null,
   "id": "52",
   "metadata": {},
   "outputs": [],
   "source": [
    "# reorder cols\n",
    "results_df = results_df[['tgn_id', 'city_name', 'inferred_city_name', 'parentstring', 'broader_parentstring', 'lat',\n",
    "       'lon']]"
   ]
  },
  {
   "cell_type": "code",
   "execution_count": null,
   "id": "53",
   "metadata": {},
   "outputs": [],
   "source": [
    "results_df.head()"
   ]
  },
  {
   "cell_type": "code",
   "execution_count": null,
   "id": "54",
   "metadata": {},
   "outputs": [],
   "source": [
    "with open('data_dumps/results_df_tgn_country.pickle', 'wb') as handle:\n",
    "    pickle.dump(results_df, handle, protocol=pickle.HIGHEST_PROTOCOL)"
   ]
  },
  {
   "cell_type": "markdown",
   "id": "55",
   "metadata": {},
   "source": [
    "# RKD"
   ]
  },
  {
   "cell_type": "markdown",
   "id": "56",
   "metadata": {},
   "source": [
    "## RKDartists | all subjects with a name\n",
    "In RKDartists, data are maintained on more than **350,000 Dutch and Flemish artists**, art dealers, collectors and other art-related figures. Biographical data such as birth and death dates, family relationships and workplaces of artists are extracted from RKDartists."
   ]
  },
  {
   "cell_type": "code",
   "execution_count": null,
   "id": "57",
   "metadata": {},
   "outputs": [],
   "source": [
    "%%time\n",
    "# set sparql endpoint\n",
    "sparql = SPARQLWrapper(\"https://api.data.netwerkdigitaalerfgoed.nl/datasets/rkd/rkdartists/services/rkdartists/sparql\")\n",
    "\n",
    "# query\n",
    "sparql.setQuery(\"\"\"\n",
    "PREFIX rkd_birth: <http://data.rkd.nl/def#Birth>\n",
    "PREFIX rkd_death: <http://data.rkd.nl/def#Death>\n",
    "PREFIX schema: <http://schema.org/>\n",
    "PREFIX rdf: <http://www.w3.org/1999/02/22-rdf-syntax-ns#>\n",
    "\n",
    "SELECT ?rkd_link ?name ?altname ?actor ?rkd_id ?startdate ?enddate ?description \n",
    "WHERE {\n",
    "    ?rkd_link schema:name ?name . \n",
    "    OPTIONAL {?rkd_link schema:description ?description}\n",
    "    OPTIONAL { ?rkd_link schema:actor ?actor.}\n",
    "    OPTIONAL { ?rkd_link schema:alternateName ?altname. }\n",
    "    OPTIONAL { ?rkd_link schema:identifier ?rkd_id . }\n",
    "    OPTIONAL { ?rkd_link rkd_birth: ?birth . }\n",
    "    OPTIONAL { ?birth schema:endDate ?startdate . }\n",
    "    OPTIONAL { ?rkd_link rkd_death: ?death . }\n",
    "    OPTIONAL { ?death schema:startDate ?enddate . }\n",
    "    } \n",
    "\"\"\")\n",
    "\n",
    "print(f\"query done.\")\n",
    "\n",
    "# returns results as a json\n",
    "sparql.setReturnFormat(JSON)\n",
    "results = sparql.query().convert()\n",
    "\n",
    "print(f\"results converted.\")\n",
    "\n",
    "# traverses the json\n",
    "results_df = pd.json_normalize(results['results']['bindings'])\n",
    "results_df.shape"
   ]
  },
  {
   "cell_type": "code",
   "execution_count": null,
   "id": "58",
   "metadata": {},
   "outputs": [],
   "source": [
    "# delete empty results\n",
    "results_df = results_df[(results_df['rkd_link.value'].notnull())]\n",
    "\n",
    "# subset results and rename cols\n",
    "results_df = (results_df[[\n",
    "    # 'rkd_link.type', \n",
    "    'rkd_link.value',\n",
    "    # 'name.type',\n",
    "    'name.value',\n",
    "    # 'name.xml:lang',\n",
    "    # 'altname.type',\n",
    "    'altname.value',\n",
    "    # 'rkd_id.type',\n",
    "    'rkd_id.value',\n",
    "    # 'startdate.type',\n",
    "    'startdate.value',\n",
    "    # 'startdate.datatype',\n",
    "    # 'enddate.type',\n",
    "    'enddate.value',\n",
    "    # 'enddate.datatype',\n",
    "    # 'description.type',\n",
    "    'description.value',\n",
    "    # 'description.xml:lang',\n",
    "    # 'rkd_id.datatype'\n",
    "    ]])\n",
    "\n",
    "# rename cols\n",
    "for col in results_df.columns:\n",
    "    results_df.rename(columns={col:col.replace('.value', '')}, inplace=True)\n",
    "    \n",
    "# splits description col\n",
    "results_df['description_prefix'] = results_df['description'].str.split(':').str[0]\n",
    "results_df['description'] = results_df['description'].str.split(':').str[1]\n",
    "\n",
    "# reorder cols\n",
    "results_df = results_df[['rkd_link', 'name', 'altname', 'rkd_id', 'startdate', 'enddate','description_prefix', 'description']]\n",
    "results_df.head()"
   ]
  },
  {
   "cell_type": "code",
   "execution_count": null,
   "id": "59",
   "metadata": {},
   "outputs": [],
   "source": [
    "with open('data_dumps/results_df_rkd_first_10000.pickle', 'wb') as handle:\n",
    "    pickle.dump(results_df, handle, protocol=pickle.HIGHEST_PROTOCOL)"
   ]
  }
 ],
 "metadata": {
  "kernelspec": {
   "display_name": "getty_ulan",
   "language": "python",
   "name": "python3"
  },
  "language_info": {
   "codemirror_mode": {
    "name": "ipython",
    "version": 3
   },
   "file_extension": ".py",
   "mimetype": "text/x-python",
   "name": "python",
   "nbconvert_exporter": "python",
   "pygments_lexer": "ipython3",
   "version": "3.11.9"
  },
  "toc": {
   "base_numbering": 1,
   "nav_menu": {},
   "number_sections": true,
   "sideBar": true,
   "skip_h1_title": false,
   "title_cell": "Table of Contents",
   "title_sidebar": "Contents",
   "toc_cell": false,
   "toc_position": {},
   "toc_section_display": true,
   "toc_window_display": false
  },
  "varInspector": {
   "cols": {
    "lenName": 16,
    "lenType": 16,
    "lenVar": 40
   },
   "kernels_config": {
    "python": {
     "delete_cmd_postfix": "",
     "delete_cmd_prefix": "del ",
     "library": "var_list.py",
     "varRefreshCmd": "print(var_dic_list())"
    },
    "r": {
     "delete_cmd_postfix": ") ",
     "delete_cmd_prefix": "rm(",
     "library": "var_list.r",
     "varRefreshCmd": "cat(var_dic_list()) "
    }
   },
   "types_to_exclude": [
    "module",
    "function",
    "builtin_function_or_method",
    "instance",
    "_Feature"
   ],
   "window_display": false
  }
 },
 "nbformat": 4,
 "nbformat_minor": 5
}
