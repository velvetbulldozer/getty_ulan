{
 "cells": [
  {
   "cell_type": "markdown",
   "id": "75b1ac60",
   "metadata": {
    "heading_collapsed": true
   },
   "source": [
    "# Use the Getty ULAN SPARQL endpoint to correct painter's data\n",
    "- testrun @ 2023-06-16 and added code on 2023-07-03, 2024-05-20\n",
    "- SPARQL (“SPARQL Protocol And RDF Query Language”) is a W3C standard for querying RDF and can be used to express queries across diverse data sources, whether the data is stored natively as RDF or viewed as RDF via middleware\n",
    "- SPARQLWrapper is a simple Python wrapper around a SPARQL service for remote query execution. Not only does it enable us to write more complex queries to extract information from RDF than those exposed through a library like rdflib, it can also convert query results into other formats like JSON and CSV!"
   ]
  },
  {
   "cell_type": "markdown",
   "id": "64f7dc36",
   "metadata": {
    "ExecuteTime": {
     "end_time": "2023-06-16T18:48:22.593262Z",
     "start_time": "2023-06-16T18:48:22.593262Z"
    },
    "hidden": true
   },
   "source": [
    "## Literature\n",
    "- https://rebeccabilbro.github.io/sparql-from-python/\n",
    "- https://groups.google.com/g/gettyvocablod/c/mSnqx3rd8lM/m/LKPstWJyAwAJ\n",
    "- https://sparqlwrapper.readthedocs.io/en/stable/main.html\n",
    "- https://github.com/RDFLib/sparqlwrapper/blob/master/scripts/example.py\n",
    "\n",
    "\n",
    "## CSV example\n",
    "```sparql.setReturnFormat(CSV)\n",
    "results = sparql.query().convert()\n",
    "print(results)'''```"
   ]
  },
  {
   "cell_type": "markdown",
   "id": "18a7f3db",
   "metadata": {},
   "source": [
    "# Import"
   ]
  },
  {
   "cell_type": "markdown",
   "id": "167b6d52",
   "metadata": {},
   "source": [
    "## Import libraries"
   ]
  },
  {
   "cell_type": "code",
   "execution_count": 1,
   "id": "dc95bbcc",
   "metadata": {
    "ExecuteTime": {
     "end_time": "2024-06-02T08:55:23.032908Z",
     "start_time": "2024-06-02T08:55:22.169489Z"
    }
   },
   "outputs": [],
   "source": [
    "import pickle\n",
    "import pandas as pd\n",
    "from SPARQLWrapper import SPARQLWrapper, JSON, CSV"
   ]
  },
  {
   "cell_type": "markdown",
   "id": "1c0808ed",
   "metadata": {
    "heading_collapsed": true
   },
   "source": [
    "# Tests"
   ]
  },
  {
   "cell_type": "markdown",
   "id": "dbac1620",
   "metadata": {
    "heading_collapsed": true,
    "hidden": true
   },
   "source": [
    "## Test | SPARQLWrapper on wikipedia data"
   ]
  },
  {
   "cell_type": "code",
   "execution_count": 4,
   "id": "1b543b1d",
   "metadata": {
    "ExecuteTime": {
     "end_time": "2024-05-18T11:58:09.390774Z",
     "start_time": "2024-05-18T11:58:08.353972Z"
    },
    "hidden": true
   },
   "outputs": [
    {
     "data": {
      "text/html": [
       "<div>\n",
       "<style scoped>\n",
       "    .dataframe tbody tr th:only-of-type {\n",
       "        vertical-align: middle;\n",
       "    }\n",
       "\n",
       "    .dataframe tbody tr th {\n",
       "        vertical-align: top;\n",
       "    }\n",
       "\n",
       "    .dataframe thead th {\n",
       "        text-align: right;\n",
       "    }\n",
       "</style>\n",
       "<table border=\"1\" class=\"dataframe\">\n",
       "  <thead>\n",
       "    <tr style=\"text-align: right;\">\n",
       "      <th></th>\n",
       "      <th>item.type</th>\n",
       "      <th>item.value</th>\n",
       "      <th>itemLabel.xml:lang</th>\n",
       "      <th>itemLabel.type</th>\n",
       "      <th>itemLabel.value</th>\n",
       "    </tr>\n",
       "  </thead>\n",
       "  <tbody>\n",
       "    <tr>\n",
       "      <th>0</th>\n",
       "      <td>uri</td>\n",
       "      <td>http://www.wikidata.org/entity/Q249114</td>\n",
       "      <td>en</td>\n",
       "      <td>literal</td>\n",
       "      <td>salsa</td>\n",
       "    </tr>\n",
       "    <tr>\n",
       "      <th>1</th>\n",
       "      <td>uri</td>\n",
       "      <td>http://www.wikidata.org/entity/Q335016</td>\n",
       "      <td>en</td>\n",
       "      <td>literal</td>\n",
       "      <td>Tabasco sauce</td>\n",
       "    </tr>\n",
       "    <tr>\n",
       "      <th>2</th>\n",
       "      <td>uri</td>\n",
       "      <td>http://www.wikidata.org/entity/Q360459</td>\n",
       "      <td>en</td>\n",
       "      <td>literal</td>\n",
       "      <td>Adobo</td>\n",
       "    </tr>\n",
       "    <tr>\n",
       "      <th>3</th>\n",
       "      <td>uri</td>\n",
       "      <td>http://www.wikidata.org/entity/Q460439</td>\n",
       "      <td>en</td>\n",
       "      <td>literal</td>\n",
       "      <td>Blair's 16 Million Reserve</td>\n",
       "    </tr>\n",
       "    <tr>\n",
       "      <th>4</th>\n",
       "      <td>uri</td>\n",
       "      <td>http://www.wikidata.org/entity/Q736782</td>\n",
       "      <td>en</td>\n",
       "      <td>literal</td>\n",
       "      <td>Llajua</td>\n",
       "    </tr>\n",
       "  </tbody>\n",
       "</table>\n",
       "</div>"
      ],
      "text/plain": [
       "  item.type                              item.value itemLabel.xml:lang  \\\n",
       "0       uri  http://www.wikidata.org/entity/Q249114                 en   \n",
       "1       uri  http://www.wikidata.org/entity/Q335016                 en   \n",
       "2       uri  http://www.wikidata.org/entity/Q360459                 en   \n",
       "3       uri  http://www.wikidata.org/entity/Q460439                 en   \n",
       "4       uri  http://www.wikidata.org/entity/Q736782                 en   \n",
       "\n",
       "  itemLabel.type             itemLabel.value  \n",
       "0        literal                       salsa  \n",
       "1        literal               Tabasco sauce  \n",
       "2        literal                       Adobo  \n",
       "3        literal  Blair's 16 Million Reserve  \n",
       "4        literal                      Llajua  "
      ]
     },
     "execution_count": 4,
     "metadata": {},
     "output_type": "execute_result"
    }
   ],
   "source": [
    "sparql = SPARQLWrapper(\"https://query.wikidata.org/sparql\")\n",
    "\n",
    "# Below we SELECT both the hot sauce items & their labels\n",
    "# in the WHERE clause we specify that we want labels as well as items\n",
    "sparql.setQuery(\"\"\"\n",
    "SELECT ?item ?itemLabel\n",
    "\n",
    "WHERE {\n",
    "  ?item wdt:P279 wd:Q522171.\n",
    "  SERVICE wikibase:label { bd:serviceParam wikibase:language \"[AUTO_LANGUAGE],en\". }\n",
    "}\n",
    "\"\"\")\n",
    "# sparql.setReturnFormat(CSV)\n",
    "sparql.setReturnFormat(JSON)\n",
    "results = sparql.query().convert()\n",
    "\n",
    "results_df = pd.json_normalize(results['results']['bindings'])\n",
    "\n",
    "results_df.head()"
   ]
  },
  {
   "cell_type": "markdown",
   "id": "90ba0468",
   "metadata": {
    "heading_collapsed": true,
    "hidden": true
   },
   "source": [
    "## Test | SPARQLWrapper on ULAN endpoint, works\n",
    "- retrieves uri for all Person, Artist (ULAN facet)."
   ]
  },
  {
   "cell_type": "code",
   "execution_count": 5,
   "id": "f9645acc",
   "metadata": {
    "ExecuteTime": {
     "end_time": "2024-05-18T11:59:43.058977Z",
     "start_time": "2024-05-18T11:58:10.124757Z"
    },
    "hidden": true
   },
   "outputs": [
    {
     "name": "stdout",
     "output_type": "stream",
     "text": [
      "CPU times: total: 1.17 s\n",
      "Wall time: 15.1 s\n"
     ]
    }
   ],
   "source": [
    "%%time\n",
    "\n",
    "sparql = SPARQLWrapper(\"http://vocab.getty.edu/sparql\")\n",
    "\n",
    "# Below we SELECT both the hot sauce items & their labels\n",
    "# in the WHERE clause we specify that we want labels as well as items\n",
    "sparql.setQuery(\"\"\"\n",
    "SELECT * WHERE { ulan:500000002 skos:member ?p . }\n",
    "\"\"\")\n",
    "sparql.setReturnFormat(JSON)\n",
    "results = sparql.query().convert()"
   ]
  },
  {
   "cell_type": "code",
   "execution_count": 6,
   "id": "e5b2a21a",
   "metadata": {
    "ExecuteTime": {
     "end_time": "2024-05-18T11:59:43.114407Z",
     "start_time": "2024-05-18T11:59:43.114407Z"
    },
    "hidden": true
   },
   "outputs": [
    {
     "data": {
      "text/html": [
       "<div>\n",
       "<style scoped>\n",
       "    .dataframe tbody tr th:only-of-type {\n",
       "        vertical-align: middle;\n",
       "    }\n",
       "\n",
       "    .dataframe tbody tr th {\n",
       "        vertical-align: top;\n",
       "    }\n",
       "\n",
       "    .dataframe thead th {\n",
       "        text-align: right;\n",
       "    }\n",
       "</style>\n",
       "<table border=\"1\" class=\"dataframe\">\n",
       "  <thead>\n",
       "    <tr style=\"text-align: right;\">\n",
       "      <th></th>\n",
       "      <th>p.type</th>\n",
       "      <th>p.value</th>\n",
       "    </tr>\n",
       "  </thead>\n",
       "  <tbody>\n",
       "    <tr>\n",
       "      <th>0</th>\n",
       "      <td>uri</td>\n",
       "      <td>http://vocab.getty.edu/ulan/500771934</td>\n",
       "    </tr>\n",
       "    <tr>\n",
       "      <th>1</th>\n",
       "      <td>uri</td>\n",
       "      <td>http://vocab.getty.edu/ulan/500557119</td>\n",
       "    </tr>\n",
       "    <tr>\n",
       "      <th>2</th>\n",
       "      <td>uri</td>\n",
       "      <td>http://vocab.getty.edu/ulan/500632715</td>\n",
       "    </tr>\n",
       "    <tr>\n",
       "      <th>3</th>\n",
       "      <td>uri</td>\n",
       "      <td>http://vocab.getty.edu/ulan/500546545</td>\n",
       "    </tr>\n",
       "    <tr>\n",
       "      <th>4</th>\n",
       "      <td>uri</td>\n",
       "      <td>http://vocab.getty.edu/ulan/500108834</td>\n",
       "    </tr>\n",
       "    <tr>\n",
       "      <th>...</th>\n",
       "      <td>...</td>\n",
       "      <td>...</td>\n",
       "    </tr>\n",
       "    <tr>\n",
       "      <th>286915</th>\n",
       "      <td>uri</td>\n",
       "      <td>http://vocab.getty.edu/ulan/500077242</td>\n",
       "    </tr>\n",
       "    <tr>\n",
       "      <th>286916</th>\n",
       "      <td>uri</td>\n",
       "      <td>http://vocab.getty.edu/ulan/500426555</td>\n",
       "    </tr>\n",
       "    <tr>\n",
       "      <th>286917</th>\n",
       "      <td>uri</td>\n",
       "      <td>http://vocab.getty.edu/ulan/500548610</td>\n",
       "    </tr>\n",
       "    <tr>\n",
       "      <th>286918</th>\n",
       "      <td>uri</td>\n",
       "      <td>http://vocab.getty.edu/ulan/500602361</td>\n",
       "    </tr>\n",
       "    <tr>\n",
       "      <th>286919</th>\n",
       "      <td>uri</td>\n",
       "      <td>http://vocab.getty.edu/ulan/500106110</td>\n",
       "    </tr>\n",
       "  </tbody>\n",
       "</table>\n",
       "<p>286920 rows × 2 columns</p>\n",
       "</div>"
      ],
      "text/plain": [
       "       p.type                                p.value\n",
       "0         uri  http://vocab.getty.edu/ulan/500771934\n",
       "1         uri  http://vocab.getty.edu/ulan/500557119\n",
       "2         uri  http://vocab.getty.edu/ulan/500632715\n",
       "3         uri  http://vocab.getty.edu/ulan/500546545\n",
       "4         uri  http://vocab.getty.edu/ulan/500108834\n",
       "...       ...                                    ...\n",
       "286915    uri  http://vocab.getty.edu/ulan/500077242\n",
       "286916    uri  http://vocab.getty.edu/ulan/500426555\n",
       "286917    uri  http://vocab.getty.edu/ulan/500548610\n",
       "286918    uri  http://vocab.getty.edu/ulan/500602361\n",
       "286919    uri  http://vocab.getty.edu/ulan/500106110\n",
       "\n",
       "[286920 rows x 2 columns]"
      ]
     },
     "execution_count": 6,
     "metadata": {},
     "output_type": "execute_result"
    }
   ],
   "source": [
    "results_df = pd.json_normalize(results['results']['bindings'])\n",
    "results_df"
   ]
  },
  {
   "cell_type": "markdown",
   "id": "669ec698",
   "metadata": {},
   "source": [
    "# Getty ULAN SPARQL queries via SPARQLWrapper, all do function"
   ]
  },
  {
   "cell_type": "markdown",
   "id": "c700cf0b",
   "metadata": {
    "heading_collapsed": true
   },
   "source": [
    "## Getty, full query, returns all subjects within ULAN\n",
    "- https://www.getty.edu/vow/ULANFullDisplay?find=&role=&nation=&page=1&subjectid=500000002\n",
    "\n",
    "**Persons, Artists (ULAN facet)** Note: Records under this level represent information for individuals involved in the creation or production of works of fine art or architecture, for example painters, sculptors, printmakers, and architects. Included are individuals whose biographies are well known (e.g., Rembrandt van Rijn (Dutch painter and printmaker, 1606-1669)) as well as anonymous creators with identified oeuvres but whose names are unknown and whose biography is surmised (e.g., Master of Alkmaar (North Netherlandish painter, active ca. 1490-ca. 1510)). Craftsmen, artisans, engineers, and others who create visual works are included here, even if their works are not considered fine art per se. People whose primary life roles were other than \"artist\" or \"architect,\" but who created or designed art or architecture in a professional or amateur capacity, are included here with a non-preferred relationship to this facet (e.g., Thomas Jefferson (American statesman, architect, and draftsman, 1743-1826)). Performance artists are included here. "
   ]
  },
  {
   "cell_type": "markdown",
   "id": "f8b7b247",
   "metadata": {
    "hidden": true
   },
   "source": [
    "### Initial new SPARQL-query"
   ]
  },
  {
   "cell_type": "code",
   "execution_count": null,
   "id": "08b6e8ca",
   "metadata": {
    "ExecuteTime": {
     "start_time": "2024-05-26T18:21:07.161Z"
    },
    "hidden": true
   },
   "outputs": [],
   "source": [
    "%%time\n",
    "\n",
    "# set sparql endpoint\n",
    "sparql = SPARQLWrapper(\"http://vocab.getty.edu/sparql\")\n",
    "\n",
    "# query\n",
    "sparql.setQuery(\"\"\"\n",
    "select ?x ?name ?bio ?nationality ?type ?ScopeNote \n",
    "{\n",
    "  ?x gvp:broaderExtended ulan:500000002. # Persons, Artists\n",
    "  optional {?x gvp:agentTypePreferred [gvp:prefLabelGVP [xl:literalForm ?type]]}\n",
    "  optional {?x foaf:focus [gvp:nationalityPreferred [gvp:prefLabelGVP [xl:literalForm ?nationality]]]}\n",
    "  optional {?x gvp:prefLabelGVP [xl:literalForm ?name]}\n",
    "  optional {?x foaf:focus [gvp:biographyPreferred [schema:description ?bio]]\n",
    "  optional {?x skos:scopeNote [dct:language gvp_lang:en; rdf:value ?ScopeNote]}}\n",
    "  }\n",
    "\"\"\")\n",
    "\n",
    "# returns results as a json\n",
    "sparql.setReturnFormat(JSON)\n",
    "\n",
    "results = sparql.query().convert()"
   ]
  },
  {
   "cell_type": "code",
   "execution_count": null,
   "id": "c4f11c14",
   "metadata": {
    "ExecuteTime": {
     "start_time": "2024-05-26T18:21:08.595Z"
    },
    "hidden": true
   },
   "outputs": [],
   "source": [
    "# traverses the json\n",
    "results_df = pd.json_normalize(results['results']['bindings'])\n",
    "results_df.head()"
   ]
  },
  {
   "cell_type": "code",
   "execution_count": null,
   "id": "e805e8f5",
   "metadata": {
    "ExecuteTime": {
     "start_time": "2024-05-26T18:21:10.410Z"
    },
    "hidden": true
   },
   "outputs": [],
   "source": [
    "results_df.shape"
   ]
  },
  {
   "cell_type": "code",
   "execution_count": null,
   "id": "cb5b4b96",
   "metadata": {
    "ExecuteTime": {
     "start_time": "2024-05-26T18:21:11.171Z"
    },
    "hidden": true
   },
   "outputs": [],
   "source": [
    "%store results_df"
   ]
  },
  {
   "cell_type": "code",
   "execution_count": 21,
   "id": "809c86d3",
   "metadata": {
    "hidden": true
   },
   "outputs": [],
   "source": [
    "# with open('result_json.pickle', 'wb') as handle:\n",
    "#     pickle.dump(results, handle, protocol=pickle.HIGHEST_PROTOCOL)\n",
    "\n",
    "# with open('result_json.pickle', 'rb') as handle:\n",
    "#     b = pickle.load(handle)\n",
    "\n",
    "with open('data_dumps/results_df_all_ulan.pickle', 'wb') as handle:\n",
    "    pickle.dump(results_df, handle, protocol=pickle.HIGHEST_PROTOCOL)\n",
    "\n",
    "# with open('data_dumps/results_df_all_ulan.pickle', 'rb') as handle:\n",
    "#     df = pickle.load(handle)"
   ]
  },
  {
   "cell_type": "markdown",
   "id": "df1bad93",
   "metadata": {
    "heading_collapsed": true,
    "hidden": true
   },
   "source": [
    "### Initial query"
   ]
  },
  {
   "cell_type": "code",
   "execution_count": 19,
   "id": "d6266b2e",
   "metadata": {
    "ExecuteTime": {
     "end_time": "2024-05-18T10:31:00.211929Z",
     "start_time": "2024-05-18T10:30:59.623395Z"
    },
    "hidden": true,
    "scrolled": true
   },
   "outputs": [
    {
     "ename": "EndPointInternalError",
     "evalue": "EndPointInternalError: endpoint returned code 500 and response.",
     "output_type": "error",
     "traceback": [
      "\u001b[1;31m---------------------------------------------------------------------------\u001b[0m",
      "\u001b[1;31mHTTPError\u001b[0m                                 Traceback (most recent call last)",
      "\u001b[1;32m~\\Miniconda3\\lib\\site-packages\\SPARQLWrapper\\Wrapper.py\u001b[0m in \u001b[0;36m_query\u001b[1;34m(self)\u001b[0m\n\u001b[0;32m   1072\u001b[0m             \u001b[1;32melse\u001b[0m\u001b[1;33m:\u001b[0m\u001b[1;33m\u001b[0m\u001b[1;33m\u001b[0m\u001b[0m\n\u001b[1;32m-> 1073\u001b[1;33m                 \u001b[0mresponse\u001b[0m \u001b[1;33m=\u001b[0m \u001b[0murlopener\u001b[0m\u001b[1;33m(\u001b[0m\u001b[0mrequest\u001b[0m\u001b[1;33m)\u001b[0m\u001b[1;33m\u001b[0m\u001b[1;33m\u001b[0m\u001b[0m\n\u001b[0m\u001b[0;32m   1074\u001b[0m             \u001b[1;32mreturn\u001b[0m \u001b[0mresponse\u001b[0m\u001b[1;33m,\u001b[0m \u001b[0mself\u001b[0m\u001b[1;33m.\u001b[0m\u001b[0mreturnFormat\u001b[0m\u001b[1;33m\u001b[0m\u001b[1;33m\u001b[0m\u001b[0m\n",
      "\u001b[1;32m~\\Miniconda3\\lib\\urllib\\request.py\u001b[0m in \u001b[0;36murlopen\u001b[1;34m(url, data, timeout, cafile, capath, cadefault, context)\u001b[0m\n\u001b[0;32m    221\u001b[0m         \u001b[0mopener\u001b[0m \u001b[1;33m=\u001b[0m \u001b[0m_opener\u001b[0m\u001b[1;33m\u001b[0m\u001b[1;33m\u001b[0m\u001b[0m\n\u001b[1;32m--> 222\u001b[1;33m     \u001b[1;32mreturn\u001b[0m \u001b[0mopener\u001b[0m\u001b[1;33m.\u001b[0m\u001b[0mopen\u001b[0m\u001b[1;33m(\u001b[0m\u001b[0murl\u001b[0m\u001b[1;33m,\u001b[0m \u001b[0mdata\u001b[0m\u001b[1;33m,\u001b[0m \u001b[0mtimeout\u001b[0m\u001b[1;33m)\u001b[0m\u001b[1;33m\u001b[0m\u001b[1;33m\u001b[0m\u001b[0m\n\u001b[0m\u001b[0;32m    223\u001b[0m \u001b[1;33m\u001b[0m\u001b[0m\n",
      "\u001b[1;32m~\\Miniconda3\\lib\\urllib\\request.py\u001b[0m in \u001b[0;36mopen\u001b[1;34m(self, fullurl, data, timeout)\u001b[0m\n\u001b[0;32m    530\u001b[0m             \u001b[0mmeth\u001b[0m \u001b[1;33m=\u001b[0m \u001b[0mgetattr\u001b[0m\u001b[1;33m(\u001b[0m\u001b[0mprocessor\u001b[0m\u001b[1;33m,\u001b[0m \u001b[0mmeth_name\u001b[0m\u001b[1;33m)\u001b[0m\u001b[1;33m\u001b[0m\u001b[1;33m\u001b[0m\u001b[0m\n\u001b[1;32m--> 531\u001b[1;33m             \u001b[0mresponse\u001b[0m \u001b[1;33m=\u001b[0m \u001b[0mmeth\u001b[0m\u001b[1;33m(\u001b[0m\u001b[0mreq\u001b[0m\u001b[1;33m,\u001b[0m \u001b[0mresponse\u001b[0m\u001b[1;33m)\u001b[0m\u001b[1;33m\u001b[0m\u001b[1;33m\u001b[0m\u001b[0m\n\u001b[0m\u001b[0;32m    532\u001b[0m \u001b[1;33m\u001b[0m\u001b[0m\n",
      "\u001b[1;32m~\\Miniconda3\\lib\\urllib\\request.py\u001b[0m in \u001b[0;36mhttp_response\u001b[1;34m(self, request, response)\u001b[0m\n\u001b[0;32m    640\u001b[0m             response = self.parent.error(\n\u001b[1;32m--> 641\u001b[1;33m                 'http', request, response, code, msg, hdrs)\n\u001b[0m\u001b[0;32m    642\u001b[0m \u001b[1;33m\u001b[0m\u001b[0m\n",
      "\u001b[1;32m~\\Miniconda3\\lib\\urllib\\request.py\u001b[0m in \u001b[0;36merror\u001b[1;34m(self, proto, *args)\u001b[0m\n\u001b[0;32m    568\u001b[0m             \u001b[0margs\u001b[0m \u001b[1;33m=\u001b[0m \u001b[1;33m(\u001b[0m\u001b[0mdict\u001b[0m\u001b[1;33m,\u001b[0m \u001b[1;34m'default'\u001b[0m\u001b[1;33m,\u001b[0m \u001b[1;34m'http_error_default'\u001b[0m\u001b[1;33m)\u001b[0m \u001b[1;33m+\u001b[0m \u001b[0morig_args\u001b[0m\u001b[1;33m\u001b[0m\u001b[1;33m\u001b[0m\u001b[0m\n\u001b[1;32m--> 569\u001b[1;33m             \u001b[1;32mreturn\u001b[0m \u001b[0mself\u001b[0m\u001b[1;33m.\u001b[0m\u001b[0m_call_chain\u001b[0m\u001b[1;33m(\u001b[0m\u001b[1;33m*\u001b[0m\u001b[0margs\u001b[0m\u001b[1;33m)\u001b[0m\u001b[1;33m\u001b[0m\u001b[1;33m\u001b[0m\u001b[0m\n\u001b[0m\u001b[0;32m    570\u001b[0m \u001b[1;33m\u001b[0m\u001b[0m\n",
      "\u001b[1;32m~\\Miniconda3\\lib\\urllib\\request.py\u001b[0m in \u001b[0;36m_call_chain\u001b[1;34m(self, chain, kind, meth_name, *args)\u001b[0m\n\u001b[0;32m    502\u001b[0m             \u001b[0mfunc\u001b[0m \u001b[1;33m=\u001b[0m \u001b[0mgetattr\u001b[0m\u001b[1;33m(\u001b[0m\u001b[0mhandler\u001b[0m\u001b[1;33m,\u001b[0m \u001b[0mmeth_name\u001b[0m\u001b[1;33m)\u001b[0m\u001b[1;33m\u001b[0m\u001b[1;33m\u001b[0m\u001b[0m\n\u001b[1;32m--> 503\u001b[1;33m             \u001b[0mresult\u001b[0m \u001b[1;33m=\u001b[0m \u001b[0mfunc\u001b[0m\u001b[1;33m(\u001b[0m\u001b[1;33m*\u001b[0m\u001b[0margs\u001b[0m\u001b[1;33m)\u001b[0m\u001b[1;33m\u001b[0m\u001b[1;33m\u001b[0m\u001b[0m\n\u001b[0m\u001b[0;32m    504\u001b[0m             \u001b[1;32mif\u001b[0m \u001b[0mresult\u001b[0m \u001b[1;32mis\u001b[0m \u001b[1;32mnot\u001b[0m \u001b[1;32mNone\u001b[0m\u001b[1;33m:\u001b[0m\u001b[1;33m\u001b[0m\u001b[1;33m\u001b[0m\u001b[0m\n",
      "\u001b[1;32m~\\Miniconda3\\lib\\urllib\\request.py\u001b[0m in \u001b[0;36mhttp_error_default\u001b[1;34m(self, req, fp, code, msg, hdrs)\u001b[0m\n\u001b[0;32m    648\u001b[0m     \u001b[1;32mdef\u001b[0m \u001b[0mhttp_error_default\u001b[0m\u001b[1;33m(\u001b[0m\u001b[0mself\u001b[0m\u001b[1;33m,\u001b[0m \u001b[0mreq\u001b[0m\u001b[1;33m,\u001b[0m \u001b[0mfp\u001b[0m\u001b[1;33m,\u001b[0m \u001b[0mcode\u001b[0m\u001b[1;33m,\u001b[0m \u001b[0mmsg\u001b[0m\u001b[1;33m,\u001b[0m \u001b[0mhdrs\u001b[0m\u001b[1;33m)\u001b[0m\u001b[1;33m:\u001b[0m\u001b[1;33m\u001b[0m\u001b[1;33m\u001b[0m\u001b[0m\n\u001b[1;32m--> 649\u001b[1;33m         \u001b[1;32mraise\u001b[0m \u001b[0mHTTPError\u001b[0m\u001b[1;33m(\u001b[0m\u001b[0mreq\u001b[0m\u001b[1;33m.\u001b[0m\u001b[0mfull_url\u001b[0m\u001b[1;33m,\u001b[0m \u001b[0mcode\u001b[0m\u001b[1;33m,\u001b[0m \u001b[0mmsg\u001b[0m\u001b[1;33m,\u001b[0m \u001b[0mhdrs\u001b[0m\u001b[1;33m,\u001b[0m \u001b[0mfp\u001b[0m\u001b[1;33m)\u001b[0m\u001b[1;33m\u001b[0m\u001b[1;33m\u001b[0m\u001b[0m\n\u001b[0m\u001b[0;32m    650\u001b[0m \u001b[1;33m\u001b[0m\u001b[0m\n",
      "\u001b[1;31mHTTPError\u001b[0m: HTTP Error 500: Internal Server Error",
      "\nDuring handling of the above exception, another exception occurred:\n",
      "\u001b[1;31mEndPointInternalError\u001b[0m                     Traceback (most recent call last)",
      "\u001b[1;32m<timed exec>\u001b[0m in \u001b[0;36m<module>\u001b[1;34m\u001b[0m\n",
      "\u001b[1;32m~\\Miniconda3\\lib\\site-packages\\SPARQLWrapper\\Wrapper.py\u001b[0m in \u001b[0;36mquery\u001b[1;34m(self)\u001b[0m\n\u001b[0;32m   1105\u001b[0m             \u001b[1;33m:\u001b[0m\u001b[0mrtype\u001b[0m\u001b[1;33m:\u001b[0m \u001b[1;33m:\u001b[0m\u001b[1;32mclass\u001b[0m\u001b[1;33m:\u001b[0m\u001b[0;31m`\u001b[0m\u001b[0mQueryResult\u001b[0m\u001b[0;31m`\u001b[0m \u001b[0minstance\u001b[0m\u001b[1;33m\u001b[0m\u001b[1;33m\u001b[0m\u001b[0m\n\u001b[0;32m   1106\u001b[0m         \"\"\"\n\u001b[1;32m-> 1107\u001b[1;33m         \u001b[1;32mreturn\u001b[0m \u001b[0mQueryResult\u001b[0m\u001b[1;33m(\u001b[0m\u001b[0mself\u001b[0m\u001b[1;33m.\u001b[0m\u001b[0m_query\u001b[0m\u001b[1;33m(\u001b[0m\u001b[1;33m)\u001b[0m\u001b[1;33m)\u001b[0m\u001b[1;33m\u001b[0m\u001b[1;33m\u001b[0m\u001b[0m\n\u001b[0m\u001b[0;32m   1108\u001b[0m \u001b[1;33m\u001b[0m\u001b[0m\n\u001b[0;32m   1109\u001b[0m     \u001b[1;32mdef\u001b[0m \u001b[0mqueryAndConvert\u001b[0m\u001b[1;33m(\u001b[0m\u001b[0mself\u001b[0m\u001b[1;33m)\u001b[0m\u001b[1;33m:\u001b[0m\u001b[1;33m\u001b[0m\u001b[1;33m\u001b[0m\u001b[0m\n",
      "\u001b[1;32m~\\Miniconda3\\lib\\site-packages\\SPARQLWrapper\\Wrapper.py\u001b[0m in \u001b[0;36m_query\u001b[1;34m(self)\u001b[0m\n\u001b[0;32m   1083\u001b[0m                 \u001b[1;32mraise\u001b[0m \u001b[0mURITooLong\u001b[0m\u001b[1;33m(\u001b[0m\u001b[0me\u001b[0m\u001b[1;33m.\u001b[0m\u001b[0mread\u001b[0m\u001b[1;33m(\u001b[0m\u001b[1;33m)\u001b[0m\u001b[1;33m)\u001b[0m\u001b[1;33m\u001b[0m\u001b[1;33m\u001b[0m\u001b[0m\n\u001b[0;32m   1084\u001b[0m             \u001b[1;32melif\u001b[0m \u001b[0me\u001b[0m\u001b[1;33m.\u001b[0m\u001b[0mcode\u001b[0m \u001b[1;33m==\u001b[0m \u001b[1;36m500\u001b[0m\u001b[1;33m:\u001b[0m\u001b[1;33m\u001b[0m\u001b[1;33m\u001b[0m\u001b[0m\n\u001b[1;32m-> 1085\u001b[1;33m                 \u001b[1;32mraise\u001b[0m \u001b[0mEndPointInternalError\u001b[0m\u001b[1;33m(\u001b[0m\u001b[0me\u001b[0m\u001b[1;33m.\u001b[0m\u001b[0mread\u001b[0m\u001b[1;33m(\u001b[0m\u001b[1;33m)\u001b[0m\u001b[1;33m)\u001b[0m\u001b[1;33m\u001b[0m\u001b[1;33m\u001b[0m\u001b[0m\n\u001b[0m\u001b[0;32m   1086\u001b[0m             \u001b[1;32melse\u001b[0m\u001b[1;33m:\u001b[0m\u001b[1;33m\u001b[0m\u001b[1;33m\u001b[0m\u001b[0m\n\u001b[0;32m   1087\u001b[0m                 \u001b[1;32mraise\u001b[0m \u001b[0me\u001b[0m\u001b[1;33m\u001b[0m\u001b[1;33m\u001b[0m\u001b[0m\n",
      "\u001b[1;31mEndPointInternalError\u001b[0m: EndPointInternalError: endpoint returned code 500 and response."
     ]
    }
   ],
   "source": [
    "%%time\n",
    "\n",
    "# set sparql endpoint\n",
    "sparql = SPARQLWrapper(\"http://vocab.getty.edu/sparql\")\n",
    "\n",
    "# query\n",
    "sparql.setQuery(\"\"\"\n",
    "PREFIX tgn: <http://vocab.getty.edu/tgn/>\n",
    "PREFIX gvp: <http://vocab.getty.edu/ontology#>\n",
    "PREFIX skos: <http://www.w3.org/2004/02/skos/core#>\n",
    "PREFIX dct: <http://purl.org/dc/terms/>\n",
    "PREFIX bibo: <http://purl.org/ontology/bibo/>\n",
    "PREFIX skosxl: <http://www.w3.org/2008/05/skos-xl#>\n",
    "PREFIX rdf: <http://www.w3.org/1999/02/22-rdf-syntax-ns#>\n",
    "PREFIX iso: <http://purl.org/iso25964/skos-thes#>\n",
    "PREFIX foaf: <http://xmlns.com/foaf/0.1/>\n",
    "PREFIX schema: <http://schema.org/>\n",
    "PREFIX aat: <http://vocab.getty.edu/aat/>\n",
    "PREFIX owl: <http://www.w3.org/2002/07/owl#>\n",
    "\n",
    "select ?p ?name ?birth ?death ?ScopeNote ?related ?rname ?rbirth ?rdeath ?relatedScopeNote\n",
    "{ ulan:500000002 skos:member ?p .\n",
    "optional {?p gvp:prefLabelGVP/xl:literalForm ?name;\n",
    "     \tfoaf:focus/gvp:biographyPreferred [\n",
    "       \tschema:description ?bio;\n",
    "       \tgvp:estStart ?birth].}\n",
    "optional { ?p gvp:prefLabelGVP/xl:literalForm ?name;\n",
    "     \tfoaf:focus/gvp:biographyPreferred [\n",
    "       \tschema:description ?bio;\n",
    "       \tgvp:estEnd ?death]. }\n",
    "optional {?p skos:related ?related . \n",
    "         \t?related skos:scopeNote [dct:language gvp_lang:en; \n",
    "rdf:value ?relatedScopeNote]}  \n",
    "optional {?related gvp:prefLabelGVP/xl:literalForm ?rname;\n",
    " \tfoaf:focus/gvp:biographyPreferred [\n",
    "       \tschema:description ?bio;\n",
    "       \tgvp:estStart ?rbirth].}\n",
    "optional { ?related gvp:prefLabelGVP/xl:literalForm ?rname;\n",
    "     \tfoaf:focus/gvp:biographyPreferred [\n",
    "       \tschema:description ?bio;\n",
    "       \tgvp:estEnd ?rdeath]. }\n",
    "optional {?p skos:scopeNote [dct:language gvp_lang:en; rdf:value ?ScopeNote]}}\n",
    "\"\"\")\n",
    "\n",
    "# returns results as a json\n",
    "sparql.setReturnFormat(JSON)\n",
    "\n",
    "results = sparql.query().convert()"
   ]
  },
  {
   "cell_type": "code",
   "execution_count": 18,
   "id": "45e0c0ed",
   "metadata": {
    "ExecuteTime": {
     "end_time": "2024-05-18T10:29:19.293921Z",
     "start_time": "2024-05-18T10:29:13.743899Z"
    },
    "hidden": true
   },
   "outputs": [
    {
     "data": {
      "text/html": [
       "<div>\n",
       "<style scoped>\n",
       "    .dataframe tbody tr th:only-of-type {\n",
       "        vertical-align: middle;\n",
       "    }\n",
       "\n",
       "    .dataframe tbody tr th {\n",
       "        vertical-align: top;\n",
       "    }\n",
       "\n",
       "    .dataframe thead th {\n",
       "        text-align: right;\n",
       "    }\n",
       "</style>\n",
       "<table border=\"1\" class=\"dataframe\">\n",
       "  <thead>\n",
       "    <tr style=\"text-align: right;\">\n",
       "      <th></th>\n",
       "      <th>p.type</th>\n",
       "      <th>p.value</th>\n",
       "      <th>bio.type</th>\n",
       "      <th>bio.value</th>\n",
       "      <th>name.xml:lang</th>\n",
       "      <th>name.type</th>\n",
       "      <th>name.value</th>\n",
       "      <th>birth.datatype</th>\n",
       "      <th>birth.type</th>\n",
       "      <th>birth.value</th>\n",
       "      <th>death.datatype</th>\n",
       "      <th>death.type</th>\n",
       "      <th>death.value</th>\n",
       "    </tr>\n",
       "  </thead>\n",
       "  <tbody>\n",
       "    <tr>\n",
       "      <th>0</th>\n",
       "      <td>uri</td>\n",
       "      <td>http://vocab.getty.edu/ulan/500771934</td>\n",
       "      <td>literal</td>\n",
       "      <td>North Netherlandish painter, 1743-1776</td>\n",
       "      <td>nl</td>\n",
       "      <td>literal</td>\n",
       "      <td>Aa, Andries van der</td>\n",
       "      <td>http://www.w3.org/2001/XMLSchema#gYear</td>\n",
       "      <td>literal</td>\n",
       "      <td>1743</td>\n",
       "      <td>http://www.w3.org/2001/XMLSchema#gYear</td>\n",
       "      <td>literal</td>\n",
       "      <td>1776</td>\n",
       "    </tr>\n",
       "    <tr>\n",
       "      <th>1</th>\n",
       "      <td>uri</td>\n",
       "      <td>http://vocab.getty.edu/ulan/500557119</td>\n",
       "      <td>literal</td>\n",
       "      <td>Moroccan graphic artist, 1958-</td>\n",
       "      <td>nl</td>\n",
       "      <td>literal</td>\n",
       "      <td>Aabdaoui, Latif</td>\n",
       "      <td>http://www.w3.org/2001/XMLSchema#gYear</td>\n",
       "      <td>literal</td>\n",
       "      <td>1958</td>\n",
       "      <td>http://www.w3.org/2001/XMLSchema#gYear</td>\n",
       "      <td>literal</td>\n",
       "      <td>2035</td>\n",
       "    </tr>\n",
       "    <tr>\n",
       "      <th>2</th>\n",
       "      <td>uri</td>\n",
       "      <td>http://vocab.getty.edu/ulan/500632715</td>\n",
       "      <td>literal</td>\n",
       "      <td>Dutch painter, born 1951</td>\n",
       "      <td>nl</td>\n",
       "      <td>literal</td>\n",
       "      <td>Aa, Ben</td>\n",
       "      <td>http://www.w3.org/2001/XMLSchema#gYear</td>\n",
       "      <td>literal</td>\n",
       "      <td>1951</td>\n",
       "      <td>http://www.w3.org/2001/XMLSchema#gYear</td>\n",
       "      <td>literal</td>\n",
       "      <td>2080</td>\n",
       "    </tr>\n",
       "    <tr>\n",
       "      <th>3</th>\n",
       "      <td>uri</td>\n",
       "      <td>http://vocab.getty.edu/ulan/500546545</td>\n",
       "      <td>literal</td>\n",
       "      <td>Danish ceramicist, 1939-</td>\n",
       "      <td>nl</td>\n",
       "      <td>literal</td>\n",
       "      <td>Aaberg, Gunhild</td>\n",
       "      <td>http://www.w3.org/2001/XMLSchema#gYear</td>\n",
       "      <td>literal</td>\n",
       "      <td>1939</td>\n",
       "      <td>http://www.w3.org/2001/XMLSchema#gYear</td>\n",
       "      <td>literal</td>\n",
       "      <td>2080</td>\n",
       "    </tr>\n",
       "    <tr>\n",
       "      <th>4</th>\n",
       "      <td>uri</td>\n",
       "      <td>http://vocab.getty.edu/ulan/500108834</td>\n",
       "      <td>literal</td>\n",
       "      <td>Norwegian architect, active mid-late 20th century</td>\n",
       "      <td>NaN</td>\n",
       "      <td>literal</td>\n",
       "      <td>Aabergh, Gösta</td>\n",
       "      <td>http://www.w3.org/2001/XMLSchema#gYear</td>\n",
       "      <td>literal</td>\n",
       "      <td>1920</td>\n",
       "      <td>http://www.w3.org/2001/XMLSchema#gYear</td>\n",
       "      <td>literal</td>\n",
       "      <td>2020</td>\n",
       "    </tr>\n",
       "  </tbody>\n",
       "</table>\n",
       "</div>"
      ],
      "text/plain": [
       "  p.type                                p.value bio.type  \\\n",
       "0    uri  http://vocab.getty.edu/ulan/500771934  literal   \n",
       "1    uri  http://vocab.getty.edu/ulan/500557119  literal   \n",
       "2    uri  http://vocab.getty.edu/ulan/500632715  literal   \n",
       "3    uri  http://vocab.getty.edu/ulan/500546545  literal   \n",
       "4    uri  http://vocab.getty.edu/ulan/500108834  literal   \n",
       "\n",
       "                                           bio.value name.xml:lang name.type  \\\n",
       "0             North Netherlandish painter, 1743-1776            nl   literal   \n",
       "1                     Moroccan graphic artist, 1958-            nl   literal   \n",
       "2                           Dutch painter, born 1951            nl   literal   \n",
       "3                           Danish ceramicist, 1939-            nl   literal   \n",
       "4  Norwegian architect, active mid-late 20th century           NaN   literal   \n",
       "\n",
       "            name.value                          birth.datatype birth.type  \\\n",
       "0  Aa, Andries van der  http://www.w3.org/2001/XMLSchema#gYear    literal   \n",
       "1      Aabdaoui, Latif  http://www.w3.org/2001/XMLSchema#gYear    literal   \n",
       "2              Aa, Ben  http://www.w3.org/2001/XMLSchema#gYear    literal   \n",
       "3      Aaberg, Gunhild  http://www.w3.org/2001/XMLSchema#gYear    literal   \n",
       "4       Aabergh, Gösta  http://www.w3.org/2001/XMLSchema#gYear    literal   \n",
       "\n",
       "  birth.value                          death.datatype death.type death.value  \n",
       "0        1743  http://www.w3.org/2001/XMLSchema#gYear    literal        1776  \n",
       "1        1958  http://www.w3.org/2001/XMLSchema#gYear    literal        2035  \n",
       "2        1951  http://www.w3.org/2001/XMLSchema#gYear    literal        2080  \n",
       "3        1939  http://www.w3.org/2001/XMLSchema#gYear    literal        2080  \n",
       "4        1920  http://www.w3.org/2001/XMLSchema#gYear    literal        2020  "
      ]
     },
     "execution_count": 18,
     "metadata": {},
     "output_type": "execute_result"
    }
   ],
   "source": [
    "# traverses the json\n",
    "results_df = pd.json_normalize(results['results']['bindings'])\n",
    "results_df.head()"
   ]
  },
  {
   "cell_type": "markdown",
   "id": "1b6ee01b",
   "metadata": {
    "hidden": true
   },
   "source": [
    "### Load and save file as a pickle"
   ]
  },
  {
   "cell_type": "code",
   "execution_count": null,
   "id": "b51ef3da",
   "metadata": {
    "ExecuteTime": {
     "end_time": "2024-05-17T13:37:18.138420Z",
     "start_time": "2024-05-17T13:37:11.806179Z"
    },
    "hidden": true
   },
   "outputs": [],
   "source": [
    "# with open('result_json.pickle', 'wb') as handle:\n",
    "#     pickle.dump(results, handle, protocol=pickle.HIGHEST_PROTOCOL)\n",
    "\n",
    "# with open('result_json.pickle', 'rb') as handle:\n",
    "#     b = pickle.load(handle)\n",
    "\n",
    "# with open('results_df_all_ulan.pickle', 'wb') as handle:\n",
    "#     pickle.dump(results_df, handle, protocol=pickle.HIGHEST_PROTOCOL)\n",
    "\n",
    "with open('data_dumps/results_df_all_ulan.pickle', 'rb') as handle:\n",
    "    df = pickle.load(handle)"
   ]
  },
  {
   "cell_type": "code",
   "execution_count": null,
   "id": "4c6c4626",
   "metadata": {
    "ExecuteTime": {
     "end_time": "2024-05-17T13:37:20.481944Z",
     "start_time": "2024-05-17T13:37:20.462371Z"
    },
    "hidden": true
   },
   "outputs": [],
   "source": [
    "df.shape"
   ]
  },
  {
   "cell_type": "code",
   "execution_count": null,
   "id": "0da445e3",
   "metadata": {
    "ExecuteTime": {
     "end_time": "2024-05-17T13:37:21.147038Z",
     "start_time": "2024-05-17T13:37:21.106963Z"
    },
    "hidden": true
   },
   "outputs": [],
   "source": [
    "df.head()"
   ]
  },
  {
   "cell_type": "markdown",
   "id": "d5141194",
   "metadata": {
    "heading_collapsed": true
   },
   "source": [
    "## ULAN on roman active painters between 1400 and 1800\n",
    "**Rome (inhabited place)** \n",
    "Note: City positioned on 7 hills over the swampy Tiber river area; one of the oldest continuously occupied sites in Europe. Archaeological evidence attests to human occupation of the area from ca. 14,000 years ago, but the dense layer of later debris obscures Palaeolithic and Neolithic sites. Was an Etruscan city by 8th cen. BCE, their kings expelled and republic established by 500 BCE; soon ruled vast area and was center of Empire from 31 BCE; declined when capital moved to Constantinople in 330 CE; revived under popes."
   ]
  },
  {
   "cell_type": "markdown",
   "id": "c5a7ef9b",
   "metadata": {
    "heading_collapsed": true,
    "hidden": true
   },
   "source": [
    "### Initial SPARQL-query"
   ]
  },
  {
   "cell_type": "code",
   "execution_count": null,
   "id": "d77b19d1",
   "metadata": {
    "ExecuteTime": {
     "end_time": "2024-05-17T12:01:47.798183Z",
     "start_time": "2024-05-17T12:01:40.173230Z"
    },
    "hidden": true
   },
   "outputs": [],
   "source": [
    "# set sparql endpoint\n",
    "sparql = SPARQLWrapper(\"http://vocab.getty.edu/sparql\")\n",
    "\n",
    "# query\n",
    "sparql.setQuery(\"\"\"\n",
    "PREFIX tgn: <http://vocab.getty.edu/tgn/>\n",
    "PREFIX gvp: <http://vocab.getty.edu/ontology#>\n",
    "PREFIX skos: <http://www.w3.org/2004/02/skos/core#>\n",
    "PREFIX dct: <http://purl.org/dc/terms/>\n",
    "PREFIX bibo: <http://purl.org/ontology/bibo/>\n",
    "PREFIX skosxl: <http://www.w3.org/2008/05/skos-xl#>\n",
    "PREFIX rdf: <http://www.w3.org/1999/02/22-rdf-syntax-ns#>\n",
    "PREFIX iso: <http://purl.org/iso25964/skos-thes#>\n",
    "PREFIX foaf: <http://xmlns.com/foaf/0.1/>\n",
    "PREFIX schema: <http://schema.org/>\n",
    "PREFIX aat: <http://vocab.getty.edu/aat/>\n",
    "PREFIX owl: <http://www.w3.org/2002/07/owl#>\n",
    "\n",
    "\n",
    "SELECT ?id ?name ?bio ?birth ?death {\n",
    "{SELECT DISTINCT ?id\n",
    "         {?id foaf:focus/bio:event/(schema:location|(schema:location/gvp:broaderExtended)) tgn:7000874-place}}\n",
    "OPTIONAL { ?id gvp:prefLabelGVP/xl:literalForm ?name;\n",
    "          foaf:focus/gvp:biographyPreferred [\n",
    "          schema:description ?bio;\n",
    "          gvp:estStart ?birth] . }\n",
    "OPTIONAL { ?id gvp:prefLabelGVP/xl:literalForm ?name;\n",
    "          foaf:focus/gvp:biographyPreferred [\n",
    "\t\t  schema:description ?bio;\n",
    "          gvp:estEnd ?death] . }\n",
    "FILTER (\"1000\"^^xsd:gYear <= ?birth && ?birth <= \"1800\"^^xsd:gYear)\n",
    "}\n",
    "\n",
    "\"\"\")\n",
    "\n",
    "# returns results as a json\n",
    "sparql.setReturnFormat(JSON)\n",
    "results = sparql.query().convert()\n",
    "\n",
    "# traverses the json\n",
    "results_df = pd.json_normalize(results['results']['bindings'])\n",
    "results_df"
   ]
  },
  {
   "cell_type": "code",
   "execution_count": null,
   "id": "95d24b15",
   "metadata": {
    "hidden": true
   },
   "outputs": [],
   "source": [
    "results_df"
   ]
  },
  {
   "cell_type": "markdown",
   "id": "3bd01d29",
   "metadata": {
    "hidden": true
   },
   "source": [
    "### Load and save file as a pickle"
   ]
  },
  {
   "cell_type": "code",
   "execution_count": null,
   "id": "cbab79ec",
   "metadata": {
    "ExecuteTime": {
     "end_time": "2023-07-04T18:09:05.150675Z",
     "start_time": "2023-07-04T18:09:05.114723Z"
    },
    "hidden": true
   },
   "outputs": [],
   "source": [
    "# dumps df as a pickle file\n",
    "with open('results_df_roman.pickle', 'wb') as handle:\n",
    "    pickle.dump(results_df, handle, protocol=pickle.HIGHEST_PROTOCOL)\n",
    "    \n",
    "# reads pickle file\n",
    "with open('results_df_roman.pickle', 'rb') as handle:\n",
    "    df = pickle.load(handle)"
   ]
  },
  {
   "cell_type": "code",
   "execution_count": null,
   "id": "f06b64cb",
   "metadata": {
    "ExecuteTime": {
     "end_time": "2023-07-04T18:09:07.016026Z",
     "start_time": "2023-07-04T18:09:06.997076Z"
    },
    "hidden": true
   },
   "outputs": [],
   "source": [
    "df.head()"
   ]
  },
  {
   "cell_type": "markdown",
   "id": "0e84c844",
   "metadata": {
    "hidden": true
   },
   "source": [
    "### Subselects data "
   ]
  },
  {
   "cell_type": "code",
   "execution_count": null,
   "id": "e1f17c15",
   "metadata": {
    "ExecuteTime": {
     "end_time": "2023-07-03T19:23:00.388186Z",
     "start_time": "2023-07-03T19:22:58.145732Z"
    },
    "hidden": true
   },
   "outputs": [],
   "source": [
    "# subset cols\n",
    "df = df[['related.value', 'rname.value', 'rbirth.value', 'rdeath.value']]\n",
    "\n",
    "# change datatype\n",
    "df['rbirth.value'] = df['rbirth.value'].astype(float)\n",
    "df['rdeath.value'] = df['rdeath.value'].astype(float)\n",
    "\n",
    "# get rid of floats, checked can be deleted\n",
    "df = df[(df['rdeath.value'].notnull()) &\n",
    "        (df['rbirth.value'].notnull())]\n",
    "\n",
    "# subselection on active painters\n",
    "df = df[(df['rdeath.value'].astype(int) < 1775) &\n",
    "        (df['rbirth.value'].astype(int) > 1400)]\n",
    "\n",
    "# split data and names\n",
    "df[['last_name','first_name','addition','comment']] = df['rname.value'].str.split(', ', expand=True)"
   ]
  },
  {
   "cell_type": "code",
   "execution_count": null,
   "id": "ccef852f",
   "metadata": {
    "ExecuteTime": {
     "end_time": "2023-07-03T19:23:03.753323Z",
     "start_time": "2023-07-03T19:23:03.718008Z"
    },
    "hidden": true
   },
   "outputs": [],
   "source": [
    "df"
   ]
  },
  {
   "cell_type": "markdown",
   "id": "b8bd1f57",
   "metadata": {
    "heading_collapsed": true
   },
   "source": [
    "## ULAN on European active painters between 1400 and 1800\n",
    "**Europe (continent)** Note: Europe was an early home to Homo erectus, Neanderthal and modern Homo sapiens. Agricultural settlements arose in the 7th millennium BCE. Advanced civilizations developed here in the Mediterranean area with Asian and African influences. Modern European nations began to form after the fall of the Western Roman Empire in the fifth century CE. The late 20th and early 21st centuries have witnessed the formation and expansion of the European Union, a group of European nations allied for trade and some administrative purposes, such as a common currency. "
   ]
  },
  {
   "cell_type": "code",
   "execution_count": null,
   "id": "a1193bf9",
   "metadata": {
    "ExecuteTime": {
     "end_time": "2023-07-16T06:43:39.136063Z",
     "start_time": "2023-07-16T06:43:35.273493Z"
    },
    "hidden": true
   },
   "outputs": [],
   "source": [
    "# set sparql endpoint\n",
    "sparql = SPARQLWrapper(\"http://vocab.getty.edu/sparql\")\n",
    "\n",
    "# query\n",
    "sparql.setQuery(\"\"\"\n",
    "PREFIX tgn: <http://vocab.getty.edu/tgn/>\n",
    "PREFIX gvp: <http://vocab.getty.edu/ontology#>\n",
    "PREFIX skos: <http://www.w3.org/2004/02/skos/core#>\n",
    "PREFIX dct: <http://purl.org/dc/terms/>\n",
    "PREFIX bibo: <http://purl.org/ontology/bibo/>\n",
    "PREFIX skosxl: <http://www.w3.org/2008/05/skos-xl#>\n",
    "PREFIX rdf: <http://www.w3.org/1999/02/22-rdf-syntax-ns#>\n",
    "PREFIX iso: <http://purl.org/iso25964/skos-thes#>\n",
    "PREFIX foaf: <http://xmlns.com/foaf/0.1/>\n",
    "PREFIX schema: <http://schema.org/>\n",
    "PREFIX aat: <http://vocab.getty.edu/aat/>\n",
    "PREFIX owl: <http://www.w3.org/2002/07/owl#>\n",
    "\n",
    "\n",
    "SELECT ?id ?name ?bio ?birth ?death {\n",
    "{SELECT DISTINCT ?id\n",
    "         {?id foaf:focus/bio:event/(schema:location|(schema:location/gvp:broaderExtended)) tgn:7000874-place}}\n",
    "OPTIONAL { ?id gvp:prefLabelGVP/xl:literalForm ?name;\n",
    "          foaf:focus/gvp:biographyPreferred [\n",
    "          schema:description ?bio;\n",
    "          gvp:estStart ?birth] . }\n",
    "OPTIONAL { ?id gvp:prefLabelGVP/xl:literalForm ?name;\n",
    "          foaf:focus/gvp:biographyPreferred [\n",
    "\t\t  schema:description ?bio;\n",
    "          gvp:estEnd ?death] . }\n",
    "FILTER (\"1400\"^^xsd:gYear <= ?birth && ?birth <= \"1800\"^^xsd:gYear)}\n",
    "\n",
    "\"\"\")\n",
    "\n",
    "# returns results as a json\n",
    "sparql.setReturnFormat(JSON)\n",
    "results = sparql.query().convert()\n",
    "\n",
    "# traverses the json\n",
    "results_df = pd.json_normalize(results['results']['bindings'])\n",
    "results_df"
   ]
  },
  {
   "cell_type": "markdown",
   "id": "4b0f2284",
   "metadata": {
    "ExecuteTime": {
     "end_time": "2023-07-16T06:41:34.702038Z",
     "start_time": "2023-07-16T06:41:34.694058Z"
    },
    "heading_collapsed": true
   },
   "source": [
    "## ULAN on active between 1400 and 1750"
   ]
  },
  {
   "cell_type": "code",
   "execution_count": null,
   "id": "a6a58caa",
   "metadata": {
    "ExecuteTime": {
     "end_time": "2023-07-16T06:45:19.897079Z",
     "start_time": "2023-07-16T06:44:27.026057Z"
    },
    "hidden": true
   },
   "outputs": [],
   "source": [
    "# set sparql endpoint\n",
    "sparql = SPARQLWrapper(\"http://vocab.getty.edu/sparql\")\n",
    "\n",
    "# query\n",
    "sparql.setQuery(\"\"\"\n",
    "PREFIX tgn: <http://vocab.getty.edu/tgn/>\n",
    "PREFIX gvp: <http://vocab.getty.edu/ontology#>\n",
    "PREFIX skos: <http://www.w3.org/2004/02/skos/core#>\n",
    "PREFIX dct: <http://purl.org/dc/terms/>\n",
    "PREFIX bibo: <http://purl.org/ontology/bibo/>\n",
    "PREFIX skosxl: <http://www.w3.org/2008/05/skos-xl#>\n",
    "PREFIX rdf: <http://www.w3.org/1999/02/22-rdf-syntax-ns#>\n",
    "PREFIX iso: <http://purl.org/iso25964/skos-thes#>\n",
    "PREFIX foaf: <http://xmlns.com/foaf/0.1/>\n",
    "PREFIX schema: <http://schema.org/>\n",
    "PREFIX aat: <http://vocab.getty.edu/aat/>\n",
    "PREFIX owl: <http://www.w3.org/2002/07/owl#>\n",
    "\n",
    "\n",
    "SELECT ?id ?name ?bio ?place ?birth ?death {\n",
    "{SELECT DISTINCT ?id\n",
    "         {?id foaf:focus/bio:event/(schema:location|(schema:location/gvp:broaderExtended)) ?place}}\n",
    "OPTIONAL { ?id gvp:prefLabelGVP/xl:literalForm ?name;\n",
    "          foaf:focus/gvp:biographyPreferred [\n",
    "          schema:description ?bio;\n",
    "          gvp:estStart ?birth] . }\n",
    "OPTIONAL { ?id gvp:prefLabelGVP/xl:literalForm ?name;\n",
    "          foaf:focus/gvp:biographyPreferred [\n",
    "\t\t  schema:description ?bio;\n",
    "          gvp:estEnd ?death] . }\n",
    "FILTER (\"1400\"^^xsd:gYear <= ?birth && ?birth <= \"1750\"^^xsd:gYear)}\n",
    "\"\"\")\n",
    "\n",
    "# returns results as a json\n",
    "sparql.setReturnFormat(JSON)\n",
    "results = sparql.query().convert()\n",
    "\n",
    "# traverses the json\n",
    "results_df = pd.json_normalize(results['results']['bindings'])\n",
    "results_df"
   ]
  },
  {
   "cell_type": "markdown",
   "id": "aabf06b6",
   "metadata": {},
   "source": [
    "## AAT on Associated Concepts Facet"
   ]
  },
  {
   "cell_type": "code",
   "execution_count": 2,
   "id": "ea3d1b15",
   "metadata": {
    "ExecuteTime": {
     "end_time": "2024-06-02T08:55:28.686938Z",
     "start_time": "2024-06-02T08:55:25.401805Z"
    }
   },
   "outputs": [
    {
     "name": "stdout",
     "output_type": "stream",
     "text": [
      "CPU times: total: 172 ms\n",
      "Wall time: 3.28 s\n"
     ]
    }
   ],
   "source": [
    "%%time\n",
    "# set sparql endpoint\n",
    "sparql = SPARQLWrapper(\"http://vocab.getty.edu/sparql\")\n",
    "\n",
    "# query\n",
    "sparql.setQuery(\"\"\"\n",
    "PREFIX tgn: <http://vocab.getty.edu/tgn/>\n",
    "PREFIX gvp: <http://vocab.getty.edu/ontology#>\n",
    "PREFIX skos: <http://www.w3.org/2004/02/skos/core#>\n",
    "PREFIX dct: <http://purl.org/dc/terms/>\n",
    "PREFIX bibo: <http://purl.org/ontology/bibo/>\n",
    "PREFIX skosxl: <http://www.w3.org/2008/05/skos-xl#>\n",
    "PREFIX rdf: <http://www.w3.org/1999/02/22-rdf-syntax-ns#>\n",
    "PREFIX iso: <http://purl.org/iso25964/skos-thes#>\n",
    "PREFIX foaf: <http://xmlns.com/foaf/0.1/>\n",
    "PREFIX schema: <http://schema.org/>\n",
    "PREFIX aat: <http://vocab.getty.edu/aat/>\n",
    "PREFIX owl: <http://www.w3.org/2002/07/owl#>\n",
    "\n",
    "select distinct ?Subject ?ScopeNote ?Term\n",
    "{\n",
    "  ?Subject gvp:broaderExtended aat:300264086. # Associated Concepts Facet\n",
    "   optional {?Subject skos:scopeNote [dct:language gvp_lang:en; rdf:value ?ScopeNote]}\n",
    "   optional {?Subject gvp:prefLabelGVP [xl:literalForm ?Term]}\n",
    "   }\n",
    "\"\"\")\n",
    "\n",
    "# returns results as a json\n",
    "sparql.setReturnFormat(JSON)\n",
    "results = sparql.query().convert()"
   ]
  },
  {
   "cell_type": "code",
   "execution_count": 4,
   "id": "7d816d26",
   "metadata": {
    "ExecuteTime": {
     "end_time": "2024-06-02T08:55:36.472276Z",
     "start_time": "2024-06-02T08:55:36.318990Z"
    }
   },
   "outputs": [
    {
     "data": {
      "text/html": [
       "<div>\n",
       "<style scoped>\n",
       "    .dataframe tbody tr th:only-of-type {\n",
       "        vertical-align: middle;\n",
       "    }\n",
       "\n",
       "    .dataframe tbody tr th {\n",
       "        vertical-align: top;\n",
       "    }\n",
       "\n",
       "    .dataframe thead th {\n",
       "        text-align: right;\n",
       "    }\n",
       "</style>\n",
       "<table border=\"1\" class=\"dataframe\">\n",
       "  <thead>\n",
       "    <tr style=\"text-align: right;\">\n",
       "      <th></th>\n",
       "      <th>Subject.type</th>\n",
       "      <th>Subject.value</th>\n",
       "      <th>ScopeNote.xml:lang</th>\n",
       "      <th>ScopeNote.type</th>\n",
       "      <th>ScopeNote.value</th>\n",
       "      <th>Term.xml:lang</th>\n",
       "      <th>Term.type</th>\n",
       "      <th>Term.value</th>\n",
       "    </tr>\n",
       "  </thead>\n",
       "  <tbody>\n",
       "    <tr>\n",
       "      <th>0</th>\n",
       "      <td>uri</td>\n",
       "      <td>http://vocab.getty.edu/aat/300189559</td>\n",
       "      <td>en</td>\n",
       "      <td>literal</td>\n",
       "      <td>Referring to the sex that in reproduction norm...</td>\n",
       "      <td>en</td>\n",
       "      <td>literal</td>\n",
       "      <td>male</td>\n",
       "    </tr>\n",
       "    <tr>\n",
       "      <th>1</th>\n",
       "      <td>uri</td>\n",
       "      <td>http://vocab.getty.edu/aat/300189557</td>\n",
       "      <td>en</td>\n",
       "      <td>literal</td>\n",
       "      <td>Referring to the sex that normally produces eg...</td>\n",
       "      <td>en</td>\n",
       "      <td>literal</td>\n",
       "      <td>female</td>\n",
       "    </tr>\n",
       "    <tr>\n",
       "      <th>2</th>\n",
       "      <td>uri</td>\n",
       "      <td>http://vocab.getty.edu/aat/300451703</td>\n",
       "      <td>en</td>\n",
       "      <td>literal</td>\n",
       "      <td>Motility or other conditions that limit a pers...</td>\n",
       "      <td>en</td>\n",
       "      <td>literal</td>\n",
       "      <td>physical disabilities</td>\n",
       "    </tr>\n",
       "    <tr>\n",
       "      <th>3</th>\n",
       "      <td>uri</td>\n",
       "      <td>http://vocab.getty.edu/aat/300266528</td>\n",
       "      <td>en</td>\n",
       "      <td>literal</td>\n",
       "      <td>Persian wool carpets made in Herat, characteri...</td>\n",
       "      <td>en</td>\n",
       "      <td>literal</td>\n",
       "      <td>Herat carpets</td>\n",
       "    </tr>\n",
       "    <tr>\n",
       "      <th>4</th>\n",
       "      <td>uri</td>\n",
       "      <td>http://vocab.getty.edu/aat/300056330</td>\n",
       "      <td>en</td>\n",
       "      <td>literal</td>\n",
       "      <td>Pictorial narrative device featuring two or mo...</td>\n",
       "      <td>en</td>\n",
       "      <td>literal</td>\n",
       "      <td>continuous narration</td>\n",
       "    </tr>\n",
       "  </tbody>\n",
       "</table>\n",
       "</div>"
      ],
      "text/plain": [
       "  Subject.type                         Subject.value ScopeNote.xml:lang  \\\n",
       "0          uri  http://vocab.getty.edu/aat/300189559                 en   \n",
       "1          uri  http://vocab.getty.edu/aat/300189557                 en   \n",
       "2          uri  http://vocab.getty.edu/aat/300451703                 en   \n",
       "3          uri  http://vocab.getty.edu/aat/300266528                 en   \n",
       "4          uri  http://vocab.getty.edu/aat/300056330                 en   \n",
       "\n",
       "  ScopeNote.type                                    ScopeNote.value  \\\n",
       "0        literal  Referring to the sex that in reproduction norm...   \n",
       "1        literal  Referring to the sex that normally produces eg...   \n",
       "2        literal  Motility or other conditions that limit a pers...   \n",
       "3        literal  Persian wool carpets made in Herat, characteri...   \n",
       "4        literal  Pictorial narrative device featuring two or mo...   \n",
       "\n",
       "  Term.xml:lang Term.type             Term.value  \n",
       "0            en   literal                   male  \n",
       "1            en   literal                 female  \n",
       "2            en   literal  physical disabilities  \n",
       "3            en   literal          Herat carpets  \n",
       "4            en   literal   continuous narration  "
      ]
     },
     "execution_count": 4,
     "metadata": {},
     "output_type": "execute_result"
    }
   ],
   "source": [
    "# traverses the json\n",
    "results_df = pd.json_normalize(results['results']['bindings'])\n",
    "results_df.head()"
   ]
  },
  {
   "cell_type": "code",
   "execution_count": 5,
   "id": "5e42d416",
   "metadata": {
    "ExecuteTime": {
     "end_time": "2024-06-02T08:55:40.230879Z",
     "start_time": "2024-06-02T08:55:40.223708Z"
    }
   },
   "outputs": [
    {
     "data": {
      "text/plain": [
       "(12983, 8)"
      ]
     },
     "execution_count": 5,
     "metadata": {},
     "output_type": "execute_result"
    }
   ],
   "source": [
    "results_df.shape"
   ]
  },
  {
   "cell_type": "code",
   "execution_count": 11,
   "id": "849619b9",
   "metadata": {
    "ExecuteTime": {
     "end_time": "2024-05-30T19:54:06.681106Z",
     "start_time": "2024-05-30T19:54:06.636680Z"
    }
   },
   "outputs": [
    {
     "name": "stdout",
     "output_type": "stream",
     "text": [
      "Stored 'results_df' (DataFrame)\n"
     ]
    }
   ],
   "source": [
    "%store results_df"
   ]
  },
  {
   "cell_type": "code",
   "execution_count": 9,
   "id": "801db885",
   "metadata": {
    "ExecuteTime": {
     "end_time": "2024-05-30T19:52:41.695061Z",
     "start_time": "2024-05-30T19:52:41.652449Z"
    }
   },
   "outputs": [],
   "source": [
    "with open('data_dumps/results_df_aat_300264086.pickle', 'wb') as handle:\n",
    "    pickle.dump(results_df, handle, protocol=pickle.HIGHEST_PROTOCOL)"
   ]
  }
 ],
 "metadata": {
  "kernelspec": {
   "display_name": "Kernel (getty-ulan)",
   "language": "python",
   "name": "getty_ulan"
  },
  "language_info": {
   "codemirror_mode": {
    "name": "ipython",
    "version": 3
   },
   "file_extension": ".py",
   "mimetype": "text/x-python",
   "name": "python",
   "nbconvert_exporter": "python",
   "pygments_lexer": "ipython3",
   "version": "3.11.9"
  },
  "toc": {
   "base_numbering": 1,
   "nav_menu": {},
   "number_sections": true,
   "sideBar": true,
   "skip_h1_title": false,
   "title_cell": "Table of Contents",
   "title_sidebar": "Contents",
   "toc_cell": false,
   "toc_position": {},
   "toc_section_display": true,
   "toc_window_display": false
  },
  "varInspector": {
   "cols": {
    "lenName": 16,
    "lenType": 16,
    "lenVar": 40
   },
   "kernels_config": {
    "python": {
     "delete_cmd_postfix": "",
     "delete_cmd_prefix": "del ",
     "library": "var_list.py",
     "varRefreshCmd": "print(var_dic_list())"
    },
    "r": {
     "delete_cmd_postfix": ") ",
     "delete_cmd_prefix": "rm(",
     "library": "var_list.r",
     "varRefreshCmd": "cat(var_dic_list()) "
    }
   },
   "types_to_exclude": [
    "module",
    "function",
    "builtin_function_or_method",
    "instance",
    "_Feature"
   ],
   "window_display": false
  }
 },
 "nbformat": 4,
 "nbformat_minor": 5
}
